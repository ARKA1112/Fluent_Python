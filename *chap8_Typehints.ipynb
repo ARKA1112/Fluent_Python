{
 "cells": [
  {
   "cell_type": "code",
   "execution_count": 2,
   "metadata": {},
   "outputs": [],
   "source": [
    "def show_count(count, word):\n",
    "    if count == 1:\n",
    "        return f'1 {word}'\n",
    "    count_str = str(count) if count else 'no'\n",
    "    return f'{count_str} {word}s'"
   ]
  },
  {
   "cell_type": "code",
   "execution_count": 3,
   "metadata": {},
   "outputs": [
    {
     "data": {
      "text/plain": [
       "'1 birds'"
      ]
     },
     "execution_count": 3,
     "metadata": {},
     "output_type": "execute_result"
    }
   ],
   "source": [
    "show_count(1,'birds')"
   ]
  },
  {
   "cell_type": "code",
   "execution_count": 4,
   "metadata": {},
   "outputs": [],
   "source": [
    "import birds"
   ]
  },
  {
   "cell_type": "code",
   "execution_count": 9,
   "metadata": {},
   "outputs": [
    {
     "name": "stdout",
     "output_type": "stream",
     "text": [
      "Quack\n"
     ]
    }
   ],
   "source": [
    "I = birds.Duck\n",
    "I.quack('I')"
   ]
  },
  {
   "cell_type": "code",
   "execution_count": 12,
   "metadata": {},
   "outputs": [],
   "source": [
    "I = birds.Bird()"
   ]
  },
  {
   "cell_type": "code",
   "execution_count": 14,
   "metadata": {},
   "outputs": [],
   "source": [
    "#birds.alert_bird(I)\n",
    "\n",
    "#Even before the program runs the \n",
    "#mypy checks the code and shows that Duck has no attribute named quack"
   ]
  },
  {
   "cell_type": "code",
   "execution_count": 15,
   "metadata": {},
   "outputs": [],
   "source": [
    "#Refer daffy.py\n",
    "#runs fine because what we pass as daffy is the Duck class and not the bird class\n",
    "#but the mypy typechecker throws the error\n",
    "#but proramme runs fine\n",
    "#cos typechecking is not done in runtime\n",
    "#should the class have been the Bird class it would have thrown error"
   ]
  },
  {
   "cell_type": "markdown",
   "metadata": {},
   "source": [
    "### Types Usable in Annotations"
   ]
  },
  {
   "cell_type": "code",
   "execution_count": 20,
   "metadata": {},
   "outputs": [
    {
     "data": {
      "text/plain": [
       "'33'"
      ]
     },
     "execution_count": 20,
     "metadata": {},
     "output_type": "execute_result"
    }
   ],
   "source": [
    "#The default is dynamic type\n",
    "\n",
    "def double(x:any) -> any:\n",
    "    return x*2\n",
    "\n",
    "double('3')"
   ]
  },
  {
   "cell_type": "code",
   "execution_count": 21,
   "metadata": {},
   "outputs": [],
   "source": [
    "#Example of a function that takes a str, but may return a str or a float:\n",
    "\n",
    "from typing import Union\n",
    "\n",
    "def parse_token(token: str) -> Union[str, float]:\n",
    "    try:\n",
    "        return float(token)\n",
    "    except ValueError:\n",
    "        return token"
   ]
  },
  {
   "cell_type": "code",
   "execution_count": 29,
   "metadata": {},
   "outputs": [],
   "source": [
    "#tokenize with type hints\n",
    "def tokenize(text: str) -> list[str]:\n",
    "    return text.upper().split()"
   ]
  },
  {
   "cell_type": "code",
   "execution_count": 30,
   "metadata": {},
   "outputs": [
    {
     "data": {
      "text/plain": [
       "['ALPHA']"
      ]
     },
     "execution_count": 30,
     "metadata": {},
     "output_type": "execute_result"
    }
   ],
   "source": [
    "tokenize('alpha')"
   ]
  },
  {
   "cell_type": "code",
   "execution_count": 34,
   "metadata": {},
   "outputs": [
    {
     "data": {
      "text/plain": [
       "_Feature((3, 1, 0, 'alpha', 2), (4, 0, 0, 'alpha', 0), 4194304)"
      ]
     },
     "execution_count": 34,
     "metadata": {},
     "output_type": "execute_result"
    }
   ],
   "source": [
    "from __future__ import barry_as_FLUFL\n",
    "barry_as_FLUFL"
   ]
  },
  {
   "cell_type": "code",
   "execution_count": 3,
   "metadata": {},
   "outputs": [],
   "source": [
    "shanghai = 31.2304, 121.4737"
   ]
  },
  {
   "cell_type": "code",
   "execution_count": 4,
   "metadata": {},
   "outputs": [],
   "source": [
    "#Lets see how to annotate tuple types\n",
    "from geolib import geohash as gh\n",
    "\n",
    "\n",
    "PRECISION = 9\n",
    "\n",
    "def geohash(lat_lon: tuple[float, float]) -> str:\n",
    "    return gh.encode(*lat_lon, PRECISION)"
   ]
  },
  {
   "cell_type": "markdown",
   "metadata": {},
   "source": [
    "Tuple Types"
   ]
  },
  {
   "cell_type": "code",
   "execution_count": 5,
   "metadata": {},
   "outputs": [
    {
     "data": {
      "text/plain": [
       "'wtw3sjq6q'"
      ]
     },
     "execution_count": 5,
     "metadata": {},
     "output_type": "execute_result"
    }
   ],
   "source": [
    "geohash(shanghai)"
   ]
  },
  {
   "cell_type": "code",
   "execution_count": 6,
   "metadata": {},
   "outputs": [],
   "source": [
    "from typing import NamedTuple\n",
    "from geolib import geohash as gh\n",
    "\n",
    "PRECISION = 9\n",
    "\n",
    "class Coordinate(NamedTuple):\n",
    "    lat: float\n",
    "    long: float\n",
    "\n",
    "def geohash_(lat_lon: Coordinate):\n",
    "    return gh.encode(*lat_lon, PRECISION)"
   ]
  },
  {
   "cell_type": "code",
   "execution_count": 13,
   "metadata": {},
   "outputs": [
    {
     "data": {
      "text/plain": [
       "Coordinate(lat=31.2304, long=121.4737)"
      ]
     },
     "execution_count": 13,
     "metadata": {},
     "output_type": "execute_result"
    }
   ],
   "source": [
    "shanghai = Coordinate(lat=31.2304, long=121.4737)\n",
    "shanghai"
   ]
  },
  {
   "cell_type": "code",
   "execution_count": 12,
   "metadata": {},
   "outputs": [
    {
     "data": {
      "text/plain": [
       "'wtw3sjq6q'"
      ]
     },
     "execution_count": 12,
     "metadata": {},
     "output_type": "execute_result"
    }
   ],
   "source": [
    "geohash_(shanghai)"
   ]
  },
  {
   "cell_type": "code",
   "execution_count": 14,
   "metadata": {},
   "outputs": [],
   "source": [
    "def display(lat_lon: tuple[float, float]) -> str:\n",
    "    lat, lon = lat_lon\n",
    "    ns = 'N' if lat >= 0 else 'S'\n",
    "    ew = 'E' if lon >= 0 else 'W'\n",
    "\n",
    "    return f'{abs(lat):0.1f}{ns}, {abs(lon): 0.1f}{ew}'"
   ]
  },
  {
   "cell_type": "code",
   "execution_count": 21,
   "metadata": {},
   "outputs": [],
   "source": [
    "#Tuples as immutable sequeces"
   ]
  },
  {
   "cell_type": "code",
   "execution_count": 22,
   "metadata": {},
   "outputs": [],
   "source": [
    "#to define a tuple with integer elements we can do\n",
    "\n",
    "I = tuple[int,...]"
   ]
  },
  {
   "cell_type": "code",
   "execution_count": 26,
   "metadata": {},
   "outputs": [],
   "source": [
    "I = (1,2.5)"
   ]
  },
  {
   "cell_type": "code",
   "execution_count": 27,
   "metadata": {},
   "outputs": [
    {
     "data": {
      "text/plain": [
       "(1, 2.5)"
      ]
     },
     "execution_count": 27,
     "metadata": {},
     "output_type": "execute_result"
    }
   ],
   "source": [
    "I"
   ]
  },
  {
   "cell_type": "code",
   "execution_count": 28,
   "metadata": {},
   "outputs": [],
   "source": [
    "animals = 'drake fawn heron ibex koala lynx tahr xerus yak zapus'.split()"
   ]
  },
  {
   "cell_type": "code",
   "execution_count": 29,
   "metadata": {},
   "outputs": [
    {
     "data": {
      "text/plain": [
       "['drake',\n",
       " 'fawn',\n",
       " 'heron',\n",
       " 'ibex',\n",
       " 'koala',\n",
       " 'lynx',\n",
       " 'tahr',\n",
       " 'xerus',\n",
       " 'yak',\n",
       " 'zapus']"
      ]
     },
     "execution_count": 29,
     "metadata": {},
     "output_type": "execute_result"
    }
   ],
   "source": [
    "table = colum"
   ]
  },
  {
   "cell_type": "markdown",
   "metadata": {},
   "source": [
    "Abstract Base Classes"
   ]
  },
  {
   "cell_type": "markdown",
   "metadata": {},
   "source": [
    "## Left at page 485"
   ]
  },
  {
   "cell_type": "markdown",
   "metadata": {},
   "source": []
  }
 ],
 "metadata": {
  "kernelspec": {
   "display_name": "pylatest",
   "language": "python",
   "name": "python3"
  },
  "language_info": {
   "codemirror_mode": {
    "name": "ipython",
    "version": 3
   },
   "file_extension": ".py",
   "mimetype": "text/x-python",
   "name": "python",
   "nbconvert_exporter": "python",
   "pygments_lexer": "ipython3",
   "version": "3.11.0"
  },
  "orig_nbformat": 4,
  "vscode": {
   "interpreter": {
    "hash": "5ee8ddc627afdb3e464b957ff205c0c7ba35df3a73d146152ad7c4b158eb19da"
   }
  }
 },
 "nbformat": 4,
 "nbformat_minor": 2
}
