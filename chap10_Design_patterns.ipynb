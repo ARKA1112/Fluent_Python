{
 "cells": [
  {
   "cell_type": "markdown",
   "metadata": {},
   "source": [
    "Design Strategy"
   ]
  },
  {
   "cell_type": "markdown",
   "metadata": {},
   "source": [
    "![Alt text](Screenshot%20from%202022-11-12%2009-22-18.png)"
   ]
  },
  {
   "cell_type": "markdown",
   "metadata": {},
   "source": [
    "#### Implementation"
   ]
  },
  {
   "cell_type": "code",
   "execution_count": 1,
   "metadata": {},
   "outputs": [],
   "source": [
    "from abc import ABC, abstractmethod\n",
    "from collections.abc import Sequence\n",
    "from decimal import Decimal\n",
    "from typing import NamedTuple, Optional\n",
    "\n",
    "class Customer(NamedTuple):\n",
    "    name: str\n",
    "    fidelity: int\n",
    "\n",
    "\n",
    "class LineItem(NamedTuple):\n",
    "    product: str\n",
    "    quantity: int\n",
    "    price: Decimal\n",
    "\n",
    "\n",
    "    def total(self) -> Decimal:\n",
    "        return self.price * self.quantity\n",
    "    \n",
    "\n",
    "class Order(NamedTuple):\n",
    "    customer: Customer\n",
    "    cart: Sequence[LineItem]\n",
    "    promotion: Optional['Promotion'] = None\n",
    "\n",
    "    def total(self):\n",
    "        totals = (item.total() for item in self.cart)\n",
    "        return sum(totals, start=Decimal(0))\n",
    "    \n",
    "    def due(self):\n",
    "        if self.promotion is None:\n",
    "            discount = Decimal(0)\n",
    "        else:\n",
    "            discount = self.promotion.discount(self)\n",
    "        return self.total() - discount\n",
    "    \n",
    "    def __repr__(self) -> str:\n",
    "        return f'<Order total: {self.total():.2f} due: {self.due():.2f}>'\n",
    "    \n",
    "\n",
    "class Promotion(ABC):\n",
    "    @abstractmethod\n",
    "    def discount(self, order: Order) -> Decimal:\n",
    "        \"\"\"Return discount as a positive dollar amount\"\"\"\n",
    "\n",
    "\n",
    "class FidelityPromo(Promotion):\n",
    "\n",
    "    def discount(self, order: Order):\n",
    "        rate = Decimal('0.05')\n",
    "        if order.customer.fidelity >= 1000:\n",
    "            return order.total() * rate\n",
    "        return Decimal(0)\n",
    "    \n",
    "\n",
    "class BulkItemPromo(Promotion):\n",
    "    \"\"\"10% discount for each LineItem with 20 or more units\"\"\"\n",
    "\n",
    "    def discount(self, order: Order) -> Decimal:\n",
    "        discount = Decimal(0)\n",
    "        for item in order.cart:\n",
    "            if item.quantity >= 20:\n",
    "                discount += item.total() * Decimal('0.1')\n",
    "        return discount\n",
    "    \n",
    "class LargeOrderPromot(Promotion):\n",
    "    \"\"\"7% discount for orders with 10 or more distinct items\"\"\"\n",
    "\n",
    "    def discount(self, order: Order) -> Decimal:\n",
    "        distinct_items = {item.product for item in order.cart}\n",
    "        if len(distinct_items) >= 10:\n",
    "            return order.total() * Decimal('0.07')\n",
    "        return Decimal(0)"
   ]
  },
  {
   "cell_type": "code",
   "execution_count": 3,
   "metadata": {},
   "outputs": [
    {
     "data": {
      "text/plain": [
       "<Order total: 42.00 due: 42.00>"
      ]
     },
     "execution_count": 3,
     "metadata": {},
     "output_type": "execute_result"
    }
   ],
   "source": [
    "joe = Customer('John Doe', 0)\n",
    "ann = Customer('Ann SMith', 1100)\n",
    "cart = (LineItem('banana',4, Decimal('0.5')),\n",
    "LineItem('apple',10, Decimal('1.5')),\n",
    "    LineItem('watermelon',5,Decimal(5)))\n",
    "\n",
    "Order(joe, cart, FidelityPromo())"
   ]
  },
  {
   "cell_type": "code",
   "execution_count": 5,
   "metadata": {},
   "outputs": [],
   "source": [
    "banana_cart = (LineItem('banana', 30, Decimal('.5')), LineItem('apple', 10, Decimal('1.5')))"
   ]
  },
  {
   "cell_type": "code",
   "execution_count": 7,
   "metadata": {},
   "outputs": [],
   "source": [
    "Order(joe, banana_cart, BulkItemPromo())\n",
    "long_cart = tuple(LineItem(str(sku), 1, Decimal(1)) for sku in range(10))"
   ]
  },
  {
   "cell_type": "code",
   "execution_count": 8,
   "metadata": {},
   "outputs": [
    {
     "data": {
      "text/plain": [
       "<Order total: 10.00 due: 9.30>"
      ]
     },
     "execution_count": 8,
     "metadata": {},
     "output_type": "execute_result"
    }
   ],
   "source": [
    "Order(joe, long_cart, LargeOrderPromot())"
   ]
  },
  {
   "cell_type": "markdown",
   "metadata": {},
   "source": [
    "Finding Strategies in a Module"
   ]
  },
  {
   "cell_type": "markdown",
   "metadata": {},
   "source": [
    "The Command Pattern"
   ]
  },
  {
   "cell_type": "markdown",
   "metadata": {},
   "source": [
    "![Alt text](Screenshot%20from%202022-11-12%2015-59-35.png)"
   ]
  },
  {
   "cell_type": "code",
   "execution_count": null,
   "metadata": {},
   "outputs": [],
   "source": []
  }
 ],
 "metadata": {
  "kernelspec": {
   "display_name": "pylatest",
   "language": "python",
   "name": "python3"
  },
  "language_info": {
   "codemirror_mode": {
    "name": "ipython",
    "version": 3
   },
   "file_extension": ".py",
   "mimetype": "text/x-python",
   "name": "python",
   "nbconvert_exporter": "python",
   "pygments_lexer": "ipython3",
   "version": "3.11.0"
  },
  "orig_nbformat": 4,
  "vscode": {
   "interpreter": {
    "hash": "5ee8ddc627afdb3e464b957ff205c0c7ba35df3a73d146152ad7c4b158eb19da"
   }
  }
 },
 "nbformat": 4,
 "nbformat_minor": 2
}
