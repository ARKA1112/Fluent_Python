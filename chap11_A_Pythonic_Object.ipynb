{
 "cells": [
  {
   "attachments": {},
   "cell_type": "markdown",
   "metadata": {},
   "source": [
    "Object Representations\n"
   ]
  },
  {
   "cell_type": "code",
   "execution_count": 2,
   "metadata": {},
   "outputs": [
    {
     "data": {
      "text/plain": [
       "'Every object oriented language has at least one standard way of gettting a string representation from any object. Python has two'"
      ]
     },
     "execution_count": 2,
     "metadata": {},
     "output_type": "execute_result"
    }
   ],
   "source": [
    "\"\"\"Every object oriented language has at least one standard way of gettting a string representation from any object. Python has two\"\"\"\n",
    "\n",
    "#repr() Return a string representation as the dev wants to see it\n",
    "#str()  Return a string representing the object as teh user wants to see it"
   ]
  },
  {
   "cell_type": "code",
   "execution_count": 4,
   "metadata": {},
   "outputs": [],
   "source": [
    "#refer vector2d_v0.py\n"
   ]
  },
  {
   "cell_type": "code",
   "execution_count": 12,
   "metadata": {},
   "outputs": [
    {
     "data": {
      "text/plain": [
       "Vector2d(3.0, 4.0)"
      ]
     },
     "execution_count": 12,
     "metadata": {},
     "output_type": "execute_result"
    }
   ],
   "source": [
    "from vector2d_v0 import Vector2d\n",
    "\n",
    "v1 = Vector2d(3,4)\n",
    "v1"
   ]
  },
  {
   "cell_type": "code",
   "execution_count": 14,
   "metadata": {},
   "outputs": [],
   "source": [
    "abs(v1)\n",
    "v1_clone = eval(repr(v1))"
   ]
  },
  {
   "cell_type": "code",
   "execution_count": 15,
   "metadata": {},
   "outputs": [
    {
     "data": {
      "text/plain": [
       "False"
      ]
     },
     "execution_count": 15,
     "metadata": {},
     "output_type": "execute_result"
    }
   ],
   "source": [
    "v1 == v1_clone"
   ]
  },
  {
   "attachments": {},
   "cell_type": "markdown",
   "metadata": {},
   "source": [
    "An Alternative Constructor"
   ]
  },
  {
   "attachments": {},
   "cell_type": "markdown",
   "metadata": {},
   "source": [
    "Classmethod vs Staticmethod"
   ]
  },
  {
   "cell_type": "code",
   "execution_count": 16,
   "metadata": {},
   "outputs": [],
   "source": [
    "#Class method receives the Demo class as the first argument no matter what\n",
    "#Statisc method works like normal method"
   ]
  },
  {
   "attachments": {},
   "cell_type": "markdown",
   "metadata": {},
   "source": [
    "Formatted Displays"
   ]
  },
  {
   "cell_type": "code",
   "execution_count": 21,
   "metadata": {},
   "outputs": [
    {
     "data": {
      "text/plain": [
       "'1 USD = 4.82 BRL'"
      ]
     },
     "execution_count": 21,
     "metadata": {},
     "output_type": "execute_result"
    }
   ],
   "source": [
    "brl = 1/4.82\n",
    "format(brl, '0.2f') #Round off\n",
    "'1 BRL = {rate:0.2f} USD'.format(rate=brl)\n",
    "f'1 USD = {1/brl:0.2f} BRL'"
   ]
  },
  {
   "cell_type": "code",
   "execution_count": 23,
   "metadata": {},
   "outputs": [
    {
     "data": {
      "text/plain": [
       "'101010'"
      ]
     },
     "execution_count": 23,
     "metadata": {},
     "output_type": "execute_result"
    }
   ],
   "source": [
    "#using more formats\n",
    "\n",
    "format(42, 'b')  #translate to bytecode"
   ]
  },
  {
   "cell_type": "code",
   "execution_count": 25,
   "metadata": {},
   "outputs": [
    {
     "data": {
      "text/plain": [
       "'0.33'"
      ]
     },
     "execution_count": 25,
     "metadata": {},
     "output_type": "execute_result"
    }
   ],
   "source": [
    "format(1/3,'0.3f')  #upto 3 decimal places\n",
    "\n"
   ]
  },
  {
   "cell_type": "code",
   "execution_count": 28,
   "metadata": {},
   "outputs": [
    {
     "data": {
      "text/plain": [
       "'The format is 0.33'"
      ]
     },
     "execution_count": 28,
     "metadata": {},
     "output_type": "execute_result"
    }
   ],
   "source": [
    "f'The format is {1/3:0.2f}'"
   ]
  },
  {
   "cell_type": "code",
   "execution_count": 37,
   "metadata": {},
   "outputs": [
    {
     "data": {
      "text/plain": [
       "'Its now 01:16 PM'"
      ]
     },
     "execution_count": 37,
     "metadata": {},
     "output_type": "execute_result"
    }
   ],
   "source": [
    "from datetime import datetime\n",
    "now = datetime.now()\n",
    "format(now, '%H:%M:%S')\n",
    "f'Its now {now:%H:%M:%S}'\n",
    "'Its now {:%I:%M %p}'.format(now)"
   ]
  },
  {
   "cell_type": "code",
   "execution_count": 38,
   "metadata": {},
   "outputs": [],
   "source": [
    "#If a class has no __format__, the method inherited from object returns str(my_object). Because Vector2d has a __str__, this works:"
   ]
  },
  {
   "cell_type": "code",
   "execution_count": 105,
   "metadata": {},
   "outputs": [
    {
     "data": {
      "text/plain": [
       "<module 'vector2d_v0' from '/home/susearc/Documents/github/Fluent_Python/vector2d_v0.py'>"
      ]
     },
     "execution_count": 105,
     "metadata": {},
     "output_type": "execute_result"
    }
   ],
   "source": [
    "import vector2d_v0\n",
    "from importlib import reload\n",
    "\n",
    "reload(vector2d_v0)\n"
   ]
  },
  {
   "cell_type": "code",
   "execution_count": 106,
   "metadata": {},
   "outputs": [
    {
     "data": {
      "text/plain": [
       "34.0"
      ]
     },
     "execution_count": 106,
     "metadata": {},
     "output_type": "execute_result"
    }
   ],
   "source": [
    "v1 = vector2d_v0.Vector2d(34,3)\n",
    "v1.x"
   ]
  },
  {
   "cell_type": "code",
   "execution_count": 107,
   "metadata": {},
   "outputs": [
    {
     "data": {
      "text/plain": [
       "-8506001151984164817"
      ]
     },
     "execution_count": 107,
     "metadata": {},
     "output_type": "execute_result"
    }
   ],
   "source": [
    "hash(v1)"
   ]
  },
  {
   "cell_type": "code",
   "execution_count": 92,
   "metadata": {},
   "outputs": [
    {
     "data": {
      "text/plain": [
       "(34+3j)"
      ]
     },
     "execution_count": 92,
     "metadata": {},
     "output_type": "execute_result"
    }
   ],
   "source": [
    "v1.__complex__()"
   ]
  },
  {
   "cell_type": "code",
   "execution_count": 93,
   "metadata": {},
   "outputs": [
    {
     "data": {
      "text/plain": [
       "(34+3j)"
      ]
     },
     "execution_count": 93,
     "metadata": {},
     "output_type": "execute_result"
    }
   ],
   "source": [
    "complex(v1)"
   ]
  },
  {
   "attachments": {},
   "cell_type": "markdown",
   "metadata": {},
   "source": [
    "Support Positional Pattern Matching"
   ]
  },
  {
   "cell_type": "markdown",
   "metadata": {},
   "source": []
  },
  {
   "attachments": {},
   "cell_type": "markdown",
   "metadata": {},
   "source": [
    "Private and \"Protected\" attributes in Python"
   ]
  },
  {
   "cell_type": "code",
   "execution_count": 94,
   "metadata": {},
   "outputs": [
    {
     "data": {
      "text/plain": [
       "{'x': 3.0, 'y': 4.0}"
      ]
     },
     "execution_count": 94,
     "metadata": {},
     "output_type": "execute_result"
    }
   ],
   "source": [
    "v1  =  Vector2d(3,4)\n",
    "v1.__dict__"
   ]
  },
  {
   "attachments": {},
   "cell_type": "markdown",
   "metadata": {},
   "source": [
    "Saving Memory with `__slots__`"
   ]
  },
  {
   "cell_type": "code",
   "execution_count": 110,
   "metadata": {},
   "outputs": [
    {
     "data": {
      "text/plain": [
       "mappingproxy({'__module__': 'vector2d_v0',\n",
       "              'typecode': 'd',\n",
       "              '__init__': <function vector2d_v0.Vector2d.__init__(self, x, y)>,\n",
       "              '__iter__': <function vector2d_v0.Vector2d.__iter__(self)>,\n",
       "              '__repr__': <function vector2d_v0.Vector2d.__repr__(self) -> str>,\n",
       "              '__str__': <function vector2d_v0.Vector2d.__str__(self)>,\n",
       "              '__bytes__': <function vector2d_v0.Vector2d.__bytes__(self)>,\n",
       "              '__abs__': <function vector2d_v0.Vector2d.__abs__(self)>,\n",
       "              '__bool__': <function vector2d_v0.Vector2d.__bool__(self)>,\n",
       "              '__dict__': <attribute '__dict__' of 'Vector2d' objects>,\n",
       "              '__weakref__': <attribute '__weakref__' of 'Vector2d' objects>,\n",
       "              '__doc__': None})"
      ]
     },
     "execution_count": 110,
     "metadata": {},
     "output_type": "execute_result"
    }
   ],
   "source": [
    "Vector2d.__dict__"
   ]
  },
  {
   "cell_type": "code",
   "execution_count": 112,
   "metadata": {},
   "outputs": [],
   "source": [
    "#By default Python stores the attributes fo each instance in a dict named __dict__ As we saw in practival consequenecs of how dict works a dict has a significant memeory overhead even with the optimization s mentioned in that section.\n",
    "\n",
    "\n",
    "#But if you define a class attribute named __slots__ holding a sequence of attribute names, python uses an alternative storage model  for  the instance attributes the attributes named in __slots__ are stored in a hidden array or references that use less memory than a dict. "
   ]
  },
  {
   "cell_type": "code",
   "execution_count": 158,
   "metadata": {},
   "outputs": [
    {
     "data": {
      "text/plain": [
       "\"p.color = 'blue'\""
      ]
     },
     "execution_count": 158,
     "metadata": {},
     "output_type": "execute_result"
    }
   ],
   "source": [
    "#Example\n",
    "\n",
    "class Pixel:\n",
    "    __slots__ = ('x', 'y', 'color')\n",
    "\n",
    "    def __repr__(self) -> str:\n",
    "        return f'{[i for i in Pixel.__slots__]}'\n",
    "    \n",
    "    def __str__(self) -> str:\n",
    "        return f'There are {len(Pixel.__slots__)} attributes which are in the slot ie {[i for i in Pixel.__slots__]}'\n",
    "\n",
    "p = Pixel()\n",
    "\"\"\"p.__dict__\"\"\"  #Throws error as the instance doesnt have any dict attribute as the slot stores it in a hidden storage model that uses less space than the dict\n",
    "\n",
    "p.x = 12\n",
    "p.y = 'star'\n",
    "p.color = 'black'\n",
    "\n",
    "\"\"\"p.color = 'blue'\"\"\"  #Throws error because there are no slots named color"
   ]
  },
  {
   "cell_type": "code",
   "execution_count": 159,
   "metadata": {},
   "outputs": [
    {
     "data": {
      "text/plain": [
       "['x', 'y', 'color']"
      ]
     },
     "execution_count": 159,
     "metadata": {},
     "output_type": "execute_result"
    }
   ],
   "source": [
    "p"
   ]
  },
  {
   "cell_type": "code",
   "execution_count": 160,
   "metadata": {},
   "outputs": [
    {
     "name": "stdout",
     "output_type": "stream",
     "text": [
      "There are 3 attributes which are in the slot ie ['x', 'y', 'color']\n"
     ]
    }
   ],
   "source": [
    "print(p)"
   ]
  },
  {
   "cell_type": "code",
   "execution_count": 148,
   "metadata": {},
   "outputs": [],
   "source": [
    "#Now lets create the subclass of the parent class Pixel\n",
    "\n",
    "class OpenPixel(Pixel):\n",
    "    pass"
   ]
  },
  {
   "cell_type": "code",
   "execution_count": 163,
   "metadata": {},
   "outputs": [],
   "source": [
    "v = OpenPixel()\n",
    "v.x, v.y = 12,12\n",
    "v.__dict__  #Gets the regular dict as it has no slot attribute built in\n",
    "v.color = 'gray'\n",
    "v.bar = None"
   ]
  },
  {
   "cell_type": "code",
   "execution_count": 165,
   "metadata": {},
   "outputs": [
    {
     "data": {
      "text/plain": [
       "{'bar': None}"
      ]
     },
     "execution_count": 165,
     "metadata": {},
     "output_type": "execute_result"
    }
   ],
   "source": [
    "v.__dict__  #The Color,x,y attributes are not shown because they are inherited from the Pixel superclass in which they were slot attributes"
   ]
  },
  {
   "cell_type": "code",
   "execution_count": 166,
   "metadata": {},
   "outputs": [],
   "source": [
    "#If you declare __slots__ = () an empty tuple then the instances of the subclass will have not __dict__ and will only accept the attributes named in the __slots__ of the base class."
   ]
  },
  {
   "cell_type": "code",
   "execution_count": 172,
   "metadata": {},
   "outputs": [],
   "source": [
    "#For example\n",
    "\n",
    "class ColorPixel(Pixel):\n",
    "    __slots__ = ('bar')\n",
    "\n",
    "cp = ColorPixel()\n",
    "cp.x = 12\n",
    "cp.bar = 'orange'\n",
    "#cp.flavor = 'perk' wont work because there is no __dict__ and the __slots__ has been initiated"
   ]
  },
  {
   "cell_type": "code",
   "execution_count": 173,
   "metadata": {},
   "outputs": [],
   "source": [
    "class Vector2d:\n",
    "    __match_args__ = ('x', 'y')  \n",
    "    __slots__ = ('__x', '__y')\n",
    "\n",
    "    typecode = 'd' \n",
    "\n",
    "    #Rest of the methods are same as previous version"
   ]
  },
  {
   "cell_type": "code",
   "execution_count": 1,
   "metadata": {},
   "outputs": [],
   "source": [
    "#Overriding Class Attributes"
   ]
  },
  {
   "cell_type": "code",
   "execution_count": 10,
   "metadata": {},
   "outputs": [],
   "source": [
    "from vector2d_v0 import Vector2d\n",
    "\n",
    "v1 = Vector2d(1.1,1.2)\n",
    "dumpd = bytes(v1)\n",
    "dumpd\n",
    "#v1.typecode = 'f'\n",
    "dumpf = bytes(v1)\n",
    "\n",
    "class ShortVector2d(Vector2d):\n",
    "    typecode = 'f'"
   ]
  },
  {
   "cell_type": "code",
   "execution_count": 12,
   "metadata": {},
   "outputs": [
    {
     "data": {
      "text/plain": [
       "ShortVector2d(0.09090909090909091, 0.037037037037037035)"
      ]
     },
     "execution_count": 12,
     "metadata": {},
     "output_type": "execute_result"
    }
   ],
   "source": [
    "sv = ShortVector2d(1/11,1/27)\n",
    "sv"
   ]
  },
  {
   "cell_type": "code",
   "execution_count": null,
   "metadata": {},
   "outputs": [],
   "source": []
  }
 ],
 "metadata": {
  "kernelspec": {
   "display_name": "arka",
   "language": "python",
   "name": "python3"
  },
  "language_info": {
   "codemirror_mode": {
    "name": "ipython",
    "version": 3
   },
   "file_extension": ".py",
   "mimetype": "text/x-python",
   "name": "python",
   "nbconvert_exporter": "python",
   "pygments_lexer": "ipython3",
   "version": "3.10.6"
  },
  "orig_nbformat": 4,
  "vscode": {
   "interpreter": {
    "hash": "fa46da6b9307ef350aad613908c1591a068b15a96db2be16e9d9e053b74e28ee"
   }
  }
 },
 "nbformat": 4,
 "nbformat_minor": 2
}
