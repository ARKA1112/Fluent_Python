{
 "cells": [
  {
   "attachments": {},
   "cell_type": "markdown",
   "metadata": {},
   "source": [
    "Operator Overloading 101"
   ]
  },
  {
   "cell_type": "code",
   "execution_count": 5,
   "metadata": {},
   "outputs": [
    {
     "data": {
      "text/plain": [
       "(Decimal('0.333333333333333333'),\n",
       " Decimal('0.3333333333333333333333333333333333333333'))"
      ]
     },
     "execution_count": 5,
     "metadata": {},
     "output_type": "execute_result"
    }
   ],
   "source": [
    "#case where x!=+x\n",
    "\n",
    "import decimal\n",
    "\n",
    "ctx = decimal.getcontext()\n",
    "ctx.prec = 40\n",
    "one_third = decimal.Decimal('1')/decimal.Decimal('3')\n",
    "one_third == +one_third\n",
    "ctx.prec = 18\n",
    "one_third == +one_third\n",
    "+one_third,one_third   #thats why"
   ]
  },
  {
   "cell_type": "code",
   "execution_count": 14,
   "metadata": {},
   "outputs": [
    {
     "data": {
      "text/plain": [
       "(Counter({'a': 5, 'b': 2, 'r': -3, 'c': 1, 'd': 0}),\n",
       " Counter({'a': 5, 'b': 2, 'c': 1}))"
      ]
     },
     "execution_count": 14,
     "metadata": {},
     "output_type": "execute_result"
    }
   ],
   "source": [
    "#Unary + produces a new counter without zeroed or negative tallies\n",
    "#a case of x!=+x\n",
    "from collections import Counter\n",
    "\n",
    "ct = Counter('abracadabra')\n",
    "ct['r'] = -3\n",
    "\n",
    "ct['d'] = 0\n",
    "ct,+ct\n",
    "#+ct filters only the values greater than zero or the +ve values"
   ]
  },
  {
   "attachments": {},
   "cell_type": "markdown",
   "metadata": {},
   "source": [
    "Overloading + for Vector Addition"
   ]
  },
  {
   "cell_type": "code",
   "execution_count": null,
   "metadata": {},
   "outputs": [],
   "source": [
    "#As per the offictial python documentation sequences should support the + concatenation and * for repition.\n",
    "\n",
    "#However we will implement + and * as mathematical vector operation which are a bit harder but more meaning ful for a vector type\n",
    "#based on the vector we createde\n",
    "\n",
    "v_concatenated = Vector(list(v1) + list(v2))\n",
    "v_repeated = Vector(tuple(v1) + 5)\n"
   ]
  },
  {
   "cell_type": "code",
   "execution_count": null,
   "metadata": {},
   "outputs": [],
   "source": []
  }
 ],
 "metadata": {
  "kernelspec": {
   "display_name": "pylatest",
   "language": "python",
   "name": "python3"
  },
  "language_info": {
   "codemirror_mode": {
    "name": "ipython",
    "version": 3
   },
   "file_extension": ".py",
   "mimetype": "text/x-python",
   "name": "python",
   "nbconvert_exporter": "python",
   "pygments_lexer": "ipython3",
   "version": "3.11.0"
  },
  "orig_nbformat": 4,
  "vscode": {
   "interpreter": {
    "hash": "5ee8ddc627afdb3e464b957ff205c0c7ba35df3a73d146152ad7c4b158eb19da"
   }
  }
 },
 "nbformat": 4,
 "nbformat_minor": 2
}
