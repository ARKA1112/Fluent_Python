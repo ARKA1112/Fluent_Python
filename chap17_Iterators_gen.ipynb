{
 "cells": [
  {
   "attachments": {},
   "cell_type": "markdown",
   "metadata": {},
   "source": [
    "Iterators, Generators and Classic Coroutines"
   ]
  },
  {
   "cell_type": "code",
   "execution_count": 10,
   "metadata": {},
   "outputs": [],
   "source": [
    "import sentence\n",
    "from sentence import Sentence\n",
    "s = Sentence('\"The time has come,\" the Walrus said,')"
   ]
  },
  {
   "cell_type": "code",
   "execution_count": 15,
   "metadata": {},
   "outputs": [
    {
     "name": "stdout",
     "output_type": "stream",
     "text": [
      "The\n",
      "time\n",
      "has\n",
      "come\n",
      "the\n",
      "Walrus\n",
      "said\n"
     ]
    },
    {
     "data": {
      "text/plain": [
       "'said'"
      ]
     },
     "execution_count": 15,
     "metadata": {},
     "output_type": "execute_result"
    }
   ],
   "source": [
    "for words in s:\n",
    "    print(words,sep='\\t')\n",
    "\n",
    "list(s)\n",
    "s[0]\n",
    "s[5]\n",
    "s[-1]"
   ]
  },
  {
   "attachments": {},
   "cell_type": "markdown",
   "metadata": {},
   "source": [
    "Why Sequences Are Iterable: The iter Function"
   ]
  },
  {
   "cell_type": "code",
   "execution_count": 1,
   "metadata": {},
   "outputs": [],
   "source": [
    "#Whenever Python needs to iterate over an object x, it automatically calls iter(x).\n",
    "\n",
    "#The iter built in function:\n",
    "\n",
    "#1 Checks whether the object implements __iter__ and calls that to obtain an iterator.\n",
    "\n",
    "#2 If __iter__ is not implemented but __getitem__ is then iter() creates an iterator that tries to fetch items by index starting form 0\n",
    "\n",
    "#3 If that fails, Python raised TypeError usually sayign C object is not iterable where c is the class of the target object."
   ]
  },
  {
   "attachments": {},
   "cell_type": "markdown",
   "metadata": {},
   "source": [
    "Imp"
   ]
  },
  {
   "cell_type": "code",
   "execution_count": 2,
   "metadata": {},
   "outputs": [],
   "source": [
    "#Hence clearly an object is not only considered iterable when it necessarily inherits the iter method but also iterable if it only inherits the getitem method."
   ]
  },
  {
   "cell_type": "code",
   "execution_count": 3,
   "metadata": {},
   "outputs": [],
   "source": [
    "#Hence all the sequnce objects have either the iter or the getitem method"
   ]
  },
  {
   "cell_type": "code",
   "execution_count": null,
   "metadata": {},
   "outputs": [],
   "source": [
    "class Spam:\n",
    "    def __getitem__(self, i):\n",
    "        print('->', i)\n",
    "        raise IndexError()\n",
    "\n",
    "\n",
    "spam_can  =Spam()\n",
    "iter(spam_can)\n",
    "list(spam_can)\n",
    "\n",
    "#checking if iterable\n",
    "\n",
    "from collections import abc\n",
    "isinstance(spam_can, abc.Iterable)\n",
    "class GooseSpam:\n",
    "    def __iter__(self):\n",
    "        pass\n",
    "from collections import abc\n",
    "issubclass(GooseSpam, abc.Iterable)\n",
    "goose_spam_can = GooseSpam()\n",
    "isinstance(goose_spam_can, abc.Iterable)"
   ]
  },
  {
   "attachments": {},
   "cell_type": "markdown",
   "metadata": {},
   "source": [
    "#Imp"
   ]
  },
  {
   "cell_type": "code",
   "execution_count": 21,
   "metadata": {},
   "outputs": [],
   "source": [
    "#the most accurate way to check whether an object x is iterable is to call iter(x) and handle a TypeError exception if it isnt. THis is more accurate than using isinstance and issubclass because iter(x) aso considers the legacy __getitem__ method while Iterable ABC does not.\n"
   ]
  },
  {
   "cell_type": "code",
   "execution_count": 9,
   "metadata": {},
   "outputs": [
    {
     "name": "stdout",
     "output_type": "stream",
     "text": [
      "6\n",
      "5\n"
     ]
    }
   ],
   "source": [
    "#Using iter with a Callable\n",
    "from random import randint\n",
    "def d6():\n",
    "    return randint(1,6)  #Generates random integer between 1 and 6\n",
    "\n",
    "d6_iter = iter(d6,1)   #Iterates until 1 is reached\n",
    "\n",
    "for roll in d6_iter:\n",
    "    print(roll)"
   ]
  },
  {
   "cell_type": "code",
   "execution_count": null,
   "metadata": {},
   "outputs": [],
   "source": [
    "#One useful application of the second form of iter() is to build a block reader. For example reading fixed width blocks form a binary database file until the end of file is readched:\n",
    "\n",
    "from functools import partial\n",
    "\n",
    "with open('mydata.db', 'rb') as f:\n",
    "    read64 = partial(f.read, 64)\n",
    "    for block in iter(read64, b''):\n",
    "        process_block(block)"
   ]
  },
  {
   "attachments": {},
   "cell_type": "markdown",
   "metadata": {},
   "source": [
    "Iterables Versus Iterators"
   ]
  },
  {
   "cell_type": "code",
   "execution_count": 19,
   "metadata": {},
   "outputs": [
    {
     "name": "stdout",
     "output_type": "stream",
     "text": [
      "A\n",
      "B\n",
      "C\n"
     ]
    }
   ],
   "source": [
    "#iterable\n",
    "\n",
    "#Any object form which the iter built in funciton can obtain an iterator. Objects implementing __iter__ method returning an iterator are iterable. Sequences are always iterable as are objects implementing a __getitem__ method that accepts 0 based indexes.\n",
    "\n",
    "#Here is a simple for loop iterating over a str. The str 'ABC' is the iterable here. You dont see it but there is an iterator behind the curtain.\n",
    "from collections import abc\n",
    "s = 'ABC'\n",
    "for char in s:\n",
    "    print(char)\n"
   ]
  },
  {
   "cell_type": "code",
   "execution_count": 33,
   "metadata": {},
   "outputs": [
    {
     "data": {
      "text/plain": [
       "'A'"
      ]
     },
     "execution_count": 33,
     "metadata": {},
     "output_type": "execute_result"
    }
   ],
   "source": [
    "a = iter(range(3))\n",
    "a.__next__()\n",
    "s = 'ABC'\n",
    "iter(s).__next__()\n",
    "s.__nex"
   ]
  },
  {
   "cell_type": "code",
   "execution_count": 54,
   "metadata": {},
   "outputs": [
    {
     "name": "stdout",
     "output_type": "stream",
     "text": [
      "A\n",
      "B\n",
      "C\n"
     ]
    }
   ],
   "source": [
    "#If there was no for statement and we had to emulate the for machinery by hand with a while loop this is what wed have to write\n",
    "\n",
    "\n",
    "s = 'ABC'\n",
    "a = []\n",
    "\n",
    "while len(a)==0:\n",
    "    b = iter(s)\n",
    "    c = iter(s)\n",
    "    while len(a)<len(s):\n",
    "        a.append(c.__next__())\n",
    "        try:\n",
    "            print(b.__next__())\n",
    "        except StopIteration:\n",
    "            break\n",
    "        \n",
    "#The below is given in the book\n",
    "#>>> s = 'ABC'\n",
    "#>>> it = iter(s)  \n",
    "#>>> #while True:\n",
    "#...     try:\n",
    "#...         print(next(it))  \n",
    "#...     #except StopIteration:  \n",
    "#...       #  del it  \n",
    "#...         #break#\n",
    "\n",
    "#Build an iterator it form the iterable\n",
    "\n",
    "#Repeatedly call nex on the iterator ot o;btain the nex iterm.\n",
    "\n"
   ]
  },
  {
   "cell_type": "code",
   "execution_count": 1,
   "metadata": {},
   "outputs": [],
   "source": [
    "#StopIteartion signals that the iterator is exhausted. This exception is handles internally byt the iter() built in that is part of th elogic of for loops an other iteration contexts like list compreshension, iteratble unpacking etc.\n",
    "\n",
    "#Pythons standard itnerface for an iterator has two methods:\n",
    "\n",
    "#__next__\n",
    "#Return the next item in the serise, raising StopIteration if there are no more.\n",
    "\n",
    "#__iter__\n",
    "#returns self this allows iterators to be used where an iterable is expected for example in a for loop\n",
    "\n",
    "#That interface is formalized in teh collections.abc,.Iterator ABC., Which declares the __next__ abstract method and subclasses Iterable where the abstract __iter__ method is declared\n",
    "\n"
   ]
  },
  {
   "cell_type": "code",
   "execution_count": 2,
   "metadata": {},
   "outputs": [],
   "source": [
    "#__subclasshook__ supports structural type checks with isinstance and issubclass. We saw it in \"Structural Typing with ABCs\"\n",
    "\n",
    "#_check_methods traverses the __mro__ of the class to check whether the methods are inmplemented in its base classes. Its defined in that smae module of the abc. If methods are implemented the C class will be recognized as a virtual subclass of Iterator. In other words \n",
    "\n",
    "\n",
    "##IMP -- Because the only methods required of an iterator are __next__ and __iter__ there is no way to check whether there are remaining iterms, other tha to call next() and catch StopIteration. Also its not possible to reset an iterator. If you need to start over you need to call iter() on the iterable that built the iterator in the first place. \n",
    "\n",
    "#Calling iter() on the iterator itself wont helpo either because as mentioned Iterator.__iter__ is implemented by returning self, so thsi will not reset a depleted iterator.\n",
    "\n",
    "#That minimal interaface is sensible because in reality not all iterators are resetable . Fo rexample if an iterator is reading packets form the network theres no way to rewind it"
   ]
  },
  {
   "attachments": {},
   "cell_type": "markdown",
   "metadata": {},
   "source": [
    "Sentence Classes with `__iter__`"
   ]
  },
  {
   "cell_type": "code",
   "execution_count": null,
   "metadata": {},
   "outputs": [],
   "source": []
  }
 ],
 "metadata": {
  "kernelspec": {
   "display_name": "pylatest",
   "language": "python",
   "name": "python3"
  },
  "language_info": {
   "codemirror_mode": {
    "name": "ipython",
    "version": 3
   },
   "file_extension": ".py",
   "mimetype": "text/x-python",
   "name": "python",
   "nbconvert_exporter": "python",
   "pygments_lexer": "ipython3",
   "version": "3.11.0"
  },
  "orig_nbformat": 4,
  "vscode": {
   "interpreter": {
    "hash": "5ee8ddc627afdb3e464b957ff205c0c7ba35df3a73d146152ad7c4b158eb19da"
   }
  }
 },
 "nbformat": 4,
 "nbformat_minor": 2
}
