{
 "cells": [
  {
   "attachments": {},
   "cell_type": "markdown",
   "metadata": {},
   "source": [
    "Iterators, Generators and Classic Coroutines"
   ]
  },
  {
   "cell_type": "code",
   "execution_count": 10,
   "metadata": {},
   "outputs": [],
   "source": [
    "import sentence\n",
    "from sentence import Sentence\n",
    "s = Sentence('\"The time has come,\" the Walrus said,')"
   ]
  },
  {
   "cell_type": "code",
   "execution_count": 15,
   "metadata": {},
   "outputs": [
    {
     "name": "stdout",
     "output_type": "stream",
     "text": [
      "The\n",
      "time\n",
      "has\n",
      "come\n",
      "the\n",
      "Walrus\n",
      "said\n"
     ]
    },
    {
     "data": {
      "text/plain": [
       "'said'"
      ]
     },
     "execution_count": 15,
     "metadata": {},
     "output_type": "execute_result"
    }
   ],
   "source": [
    "for words in s:\n",
    "    print(words,sep='\\t')\n",
    "\n",
    "list(s)\n",
    "s[0]\n",
    "s[5]\n",
    "s[-1]"
   ]
  },
  {
   "attachments": {},
   "cell_type": "markdown",
   "metadata": {},
   "source": [
    "Why Sequences Are Iterable: The iter Function"
   ]
  },
  {
   "cell_type": "code",
   "execution_count": 1,
   "metadata": {},
   "outputs": [],
   "source": [
    "#Whenever Python needs to iterate over an object x, it automatically calls iter(x).\n",
    "\n",
    "#The iter built in function:\n",
    "\n",
    "#1 Checks whether the object implements __iter__ and calls that to obtain an iterator.\n",
    "\n",
    "#2 If __iter__ is not implemented but __getitem__ is then iter() creates an iterator that tries to fetch items by index starting form 0\n",
    "\n",
    "#3 If that fails, Python raised TypeError usually sayign C object is not iterable where c is the class of the target object."
   ]
  },
  {
   "attachments": {},
   "cell_type": "markdown",
   "metadata": {},
   "source": [
    "Imp"
   ]
  },
  {
   "cell_type": "code",
   "execution_count": 2,
   "metadata": {},
   "outputs": [],
   "source": [
    "#Hence clearly an object is not only considered iterable when it necessarily inherits the iter method but also iterable if it only inherits the getitem method."
   ]
  },
  {
   "cell_type": "code",
   "execution_count": 3,
   "metadata": {},
   "outputs": [],
   "source": [
    "#Hence all the sequnce objects have either the iter or the getitem method"
   ]
  },
  {
   "cell_type": "code",
   "execution_count": null,
   "metadata": {},
   "outputs": [],
   "source": [
    "class Spam:\n",
    "    def __getitem__(self, i):\n",
    "        print('->', i)\n",
    "        raise IndexError()\n",
    "\n",
    "\n",
    "spam_can  =Spam()\n",
    "iter(spam_can)\n",
    "list(spam_can)\n",
    "\n",
    "#checking if iterable\n",
    "\n",
    "from collections import abc\n",
    "isinstance(spam_can, abc.Iterable)\n",
    "class GooseSpam:\n",
    "    def __iter__(self):\n",
    "        pass\n",
    "from collections import abc\n",
    "issubclass(GooseSpam, abc.Iterable)\n",
    "goose_spam_can = GooseSpam()\n",
    "isinstance(goose_spam_can, abc.Iterable)"
   ]
  },
  {
   "attachments": {},
   "cell_type": "markdown",
   "metadata": {},
   "source": [
    "#Imp"
   ]
  },
  {
   "cell_type": "code",
   "execution_count": 21,
   "metadata": {},
   "outputs": [],
   "source": [
    "#the most accurate way to check whether an object x is iterable is to call iter(x) and handle a TypeError exception if it isnt. THis is more accurate than using isinstance and issubclass because iter(x) aso considers the legacy __getitem__ method while Iterable ABC does not.\n"
   ]
  },
  {
   "cell_type": "code",
   "execution_count": 9,
   "metadata": {},
   "outputs": [
    {
     "name": "stdout",
     "output_type": "stream",
     "text": [
      "6\n",
      "5\n"
     ]
    }
   ],
   "source": [
    "#Using iter with a Callable\n",
    "from random import randint\n",
    "def d6():\n",
    "    return randint(1,6)  #Generates random integer between 1 and 6\n",
    "\n",
    "d6_iter = iter(d6,1)   #Iterates until 1 is reached\n",
    "\n",
    "for roll in d6_iter:\n",
    "    print(roll)"
   ]
  },
  {
   "cell_type": "code",
   "execution_count": null,
   "metadata": {},
   "outputs": [],
   "source": [
    "#One useful application of the second form of iter() is to build a block reader. For example reading fixed width blocks form a binary database file until the end of file is readched:\n",
    "\n",
    "from functools import partial\n",
    "\n",
    "with open('mydata.db', 'rb') as f:\n",
    "    read64 = partial(f.read, 64)\n",
    "    for block in iter(read64, b''):\n",
    "        process_block(block)"
   ]
  },
  {
   "attachments": {},
   "cell_type": "markdown",
   "metadata": {},
   "source": [
    "Iterables Versus Iterators"
   ]
  },
  {
   "cell_type": "code",
   "execution_count": 19,
   "metadata": {},
   "outputs": [
    {
     "name": "stdout",
     "output_type": "stream",
     "text": [
      "A\n",
      "B\n",
      "C\n"
     ]
    }
   ],
   "source": [
    "#iterable\n",
    "\n",
    "#Any object form which the iter built in funciton can obtain an iterator. Objects implementing __iter__ method returning an iterator are iterable. Sequences are always iterable as are objects implementing a __getitem__ method that accepts 0 based indexes.\n",
    "\n",
    "#Here is a simple for loop iterating over a str. The str 'ABC' is the iterable here. You dont see it but there is an iterator behind the curtain.\n",
    "from collections import abc\n",
    "s = 'ABC'\n",
    "for char in s:\n",
    "    print(char)\n"
   ]
  },
  {
   "cell_type": "code",
   "execution_count": 33,
   "metadata": {},
   "outputs": [
    {
     "data": {
      "text/plain": [
       "'A'"
      ]
     },
     "execution_count": 33,
     "metadata": {},
     "output_type": "execute_result"
    }
   ],
   "source": [
    "a = iter(range(3))\n",
    "a.__next__()\n",
    "s = 'ABC'\n",
    "iter(s).__next__()\n",
    "s.__nex"
   ]
  },
  {
   "cell_type": "code",
   "execution_count": 54,
   "metadata": {},
   "outputs": [
    {
     "name": "stdout",
     "output_type": "stream",
     "text": [
      "A\n",
      "B\n",
      "C\n"
     ]
    }
   ],
   "source": [
    "#If there was no for statement and we had to emulate the for machinery by hand with a while loop this is what wed have to write\n",
    "\n",
    "\n",
    "s = 'ABC'\n",
    "a = []\n",
    "\n",
    "while len(a)==0:\n",
    "    b = iter(s)\n",
    "    c = iter(s)\n",
    "    while len(a)<len(s):\n",
    "        a.append(c.__next__())\n",
    "        try:\n",
    "            print(b.__next__())\n",
    "        except StopIteration:\n",
    "            break\n",
    "        \n",
    "#The below is given in the book\n",
    "#>>> s = 'ABC'\n",
    "#>>> it = iter(s)  \n",
    "#>>> #while True:\n",
    "#...     try:\n",
    "#...         print(next(it))  \n",
    "#...     #except StopIteration:  \n",
    "#...       #  del it  \n",
    "#...         #break#\n",
    "\n",
    "#Build an iterator it form the iterable\n",
    "\n",
    "#Repeatedly call nex on the iterator ot o;btain the nex iterm.\n",
    "\n"
   ]
  },
  {
   "cell_type": "code",
   "execution_count": 1,
   "metadata": {},
   "outputs": [],
   "source": [
    "#StopIteartion signals that the iterator is exhausted. This exception is handles internally byt the iter() built in that is part of th elogic of for loops an other iteration contexts like list compreshension, iteratble unpacking etc.\n",
    "\n",
    "#Pythons standard itnerface for an iterator has two methods:\n",
    "\n",
    "#__next__\n",
    "#Return the next item in the serise, raising StopIteration if there are no more.\n",
    "\n",
    "#__iter__\n",
    "#returns self this allows iterators to be used where an iterable is expected for example in a for loop\n",
    "\n",
    "#That interface is formalized in teh collections.abc,.Iterator ABC., Which declares the __next__ abstract method and subclasses Iterable where the abstract __iter__ method is declared\n",
    "\n"
   ]
  },
  {
   "cell_type": "code",
   "execution_count": 2,
   "metadata": {},
   "outputs": [],
   "source": [
    "#__subclasshook__ supports structural type checks with isinstance and issubclass. We saw it in \"Structural Typing with ABCs\"\n",
    "\n",
    "#_check_methods traverses the __mro__ of the class to check whether the methods are inmplemented in its base classes. Its defined in that smae module of the abc. If methods are implemented the C class will be recognized as a virtual subclass of Iterator. In other words \n",
    "\n",
    "\n",
    "##IMP -- Because the only methods required of an iterator are __next__ and __iter__ there is no way to check whether there are remaining iterms, other tha to call next() and catch StopIteration. Also its not possible to reset an iterator. If you need to start over you need to call iter() on the iterable that built the iterator in the first place. \n",
    "\n",
    "#Calling iter() on the iterator itself wont helpo either because as mentioned Iterator.__iter__ is implemented by returning self, so thsi will not reset a depleted iterator.\n",
    "\n",
    "#That minimal interaface is sensible because in reality not all iterators are resetable . Fo rexample if an iterator is reading packets form the network theres no way to rewind it"
   ]
  },
  {
   "attachments": {},
   "cell_type": "markdown",
   "metadata": {},
   "source": [
    "Sentence Classes with `__iter__`"
   ]
  },
  {
   "cell_type": "code",
   "execution_count": null,
   "metadata": {},
   "outputs": [],
   "source": [
    "#Senctence Take #2: A Classic Iterator\n",
    "\n",
    "\n",
    "##Also DOnt make the iterable an iterator for itself\n",
    "\n",
    "|\n",
    "|\n",
    "#Iterables have an __iter__ method that instantiates a new iterator everytime. Iterators implement a __next__ ethod that return s individual iterms, and an __iter_- method that returns self.\n",
    "\n",
    "#Therefore, iterators are also iterabe but iterables are not iterators.\n",
    "\n",
    "#It may be tempting to implement __next__ in addition to ))titer__ in the Sentence class, making each Senctence instance at the same time an iterable and iterator over itself. But this is rarely a good idea. Its also a common antipatters, according to alex martelli who has a lot of experience reviewing Python code at Google.\n",
    "\n",
    "\n",
    "###Sentence Take 3:-\n",
    "|\n",
    "|\n",
    "|\n"
   ]
  },
  {
   "cell_type": "code",
   "execution_count": null,
   "metadata": {},
   "outputs": [],
   "source": [
    "#How a generator works\n",
    "\n",
    "---> Any python function hta has the yield keyword in its doby is a generator function: a function which when called returns a generator object. In other words, a generator function is a generator factory."
   ]
  },
  {
   "cell_type": "code",
   "execution_count": 1,
   "metadata": {},
   "outputs": [],
   "source": [
    "#A generator function htat yields thrtee numbers\n",
    "\n",
    "\n",
    "def gen_123():\n",
    "    yield 1\n",
    "    yield 2\n",
    "    yield 3\n",
    "g = gen_123()\n",
    "next(g)"
   ]
  },
  {
   "cell_type": "code",
   "execution_count": 4,
   "metadata": {},
   "outputs": [],
   "source": [
    "#The following example makes the interaaction between a for loop and the body of the function more explicit\n",
    "\n",
    "\n",
    "def gen_AB():\n",
    "    print('start')\n",
    "    yield 'A'\n",
    "    print('continue')\n",
    "    yield 'B'\n",
    "    print('end.')"
   ]
  },
  {
   "cell_type": "code",
   "execution_count": 5,
   "metadata": {},
   "outputs": [
    {
     "name": "stdout",
     "output_type": "stream",
     "text": [
      "start\n",
      "--> A\n",
      "continue\n",
      "--> B\n",
      "end.\n"
     ]
    }
   ],
   "source": [
    "for c in gen_AB():\n",
    "    print('-->',c)"
   ]
  },
  {
   "cell_type": "code",
   "execution_count": 10,
   "metadata": {},
   "outputs": [
    {
     "name": "stdout",
     "output_type": "stream",
     "text": [
      "start\n"
     ]
    },
    {
     "data": {
      "text/plain": [
       "'A'"
      ]
     },
     "execution_count": 10,
     "metadata": {},
     "output_type": "execute_result"
    }
   ],
   "source": [
    "a = iter(gen_AB())\n",
    "a.__next__()\n",
    "\n",
    "#Hence it is clear that iter is a generator function which when called builds a generator object that implements teh Iterator interface so the Senteence Iterator class is no longer neeeded\n",
    "\n",
    "##--about Lazy evaluation\n",
    "\n",
    "##Laziness is considered a goood train at least in programming languages and APIs. A lazy implementation postpones productin values to the last possible moemnet. TH is saves memeory and may avoid wasting CPU cycles, too"
   ]
  },
  {
   "attachments": {},
   "cell_type": "markdown",
   "metadata": {},
   "source": [
    "Lazy Sentences"
   ]
  },
  {
   "cell_type": "code",
   "execution_count": 11,
   "metadata": {},
   "outputs": [],
   "source": [
    "#Sentence Take4: Lzy Generator\n",
    "\n",
    "#The Iterator interface is designed to be lazy nex(0 yields one item at a time. The opposite of lazy is eager: lazy evaluatino and eager evaluation are technical terms in programming language thory.\n",
    "\n",
    "\n",
    "#Our sentence implementations so far have not been lazy because the __init__ eagerly builds a list of all words in the text, binding it to the self.words attribute.This requires processing the entire text, and the list may use as much memory as the text itself. Most of this work will be in vain if the user only iteratest over the first couple of words. If you wonder, \"Is there a lazy of doing this in python the answer is oftern \"Yes\"\n",
    "\n",
    "\n",
    "##---------re.finditer is the lazy function\n",
    "\n"
   ]
  },
  {
   "cell_type": "code",
   "execution_count": null,
   "metadata": {},
   "outputs": [],
   "source": [
    "#refer sentence_gen2.py\n"
   ]
  },
  {
   "cell_type": "code",
   "execution_count": 12,
   "metadata": {},
   "outputs": [],
   "source": [
    "#The gen_AB generator function is used by a list comprehenson then by a lgenrator expression\n",
    "\n",
    "def gen_AB():\n",
    "    print('start')\n",
    "    yield 'A'\n",
    "    print('continue')\n",
    "    yield 'B'\n",
    "    print('end.')"
   ]
  },
  {
   "cell_type": "code",
   "execution_count": 16,
   "metadata": {},
   "outputs": [
    {
     "name": "stdout",
     "output_type": "stream",
     "text": [
      "start\n",
      "continue\n",
      "end.\n"
     ]
    }
   ],
   "source": [
    "res1 = [x*3 for x in gen_AB()]\n"
   ]
  },
  {
   "cell_type": "code",
   "execution_count": 17,
   "metadata": {},
   "outputs": [
    {
     "name": "stdout",
     "output_type": "stream",
     "text": [
      "----> AAA\n",
      "----> BBB\n"
     ]
    }
   ],
   "source": [
    "for i in res1: #this for loop iteratoes over the res1 list built by the list comprehension\n",
    "    print('---->',i)"
   ]
  },
  {
   "cell_type": "code",
   "execution_count": 19,
   "metadata": {},
   "outputs": [
    {
     "data": {
      "text/plain": [
       "<generator object <genexpr> at 0x7f81ff44be00>"
      ]
     },
     "execution_count": 19,
     "metadata": {},
     "output_type": "execute_result"
    }
   ],
   "source": [
    "res2 = (x*3 for x in gen_AB())\n",
    "res2"
   ]
  },
  {
   "cell_type": "code",
   "execution_count": 20,
   "metadata": {},
   "outputs": [
    {
     "name": "stdout",
     "output_type": "stream",
     "text": [
      "start\n",
      "----> AAA\n",
      "continue\n",
      "----> BBB\n",
      "end.\n"
     ]
    }
   ],
   "source": [
    "for i in res2:\n",
    "    print('---->',i)"
   ]
  },
  {
   "cell_type": "code",
   "execution_count": 21,
   "metadata": {},
   "outputs": [],
   "source": [
    "#Only when the for loop iteratoes over res2 this generator gets items from gen_AB. Each iteraton of the for loop implicitly calls nex(res2), which in tyuren calls next() on the generator object returned by gen_AB() advancing it to the next yield.\n",
    "\n",
    "#refer to sentence_genexp.py"
   ]
  },
  {
   "cell_type": "code",
   "execution_count": 24,
   "metadata": {},
   "outputs": [],
   "source": [
    "\n",
    "import sentence_genexp\n",
    "\n",
    "s = sentence_genexp.Sentence(\"Helloe\")"
   ]
  },
  {
   "cell_type": "code",
   "execution_count": 25,
   "metadata": {},
   "outputs": [
    {
     "data": {
      "text/plain": [
       "Sentence('Helloe')"
      ]
     },
     "execution_count": 25,
     "metadata": {},
     "output_type": "execute_result"
    }
   ],
   "source": [
    "s"
   ]
  },
  {
   "attachments": {},
   "cell_type": "markdown",
   "metadata": {},
   "source": [
    "When to Use Generator Expressions"
   ]
  },
  {
   "cell_type": "code",
   "execution_count": 26,
   "metadata": {},
   "outputs": [],
   "source": [
    "#Contrasting Iterators and Generators"
   ]
  },
  {
   "attachments": {},
   "cell_type": "markdown",
   "metadata": {},
   "source": [
    "An Arithmetic Progression Generator"
   ]
  },
  {
   "cell_type": "code",
   "execution_count": 63,
   "metadata": {},
   "outputs": [],
   "source": [
    "#Made all by myself\n",
    "\n",
    "class ArithmeticProgression1:\n",
    "    def __init__(self,*args) -> None:\n",
    "        self.start = args[0]\n",
    "        self.interval = args[1]\n",
    "        self.end = args[2]\n",
    "\n",
    "    def __repr__(self) -> str:\n",
    "        cont = [self.start]\n",
    "        while cont[-1]<self.end:\n",
    "            cont.append(round((cont[-1]+self.interval),3))\n",
    "        if cont[-1]>self.end:\n",
    "            cont[-1] = cont[-2]\n",
    "        return f'{cont}'\n",
    "\n"
   ]
  },
  {
   "cell_type": "code",
   "execution_count": 65,
   "metadata": {},
   "outputs": [
    {
     "name": "stdout",
     "output_type": "stream",
     "text": [
      "14.9 ns ± 0.858 ns per loop (mean ± std. dev. of 7 runs, 100,000,000 loops each)\n"
     ]
    }
   ],
   "source": [
    "ap1 = ArithmeticProgression(1,0.2,3)\n",
    "%timeit ap1"
   ]
  },
  {
   "cell_type": "code",
   "execution_count": 58,
   "metadata": {},
   "outputs": [],
   "source": [
    "#The version from the book\n",
    "\n",
    "class ArithmeticProgression2:\n",
    "    def __init__(self, begin, step, end=None) -> None:\n",
    "        self.begin = begin\n",
    "        self.step = step\n",
    "        self.end = end #None for infinite series\n",
    "\n",
    "\n",
    "    def __iter__(self):\n",
    "        result_type = type(self.begin + self.step)\n",
    "        result = result_type(self.begin)\n",
    "        forever = self.end is None\n",
    "        index = 0\n",
    "        while forever or result < self.end:\n",
    "            yield result\n",
    "            index += 1\n",
    "            result = self.begin + self.step * index"
   ]
  },
  {
   "cell_type": "code",
   "execution_count": 66,
   "metadata": {},
   "outputs": [
    {
     "name": "stdout",
     "output_type": "stream",
     "text": [
      "3.78 µs ± 210 ns per loop (mean ± std. dev. of 7 runs, 100,000 loops each)\n"
     ]
    }
   ],
   "source": [
    "ap2 = ArithmeticProgression(1,0.2,5)\n",
    "%timeit list(ap2)"
   ]
  },
  {
   "cell_type": "code",
   "execution_count": 67,
   "metadata": {},
   "outputs": [],
   "source": [
    "#Below is a function equivalent of the ArithmeticProgression class\n",
    "\n",
    "def aritprog_gen(begin, step, end):\n",
    "    result = type(begin + step)(begin)\n",
    "    forever = end is None\n",
    "    index = 0\n",
    "    while forever or result<end:\n",
    "        yield result\n",
    "        index += 1\n",
    "        result = begin + step*index"
   ]
  },
  {
   "attachments": {},
   "cell_type": "markdown",
   "metadata": {},
   "source": [
    "Arithmetic Progression with itertools\n"
   ]
  },
  {
   "cell_type": "code",
   "execution_count": 3,
   "metadata": {},
   "outputs": [
    {
     "data": {
      "text/plain": [
       "1"
      ]
     },
     "execution_count": 3,
     "metadata": {},
     "output_type": "execute_result"
    }
   ],
   "source": [
    "import itertools\n",
    "gen = itertools.count(1,.5)\n",
    "next(gen)"
   ]
  },
  {
   "cell_type": "code",
   "execution_count": 6,
   "metadata": {},
   "outputs": [
    {
     "data": {
      "text/plain": [
       "2.0"
      ]
     },
     "execution_count": 6,
     "metadata": {},
     "output_type": "execute_result"
    }
   ],
   "source": [
    "next(gen)"
   ]
  },
  {
   "cell_type": "code",
   "execution_count": 7,
   "metadata": {},
   "outputs": [],
   "source": [
    "#However this loop will never stop"
   ]
  },
  {
   "cell_type": "code",
   "execution_count": 9,
   "metadata": {},
   "outputs": [],
   "source": [
    "#On the otehr hand, there is the itertools.takewhile function: it returns a generator that consumes another generator an stops whena given predicate evalueate to False. So we can combine the two and write this;\n",
    "\n",
    "gen = itertools.takewhile(lambda n: n<3 ,itertools.count(1,.5))"
   ]
  },
  {
   "cell_type": "code",
   "execution_count": 11,
   "metadata": {},
   "outputs": [
    {
     "data": {
      "text/plain": [
       "[1, 1.5, 2.0, 2.5]"
      ]
     },
     "execution_count": 11,
     "metadata": {},
     "output_type": "execute_result"
    }
   ],
   "source": [
    "list(gen)"
   ]
  },
  {
   "cell_type": "code",
   "execution_count": 12,
   "metadata": {},
   "outputs": [],
   "source": [
    "def aritprog_gen(begin, step, end=None):\n",
    "    first = type(begin + step)(begin)\n",
    "    ap_gen = itertools.count(first, step)\n",
    "    if end is None:\n",
    "        return ap_gen\n",
    "    return itertools.takewhile(lambda n: n<end, ap_gen)"
   ]
  },
  {
   "cell_type": "code",
   "execution_count": 13,
   "metadata": {},
   "outputs": [
    {
     "data": {
      "text/plain": [
       "count(1, 2)"
      ]
     },
     "execution_count": 13,
     "metadata": {},
     "output_type": "execute_result"
    }
   ],
   "source": [
    "aritprog_gen(1,2)"
   ]
  },
  {
   "attachments": {},
   "cell_type": "markdown",
   "metadata": {},
   "source": [
    "Generator Functions in the Standard Library"
   ]
  },
  {
   "cell_type": "code",
   "execution_count": 14,
   "metadata": {},
   "outputs": [],
   "source": [
    "#The standard provides many generators, from plain-text file objects providing line by line iteration , to the awsome os.walk function, wchich yields filenames while traversing a directory tree, making recursive filesystem searches as simple as a for loop.\n",
    "\n",
    "\n",
    "#os.walk -- an awesome function which yields filenames while traversing a directory tree, making recursive filesytem searches as simple as a for loop.\n",
    "\n",
    "#os.walk generator function is impressive but in this section I want to focus on general purpose function that take arbitray iterables as argumenst anad return generators that yield selected, computed or rearrangd  items. In the following tables, I summarize two dozen of the, fro the built-in, itertools and functools modules. Fo rconvenience, I grouped thame by high-level functionality, regardless of where they are defined.\n"
   ]
  },
  {
   "cell_type": "code",
   "execution_count": 16,
   "metadata": {},
   "outputs": [
    {
     "data": {
      "text/plain": [
       "['A', 'a', 'a']"
      ]
     },
     "execution_count": 16,
     "metadata": {},
     "output_type": "execute_result"
    }
   ],
   "source": [
    "#Filter generator function sexamples\n",
    "\n",
    "def vowel(c):\n",
    "    return c.lower() in 'aeiou'\n",
    "\n",
    "list(filter(vowel, 'Aardvark')) #List iterates over"
   ]
  },
  {
   "cell_type": "code",
   "execution_count": 17,
   "metadata": {},
   "outputs": [
    {
     "data": {
      "text/plain": [
       "['r', 'd', 'v', 'r', 'k']"
      ]
     },
     "execution_count": 17,
     "metadata": {},
     "output_type": "execute_result"
    }
   ],
   "source": [
    "import itertools\n",
    "\n",
    "list(itertools.filterfalse(vowel, 'Aardvark'))"
   ]
  },
  {
   "cell_type": "code",
   "execution_count": 19,
   "metadata": {},
   "outputs": [
    {
     "data": {
      "text/plain": [
       "['r', 'd', 'v', 'a', 'r', 'k']"
      ]
     },
     "execution_count": 19,
     "metadata": {},
     "output_type": "execute_result"
    }
   ],
   "source": [
    "list(itertools.dropwhile(vowel, 'Aardvark'))\n",
    "#Consumes the second argument while predicate computes truthy then yields every  remaining item"
   ]
  },
  {
   "cell_type": "code",
   "execution_count": 20,
   "metadata": {},
   "outputs": [
    {
     "data": {
      "text/plain": [
       "['A', 'a']"
      ]
     },
     "execution_count": 20,
     "metadata": {},
     "output_type": "execute_result"
    }
   ],
   "source": [
    "list(itertools.takewhile(vowel, 'Aardvark'))"
   ]
  },
  {
   "cell_type": "code",
   "execution_count": 22,
   "metadata": {},
   "outputs": [
    {
     "data": {
      "text/plain": [
       "['A', 'r', 'd', 'a']"
      ]
     },
     "execution_count": 22,
     "metadata": {},
     "output_type": "execute_result"
    }
   ],
   "source": [
    "list(itertools.compress('Aardvark', (1, 0, 1, 1, 0, 1)))\n",
    "\n",
    "#returns from the first argument when the second is true"
   ]
  },
  {
   "cell_type": "code",
   "execution_count": 24,
   "metadata": {},
   "outputs": [
    {
     "data": {
      "text/plain": [
       "['A', 'a', 'r', 'd']"
      ]
     },
     "execution_count": 24,
     "metadata": {},
     "output_type": "execute_result"
    }
   ],
   "source": [
    "list(itertools.islice('Aardvark', 4))\n",
    "#slices up till 4th index"
   ]
  },
  {
   "cell_type": "code",
   "execution_count": 26,
   "metadata": {},
   "outputs": [
    {
     "data": {
      "text/plain": [
       "['v', 'a', 'r']"
      ]
     },
     "execution_count": 26,
     "metadata": {},
     "output_type": "execute_result"
    }
   ],
   "source": [
    "list(itertools.islice('Aardvark', 4, 7))\n",
    "#slices starting from 4th index up till 7th index"
   ]
  },
  {
   "cell_type": "code",
   "execution_count": 28,
   "metadata": {},
   "outputs": [
    {
     "data": {
      "text/plain": [
       "['a', 'd', 'a']"
      ]
     },
     "execution_count": 28,
     "metadata": {},
     "output_type": "execute_result"
    }
   ],
   "source": [
    "list(itertools.islice('Aardvark', 1,7,2))\n",
    "#starts from first index and continues up till 7th index \n",
    "#And prints every second element"
   ]
  },
  {
   "cell_type": "code",
   "execution_count": null,
   "metadata": {},
   "outputs": [],
   "source": []
  }
 ],
 "metadata": {
  "kernelspec": {
   "display_name": "pylatest",
   "language": "python",
   "name": "python3"
  },
  "language_info": {
   "codemirror_mode": {
    "name": "ipython",
    "version": 3
   },
   "file_extension": ".py",
   "mimetype": "text/x-python",
   "name": "python",
   "nbconvert_exporter": "python",
   "pygments_lexer": "ipython3",
   "version": "3.11.0"
  },
  "orig_nbformat": 4,
  "vscode": {
   "interpreter": {
    "hash": "5ee8ddc627afdb3e464b957ff205c0c7ba35df3a73d146152ad7c4b158eb19da"
   }
  }
 },
 "nbformat": 4,
 "nbformat_minor": 2
}
