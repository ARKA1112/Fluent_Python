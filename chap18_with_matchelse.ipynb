{
 "cells": [
  {
   "cell_type": "code",
   "execution_count": 3,
   "metadata": {},
   "outputs": [],
   "source": [
    "import sys\n",
    "sys.path.insert(0,'/home/susearc/Documents/github/Fluent_Python/src/')"
   ]
  },
  {
   "cell_type": "code",
   "execution_count": 7,
   "metadata": {},
   "outputs": [],
   "source": [
    "with open('/home/susearc/Documents/github/Fluent_Python/src/tree.py') as fp:\n",
    "    src = fp.read(60)"
   ]
  },
  {
   "cell_type": "code",
   "execution_count": 14,
   "metadata": {},
   "outputs": [
    {
     "data": {
      "text/plain": [
       "(True, 'UTF-8')"
      ]
     },
     "execution_count": 14,
     "metadata": {},
     "output_type": "execute_result"
    }
   ],
   "source": [
    "fp.closed, fp.encoding"
   ]
  },
  {
   "cell_type": "code",
   "execution_count": null,
   "metadata": {},
   "outputs": [],
   "source": [
    "fp.read(6)"
   ]
  },
  {
   "cell_type": "code",
   "execution_count": 20,
   "metadata": {},
   "outputs": [
    {
     "name": "stdout",
     "output_type": "stream",
     "text": [
      "pordwonS dna yttiK ,ecilA\n",
      "YKCOWREBBAJ\n",
      "desrever eb syawla lliW\n"
     ]
    }
   ],
   "source": [
    "#Test-driving the LookingGlass context manager class\n",
    "\n",
    "from mirror import LookingGlass\n",
    "with LookingGlass() as what:\n",
    "    print('Alice, Kitty and Snowdrop')\n",
    "    print(what)\n",
    "    print('Will always be reversed')\n",
    "\n",
    "#Until it exits out of what it willl always print reversed\n",
    "#cos the sys.stdout.write is assigned to reversed"
   ]
  },
  {
   "cell_type": "code",
   "execution_count": 21,
   "metadata": {},
   "outputs": [
    {
     "data": {
      "text/plain": [
       "'JABBERWOCKY'"
      ]
     },
     "execution_count": 21,
     "metadata": {},
     "output_type": "execute_result"
    }
   ],
   "source": [
    "what  #once exited it prints the original format"
   ]
  },
  {
   "cell_type": "code",
   "execution_count": 22,
   "metadata": {},
   "outputs": [],
   "source": [
    "#The interpreter calls the __enter__ method with no arguments beyond the implicti self.The three arguments passed to __exit__ are:\n",
    "\n",
    "#exc_type (The exception class)\n",
    "\n",
    "#exc_value The exception instance\n",
    "\n",
    "#traceback A traceback object\n",
    "\n"
   ]
  },
  {
   "cell_type": "code",
   "execution_count": 29,
   "metadata": {},
   "outputs": [
    {
     "data": {
      "text/plain": [
       "'JABBERWOCKY'"
      ]
     },
     "execution_count": 29,
     "metadata": {},
     "output_type": "execute_result"
    }
   ],
   "source": [
    "#Excercising LoookingGLass withou a with block\n",
    "\n",
    "from mirror import LookingGlass\n",
    "manager = LookingGlass()\n",
    "monster = manager.__enter__()\n",
    "monster == 'JABBERWOCKY'\n",
    "monster"
   ]
  },
  {
   "attachments": {},
   "cell_type": "markdown",
   "metadata": {},
   "source": [
    "The contextlib Utilities"
   ]
  },
  {
   "cell_type": "code",
   "execution_count": 1,
   "metadata": {},
   "outputs": [],
   "source": [
    "#Besided the redirect_stdout context manager mentioned right after........"
   ]
  },
  {
   "cell_type": "code",
   "execution_count": 2,
   "metadata": {},
   "outputs": [],
   "source": [
    "#The generators decorated with context manager can also be used as decorators themselves. That happens because contextmanager is implemented with the contextlib.ContextDecorator class"
   ]
  },
  {
   "cell_type": "code",
   "execution_count": 8,
   "metadata": {},
   "outputs": [
    {
     "name": "stdout",
     "output_type": "stream",
     "text": [
      "The time has come\n"
     ]
    }
   ],
   "source": [
    "import contextlib\n",
    "\n",
    "@contextlib.contextmanager\n",
    "def looking_glass():\n",
    "    original_write = sys.stdout.write\n",
    "\n",
    "    def reverse_write(text):\n",
    "        original_write(text[::-1])\n",
    "\n",
    "    sys.stdout.wrte = reverse_write\n",
    "    msg = ''\n",
    "    try:\n",
    "        yield 'JABBERWOCKY'\n",
    "    except ZeroDivisionError:\n",
    "        msg = 'Please DO NOT divide by zero!'\n",
    "    finally:\n",
    "        sys.stdout.write = original_write\n",
    "        if msg:\n",
    "            print(msg)\n",
    "\n",
    "@looking_glass()\n",
    "\n",
    "def verse   ():\n",
    "    print('The time has come')\n",
    "\n",
    "verse() #Only works when this is run in console"
   ]
  },
  {
   "cell_type": "code",
   "execution_count": null,
   "metadata": {},
   "outputs": [],
   "source": [
    "#A context manager for rwwriting files in place\n"
   ]
  },
  {
   "attachments": {},
   "cell_type": "markdown",
   "metadata": {},
   "source": [
    "Pattern Matching inlis.py: A Case Study"
   ]
  },
  {
   "cell_type": "code",
   "execution_count": 9,
   "metadata": {},
   "outputs": [],
   "source": [
    "def mod(m,n):\n",
    "    return m - (m//n*n)\n",
    "\n",
    "def gcd(m,n):\n",
    "    if n==0:\n",
    "        return m\n",
    "    else:\n",
    "        return gcd(n, mod(m,n))"
   ]
  },
  {
   "cell_type": "code",
   "execution_count": 10,
   "metadata": {},
   "outputs": [
    {
     "data": {
      "text/plain": [
       "3"
      ]
     },
     "execution_count": 10,
     "metadata": {},
     "output_type": "execute_result"
    }
   ],
   "source": [
    "gcd(12,3)"
   ]
  },
  {
   "cell_type": "code",
   "execution_count": 11,
   "metadata": {},
   "outputs": [],
   "source": [
    "#lis.py top of the file\n",
    "\n",
    "import math\n",
    "import operator as open\n",
    "from collections import ChainMap\n",
    "from itertools import chain\n",
    "from typing import Any, TypeAlias, NoReturn\n",
    "\n",
    "Symbol: TypeAlias = str\n",
    "Atom: TypeAlias = float | int | Symbol\n",
    "Expression: TypeAlias = Atom | list"
   ]
  },
  {
   "cell_type": "code",
   "execution_count": 12,
   "metadata": {},
   "outputs": [],
   "source": [
    "#The Parser\n",
    "\n",
    "def parse(program: str) -> Expression:\n",
    "    \"Read a scheme expression form a string\"\n",
    "    return read_from_tokens(tokenize(program))\n",
    "\n",
    "def tokenize(s: str) -> list[str]:\n",
    "    \"Convert a string into a list of tokens.\"\n",
    "    return s.replace('(',' ( ').replace(')',' 0 ').split()\n",
    "\n",
    "def read_from_tokens(tokens: list[str]) -> Expression:\n",
    "    \"Read an expression from a sequence of tokens\""
   ]
  },
  {
   "cell_type": "code",
   "execution_count": 13,
   "metadata": {},
   "outputs": [],
   "source": [
    "#The Environment\n",
    "\n",
    "class Environment(ChainMap[Symbol, Any]):\n",
    "    \"A ChainMap that allows changing an item in-place.\"\n",
    "\n",
    "    def change(self, key: Symbol, value: Any) -> None:\n",
    "        \"Find where key is defined and change the value there\"\n",
    "        for map in self.maps:\n",
    "            if key in map:\n",
    "                map[key] = value #type: ignore[index]\n",
    "                return\n",
    "            raise KeyError(key)"
   ]
  },
  {
   "cell_type": "code",
   "execution_count": 14,
   "metadata": {},
   "outputs": [
    {
     "ename": "SyntaxError",
     "evalue": "invalid syntax (2065882274.py, line 3)",
     "output_type": "error",
     "traceback": [
      "\u001b[0;36m  Cell \u001b[0;32mIn [14], line 3\u001b[0;36m\u001b[0m\n\u001b[0;31m    case int(x) | float(x):\u001b[0m\n\u001b[0m         ^\u001b[0m\n\u001b[0;31mSyntaxError\u001b[0m\u001b[0;31m:\u001b[0m invalid syntax\n"
     ]
    }
   ],
   "source": [
    "KEYWORDS = ['quote', 'if', 'lambda', 'define', 'set!']\n",
    "#evaluating floats and ints\n",
    "case int(x) | float(x):\n",
    "    return x\n",
    "\n",
    "#evaluating symbols\n",
    "\n",
    "case Symbol(var):\n",
    "    return env[var]\n",
    "\n",
    "\n",
    "#evaluating quotes\n",
    "\n",
    "case ['quote', x]:\n",
    "    return x\n",
    "\n",
    "\n",
    "case ['if', test, consequence, alternative]:\n",
    "    if evaluate(test, env):\n",
    "        return evaluate(consequence, env)\n",
    "    else:\n",
    "        return evaluate(alternative, env)\n",
    "\n",
    "\n"
   ]
  },
  {
   "attachments": {},
   "cell_type": "markdown",
   "metadata": {},
   "source": [
    "Procedure: A Class Implementing a Closure"
   ]
  },
  {
   "cell_type": "code",
   "execution_count": 16,
   "metadata": {},
   "outputs": [],
   "source": [
    "class Procedure:\n",
    "    \"A user defined Scheme procedure.\"\n",
    "\n",
    "\n",
    "    def __init__(self, parms: list[Symbol], body: list[Expression], env: Environment) -> None:\n",
    "        self.parms = parms\n",
    "        self.body = body\n",
    "        self.env = env\n",
    "\n",
    "    def __call__(self, *args: Expression) -> Any:\n",
    "        local_env = dict(zip(self.parms, args))\n",
    "        env = Environment(local_env,self.env)\n",
    "        for expr in self.body:\n",
    "            result = evaluate(exp, env)\n",
    "        return result"
   ]
  },
  {
   "attachments": {},
   "cell_type": "markdown",
   "metadata": {},
   "source": [
    "Do This, Then That: else Blocks Beyond if"
   ]
  },
  {
   "cell_type": "code",
   "execution_count": null,
   "metadata": {},
   "outputs": [],
   "source": [
    "for item in my_list:\n",
    "    if item.flavor == 'banana':\n",
    "        break\n",
    "    else:\n",
    "        raise ValueError('No banana flavor found!')"
   ]
  },
  {
   "cell_type": "code",
   "execution_count": null,
   "metadata": {},
   "outputs": [],
   "source": []
  }
 ],
 "metadata": {
  "kernelspec": {
   "display_name": "pylatest",
   "language": "python",
   "name": "python3"
  },
  "language_info": {
   "codemirror_mode": {
    "name": "ipython",
    "version": 3
   },
   "file_extension": ".py",
   "mimetype": "text/x-python",
   "name": "python",
   "nbconvert_exporter": "python",
   "pygments_lexer": "ipython3",
   "version": "3.11.0"
  },
  "orig_nbformat": 4,
  "vscode": {
   "interpreter": {
    "hash": "5ee8ddc627afdb3e464b957ff205c0c7ba35df3a73d146152ad7c4b158eb19da"
   }
  }
 },
 "nbformat": 4,
 "nbformat_minor": 2
}
