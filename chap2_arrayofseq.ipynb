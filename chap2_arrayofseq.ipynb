{
 "cells": [
  {
   "cell_type": "code",
   "execution_count": 1,
   "metadata": {},
   "outputs": [
    {
     "data": {
      "text/plain": [
       "array('d', [1.0, 2.0, 3.0])"
      ]
     },
     "execution_count": 1,
     "metadata": {},
     "output_type": "execute_result"
    }
   ],
   "source": [
    "import array\n",
    "array.array('d',[1,2,3])"
   ]
  },
  {
   "cell_type": "code",
   "execution_count": 2,
   "metadata": {},
   "outputs": [],
   "source": [
    "#Mutable sequences\n",
    "\n",
    "import collections\n",
    "\n",
    "#mutable types\n",
    "#list, bytearray, array.array and collections.deque\n",
    "\n",
    "#immutable sequences\n",
    "# tuple, str and bytes"
   ]
  },
  {
   "cell_type": "code",
   "execution_count": 3,
   "metadata": {},
   "outputs": [
    {
     "data": {
      "text/plain": [
       "True"
      ]
     },
     "execution_count": 3,
     "metadata": {},
     "output_type": "execute_result"
    }
   ],
   "source": [
    "#mutable sequences inherits all methods from immutable sequences and implement several additonal methods\n",
    "#Mutable Sequence abstract base classes(ABC)\n",
    "\n",
    "from collections import abc\n",
    "\n",
    "issubclass(tuple, abc.Sequence)\n",
    "issubclass(list, abc.Sequence)"
   ]
  },
  {
   "cell_type": "markdown",
   "metadata": {},
   "source": [
    "#### List Comprehensions"
   ]
  },
  {
   "cell_type": "code",
   "execution_count": 4,
   "metadata": {},
   "outputs": [
    {
     "name": "stdout",
     "output_type": "stream",
     "text": [
      "('black', 'S')\n",
      "('black', 'M')\n",
      "('black', 'L')\n",
      "('white', 'S')\n",
      "('white', 'M')\n",
      "('white', 'L')\n"
     ]
    },
    {
     "data": {
      "text/plain": [
       "[('black', 'S'),\n",
       " ('white', 'S'),\n",
       " ('black', 'M'),\n",
       " ('white', 'M'),\n",
       " ('black', 'L'),\n",
       " ('white', 'L')]"
      ]
     },
     "execution_count": 4,
     "metadata": {},
     "output_type": "execute_result"
    }
   ],
   "source": [
    "#cartesian products using lilst comprehension\n",
    "\n",
    "colors = ['black', 'white']\n",
    "sizes = ['S', 'M', 'L']\n",
    "\n",
    "tshirts = [(color, size) for color in colors for size in sizes]\n",
    "tshirts\n",
    "\n",
    "\n",
    "#using a for loop\n",
    "\n",
    "for color in colors:\n",
    "    for size in sizes:\n",
    "        print((color, size))  #order has to be maintained\n",
    "\n",
    "tshirts = [(color, size) for size in sizes for color in colors]  #no need to maintain the order\n",
    "tshirts"
   ]
  },
  {
   "cell_type": "markdown",
   "metadata": {},
   "source": [
    "#### Generator expression"
   ]
  },
  {
   "cell_type": "code",
   "execution_count": 5,
   "metadata": {},
   "outputs": [
    {
     "data": {
      "text/plain": [
       "(36, 162, 163, 165, 8364, 164)"
      ]
     },
     "execution_count": 5,
     "metadata": {},
     "output_type": "execute_result"
    }
   ],
   "source": [
    "symbols = '$¢£¥€¤'\n",
    "tuple(ord(symbol) for symbol in symbols)"
   ]
  },
  {
   "cell_type": "code",
   "execution_count": 6,
   "metadata": {},
   "outputs": [
    {
     "name": "stdout",
     "output_type": "stream",
     "text": [
      "black S\n",
      "black M\n",
      "black L\n",
      "white S\n",
      "white M\n",
      "white L\n"
     ]
    }
   ],
   "source": [
    "#cartesian product using generator expressions\n",
    "\n",
    "colors = ['black', 'white']\n",
    "sizes = ['S', 'M', 'L']\n",
    "\n",
    "for tshirt in (f'{c} {s}' for c in colors for s in sizes):\n",
    "    print(tshirt)\n"
   ]
  },
  {
   "cell_type": "markdown",
   "metadata": {},
   "source": [
    "#### Tuples as records"
   ]
  },
  {
   "cell_type": "code",
   "execution_count": 7,
   "metadata": {},
   "outputs": [
    {
     "name": "stdout",
     "output_type": "stream",
     "text": [
      "BRA/CE342567\n",
      "ESP/XDA205856\n",
      "USA/31195855\n",
      "USA\n",
      "BRA\n",
      "ESP\n"
     ]
    }
   ],
   "source": [
    "lax_coords = (33.94245, -118.408056)\n",
    "city, year, pop, chg, area = ('Tokyo', 2003, 32_450, 0.66, 8014)\n",
    "traveler_ids = [('USA', '31195855'), ('BRA', 'CE342567'), ('ESP', 'XDA205856')]\n",
    "\n",
    "for passport in sorted(traveler_ids):\n",
    "    print('%s/%s' %passport)\n",
    "\n",
    "\n",
    "for country, _ in traveler_ids:  #tuple unpacking\n",
    "    print(country)"
   ]
  },
  {
   "cell_type": "code",
   "execution_count": 8,
   "metadata": {},
   "outputs": [],
   "source": [
    "#hashable- if its value cannot be changed\n",
    "\n",
    "#to check if a tuple has hash values\n",
    "\n",
    "def fixec(o):\n",
    "    try:\n",
    "        hash(o)\n",
    "    except TypeError:\n",
    "        return f'mutable'\n",
    "    return 'immutable'"
   ]
  },
  {
   "cell_type": "code",
   "execution_count": 9,
   "metadata": {},
   "outputs": [
    {
     "data": {
      "text/plain": [
       "('immutable', 'mutable')"
      ]
     },
     "execution_count": 9,
     "metadata": {},
     "output_type": "execute_result"
    }
   ],
   "source": [
    "tf = (10, 'alpha', (1,2))\n",
    "tm = (10, 'alpha', [1,2])\n",
    "\n",
    "fixec(tf),fixec(tm)"
   ]
  },
  {
   "cell_type": "code",
   "execution_count": 10,
   "metadata": {},
   "outputs": [
    {
     "data": {
      "text/plain": [
       "(2, 4)"
      ]
     },
     "execution_count": 10,
     "metadata": {},
     "output_type": "execute_result"
    }
   ],
   "source": [
    "#tuple unpacking\n",
    "\n",
    "divmod(20, 8)\n",
    "\n",
    "t = (20, 8)\n",
    "divmod(*t) #tuple unpacking"
   ]
  },
  {
   "cell_type": "code",
   "execution_count": 11,
   "metadata": {},
   "outputs": [
    {
     "data": {
      "text/plain": [
       "('.ssh', '/home/opensuse')"
      ]
     },
     "execution_count": 11,
     "metadata": {},
     "output_type": "execute_result"
    }
   ],
   "source": [
    "#another usecase of tuple unpacking\n",
    "\n",
    "import os\n",
    "_, filename = os.path.split('/home/opensuse/.ssh')\n",
    "filename,_"
   ]
  },
  {
   "cell_type": "code",
   "execution_count": 12,
   "metadata": {},
   "outputs": [
    {
     "data": {
      "text/plain": [
       "([0, 1, 2, 3, 4, 5, 6, 7], 8, 9)"
      ]
     },
     "execution_count": 12,
     "metadata": {},
     "output_type": "execute_result"
    }
   ],
   "source": [
    "#* to grab items\n",
    "\n",
    "a, b, *rest = range(5)\n",
    "*a,b,rest = range(10)\n",
    "a,b,rest"
   ]
  },
  {
   "cell_type": "code",
   "execution_count": 13,
   "metadata": {},
   "outputs": [
    {
     "data": {
      "text/plain": [
       "(1, 2, 3, 4, (5, 6))"
      ]
     },
     "execution_count": 13,
     "metadata": {},
     "output_type": "execute_result"
    }
   ],
   "source": [
    "def fun(a, b, c, d, *rest):\n",
    "    return a, b, c, d, rest\n",
    "\n",
    "fun(*(1,2,'l',[3,4,5]))\n",
    "fun(*[1, 2], 3, *range(4, 7))"
   ]
  },
  {
   "cell_type": "code",
   "execution_count": 14,
   "metadata": {},
   "outputs": [
    {
     "data": {
      "text/plain": [
       "[0, 1, 2, 3, 4, 5, 6, 7, 8]"
      ]
     },
     "execution_count": 14,
     "metadata": {},
     "output_type": "execute_result"
    }
   ],
   "source": [
    "[*range(5)] #unpacks the range\n",
    "#same as \n",
    "[i for i in range(5)]\n",
    "\n",
    "#another\n",
    "[*range(5),5,*(6,7,8)]"
   ]
  },
  {
   "cell_type": "markdown",
   "metadata": {},
   "source": [
    "#### Nested tuple unpacking"
   ]
  },
  {
   "cell_type": "code",
   "execution_count": 15,
   "metadata": {},
   "outputs": [
    {
     "name": "stdout",
     "output_type": "stream",
     "text": [
      "                |  latitude | longitude\n",
      "Mexico City     |   19.4333 |  -99.1333\n",
      "New York-Newark |   40.8086 |  -74.0204\n",
      "São Paulo       |  -23.5478 |  -46.6358\n"
     ]
    }
   ],
   "source": [
    "metro_areas = [\n",
    "    ('Tokyo', 'JP', 36.933, (35.689722, 139.691667)),  \n",
    "    ('Delhi NCR', 'IN', 21.935, (28.613889, 77.208889)),\n",
    "    ('Mexico City', 'MX', 20.142, (19.433333, -99.133333)),\n",
    "    ('New York-Newark', 'US', 20.104, (40.808611, -74.020386)),\n",
    "    ('São Paulo', 'BR', 19.649, (-23.547778, -46.635833)),\n",
    "]\n",
    "\n",
    "def main():\n",
    "    print(f'{\"\":15} | {\"latitude\":>9} | {\"longitude\":>9}')\n",
    "    for name,_,_,(lat,long) in metro_areas:\n",
    "        if long<=0:\n",
    "            print(f'{name:15} | {lat:9.4f} | {long:9.4f}')\n",
    "\n",
    "\n",
    "main()"
   ]
  },
  {
   "cell_type": "markdown",
   "metadata": {},
   "source": [
    "#### Pattern Matching with Sequences"
   ]
  },
  {
   "cell_type": "code",
   "execution_count": 16,
   "metadata": {},
   "outputs": [
    {
     "name": "stdout",
     "output_type": "stream",
     "text": [
      "                |  latitude | longitude\n",
      "Mexico City     |   19.4333 |  -99.1333\n",
      "New York-Newark |   40.8086 |  -74.0204\n",
      "São Paulo       |  -23.5478 |  -46.6358\n"
     ]
    }
   ],
   "source": [
    "#using match/case\n",
    "\n",
    "metro_areas = [\n",
    "    ('Tokyo', 'JP', 36.933, (35.689722, 139.691667)),  \n",
    "    ('Delhi NCR', 'IN', 21.935, (28.613889, 77.208889)),\n",
    "    ('Mexico City', 'MX', 20.142, (19.433333, -99.133333)),\n",
    "    ('New York-Newark', 'US', 20.104, (40.808611, -74.020386)),\n",
    "    ('São Paulo', 'BR', 19.649, (-23.547778, -46.635833)),\n",
    "]\n",
    "\n",
    "def main():\n",
    "    print(f'{\"\":15} | {\"latitude\":>9} | {\"longitude\":>9}')\n",
    "    for record in metro_areas:\n",
    "        match record:\n",
    "            case [name, _, _, (lat,lon)] if lon <= 0:\n",
    "                print(f'{name:15} | {lat:9.4f} | {lon:9.4f}')\n",
    "\n",
    "main()\n",
    "\n",
    "#The case method can be supplied using list, tuples and any other that supports sequence"
   ]
  },
  {
   "cell_type": "code",
   "execution_count": 17,
   "metadata": {},
   "outputs": [
    {
     "name": "stdout",
     "output_type": "stream",
     "text": [
      "                |  latitude | longitude\n",
      "Mexico City     |   19.4333 |  -99.1333\n",
      "New York-Newark |   40.8086 |  -74.0204\n",
      "São Paulo       |  -23.5478 |  -46.6358\n"
     ]
    }
   ],
   "source": [
    "\n",
    "metro_areas = [\n",
    "    ('Tokyo', 'JP', 36.933, (35.689722, 139.691667)),  \n",
    "    ('Delhi NCR', 'IN', 21.935, (28.613889, 77.208889)),\n",
    "    ('Mexico City', 'MX', 20.142, (19.433333, -99.133333)),\n",
    "    ('New York-Newark', 'US', 20.104, (40.808611, -74.020386)),\n",
    "    ('São Paulo', 'BR', 19.649, (-23.547778, -46.635833)),\n",
    "]\n",
    "\n",
    "def main():\n",
    "    print(f'{\"\":15} | {\"latitude\":>9} | {\"longitude\":>9}')\n",
    "    for record in metro_areas:\n",
    "        match record:\n",
    "            case (name, _, _, (lat,lon)) if lon <= 0:\n",
    "                print(f'{name:15} | {lat:9.4f} | {lon:9.4f}')\n",
    "\n",
    "main()\n",
    "#can use tuples also\n",
    "#But str, bytes, bytearray are not handled as sequences"
   ]
  },
  {
   "cell_type": "code",
   "execution_count": 18,
   "metadata": {},
   "outputs": [],
   "source": [
    "#method from an imaginary robot class\n",
    "\n",
    "\n",
    "\n",
    "\n",
    "\n",
    "def handle_command(self, message):\n",
    "    match message:\n",
    "        case ['BEEPER', frequency, times]:\n",
    "            self.beep(times, frequency)\n",
    "        case ['NECK', angle]:\n",
    "            self.rotate_neck(angle)\n",
    "        case['LED', ident, intensity]:\n",
    "            self.leds[ident].set_brightness(ident, intensity)\n",
    "        case['LED', ident, red, green, blue]:\n",
    "            self.leds[ident].set_color(ident, red, green, blue)\n",
    "        case _:\n",
    "            raise InvalidCommand(message)"
   ]
  },
  {
   "cell_type": "code",
   "execution_count": 19,
   "metadata": {},
   "outputs": [],
   "source": [
    "##acceptable sequence patterns list     memoryview    array.array\n",
    "#tuple    range         collections.deque"
   ]
  },
  {
   "cell_type": "code",
   "execution_count": 20,
   "metadata": {},
   "outputs": [],
   "source": [
    "#also can do the following\n",
    "\n",
    "#case [name, _, _, (lat, lon) as coord]"
   ]
  },
  {
   "cell_type": "markdown",
   "metadata": {},
   "source": [
    "#### Slicing"
   ]
  },
  {
   "cell_type": "code",
   "execution_count": 21,
   "metadata": {},
   "outputs": [
    {
     "data": {
      "text/plain": [
       "[10, 15]"
      ]
     },
     "execution_count": 21,
     "metadata": {},
     "output_type": "execute_result"
    }
   ],
   "source": [
    "#seq.__getitem__(slice(start, stop, step))\n",
    "List = [*range(10,40,5)]\n",
    "List.__getitem__(slice(0,2,1))"
   ]
  },
  {
   "cell_type": "code",
   "execution_count": 22,
   "metadata": {},
   "outputs": [
    {
     "data": {
      "text/plain": [
       "[10, 15]"
      ]
     },
     "execution_count": 22,
     "metadata": {},
     "output_type": "execute_result"
    }
   ],
   "source": [
    "#same as\n",
    "List[:2]"
   ]
  },
  {
   "cell_type": "code",
   "execution_count": 23,
   "metadata": {},
   "outputs": [],
   "source": [
    "invoice = \"\"\"\n",
    "0.....6.................................40........52...55........\n",
    "1909  Pimoroni PiBrella                     $17.50    3    $52.50\n",
    "1489  6mm Tactile Switch x20                 $4.95    2     $9.90\n",
    "1510  Panavise Jr. - PV-201                 $28.00    1    $28.00\n",
    "1601  PiTFT Mini Kit 320x240                $34.95    1    $34.95\n",
    "\"\"\""
   ]
  },
  {
   "cell_type": "code",
   "execution_count": 24,
   "metadata": {},
   "outputs": [
    {
     "data": {
      "text/plain": [
       "'\\n0.....6.................................40........52...55........\\n1909  Pimoroni PiBrella                     $17.50    3    $52.50\\n1489  6mm Tactile Switch x20                 $4.95    2     $9.90\\n1510  Panavise Jr. - PV-201                 $28.00    1    $28.00\\n1601  PiTFT Mini Kit 320x240                $34.95    1    $34.95\\n'"
      ]
     },
     "execution_count": 24,
     "metadata": {},
     "output_type": "execute_result"
    }
   ],
   "source": [
    "invoice"
   ]
  },
  {
   "cell_type": "code",
   "execution_count": 25,
   "metadata": {},
   "outputs": [],
   "source": [
    "SKU = slice(0, 6)\n",
    "DESCRIPTION = slice(6, 40)\n",
    "UNIT_PRICE = slice(40, 52)\n",
    "QUANTITY = slice(52, 55)\n",
    "ITEM_TOTAL = slice(55, None)\n",
    "line_items = invoice.split('\\n')[2:]"
   ]
  },
  {
   "cell_type": "code",
   "execution_count": 26,
   "metadata": {},
   "outputs": [
    {
     "data": {
      "text/plain": [
       "['1909  Pimoroni PiBrella                     $17.50    3    $52.50',\n",
       " '1489  6mm Tactile Switch x20                 $4.95    2     $9.90',\n",
       " '1510  Panavise Jr. - PV-201                 $28.00    1    $28.00',\n",
       " '1601  PiTFT Mini Kit 320x240                $34.95    1    $34.95',\n",
       " '']"
      ]
     },
     "execution_count": 26,
     "metadata": {},
     "output_type": "execute_result"
    }
   ],
   "source": [
    "line_items"
   ]
  },
  {
   "cell_type": "code",
   "execution_count": 27,
   "metadata": {},
   "outputs": [
    {
     "name": "stdout",
     "output_type": "stream",
     "text": [
      "    $17.50   Pimoroni PiBrella                 \n",
      "     $4.95   6mm Tactile Switch x20            \n",
      "    $28.00   Panavise Jr. - PV-201             \n",
      "    $34.95   PiTFT Mini Kit 320x240            \n",
      " \n"
     ]
    }
   ],
   "source": [
    "for item in line_items:\n",
    "    print(item[UNIT_PRICE], item[DESCRIPTION])"
   ]
  },
  {
   "cell_type": "markdown",
   "metadata": {},
   "source": [
    "#### Building list of lists\n"
   ]
  },
  {
   "cell_type": "code",
   "execution_count": 28,
   "metadata": {},
   "outputs": [
    {
     "data": {
      "text/plain": [
       "[['_', '_', '_'], ['_', '_', '_'], ['_', '_', '_']]"
      ]
     },
     "execution_count": 28,
     "metadata": {},
     "output_type": "execute_result"
    }
   ],
   "source": [
    "board = [['_']*3 for i in range(3)]\n",
    "board"
   ]
  },
  {
   "cell_type": "code",
   "execution_count": 29,
   "metadata": {},
   "outputs": [
    {
     "data": {
      "text/plain": [
       "[['_', '_', '_'], ['_', '_', 'X'], ['_', '_', '_']]"
      ]
     },
     "execution_count": 29,
     "metadata": {},
     "output_type": "execute_result"
    }
   ],
   "source": [
    "#if we want to replace a value  at a certain row and column\n",
    "\n",
    "board[1][2] = 'X'\n",
    "board"
   ]
  },
  {
   "cell_type": "code",
   "execution_count": 30,
   "metadata": {},
   "outputs": [
    {
     "data": {
      "text/plain": [
       "[['_', '_', 'X'], ['_', '_', 'X'], ['_', '_', 'X']]"
      ]
     },
     "execution_count": 30,
     "metadata": {},
     "output_type": "execute_result"
    }
   ],
   "source": [
    "#same board can also be built using the following method\n",
    "\n",
    "board = [['_']*3]*3\n",
    "board\n",
    "#however if we do the same operation\n",
    "board[1][2] = 'X'\n",
    "board\n",
    "#it changes in every places"
   ]
  },
  {
   "cell_type": "code",
   "execution_count": 31,
   "metadata": {},
   "outputs": [
    {
     "name": "stdout",
     "output_type": "stream",
     "text": [
      "140155736019136\n",
      "140155736019136\n",
      "140155992061056\n",
      "140156041867136\n"
     ]
    }
   ],
   "source": [
    "#inplace operators like __iadd__ and __imul__ can change only the mutable objects inplace, but cannot change immutable objects in place instead creates a new object\n",
    "\n",
    "#eg:\n",
    "\n",
    "l = [1,2,3]   #id same\n",
    "print(id(l))\n",
    "l *= 2          #id same\n",
    "print(id(l))\n",
    "l = (1,2,3)     #id changed\n",
    "print(id(l))\n",
    "l *= 2\n",
    "print(id(l))    #id changed"
   ]
  },
  {
   "cell_type": "code",
   "execution_count": 32,
   "metadata": {},
   "outputs": [
    {
     "ename": "TypeError",
     "evalue": "'tuple' object does not support item assignment",
     "output_type": "error",
     "traceback": [
      "\u001b[0;31m---------------------------------------------------------------------------\u001b[0m",
      "\u001b[0;31mTypeError\u001b[0m                                 Traceback (most recent call last)",
      "Cell \u001b[0;32mIn [32], line 2\u001b[0m\n\u001b[1;32m      1\u001b[0m t \u001b[39m=\u001b[39m (\u001b[39m1\u001b[39m, \u001b[39m2\u001b[39m, [\u001b[39m30\u001b[39m, \u001b[39m40\u001b[39m])\n\u001b[0;32m----> 2\u001b[0m t[\u001b[39m2\u001b[39;49m] \u001b[39m+\u001b[39m\u001b[39m=\u001b[39m [\u001b[39m50\u001b[39m, \u001b[39m60\u001b[39m]\n\u001b[1;32m      3\u001b[0m t\n",
      "\u001b[0;31mTypeError\u001b[0m: 'tuple' object does not support item assignment"
     ]
    }
   ],
   "source": [
    "t = (1, 2, [30, 40])\n",
    "t[2] += [50, 60]\n",
    "t"
   ]
  },
  {
   "cell_type": "code",
   "execution_count": 33,
   "metadata": {},
   "outputs": [
    {
     "data": {
      "text/plain": [
       "(1, 2, [30, 40, 50, 60])"
      ]
     },
     "execution_count": 33,
     "metadata": {},
     "output_type": "execute_result"
    }
   ],
   "source": [
    "t"
   ]
  },
  {
   "cell_type": "markdown",
   "metadata": {},
   "source": [
    "#### dis analyzes bytecode"
   ]
  },
  {
   "cell_type": "code",
   "execution_count": 34,
   "metadata": {},
   "outputs": [
    {
     "name": "stdout",
     "output_type": "stream",
     "text": [
      "  1           0 LOAD_NAME                0 (t)\n",
      "              2 LOAD_CONST               0 (2)\n",
      "              4 DUP_TOP_TWO\n",
      "              6 BINARY_SUBSCR\n",
      "              8 LOAD_CONST               1 (50)\n",
      "             10 LOAD_CONST               2 (60)\n",
      "             12 BUILD_LIST               2\n",
      "             14 INPLACE_ADD\n",
      "             16 ROT_THREE\n",
      "             18 STORE_SUBSCR\n",
      "             20 LOAD_CONST               3 (None)\n",
      "             22 RETURN_VALUE\n"
     ]
    }
   ],
   "source": [
    "from dis import dis\n",
    "#\n",
    "\n",
    "dis('t[2] += [50, 60]')"
   ]
  },
  {
   "cell_type": "markdown",
   "metadata": {},
   "source": [
    "#### list.sort Versus the sorted Built-In"
   ]
  },
  {
   "cell_type": "code",
   "execution_count": 35,
   "metadata": {},
   "outputs": [],
   "source": [
    "#Any function that changes an object in place returns none\n",
    "#whereas any function that changes an object and creates a new copy of it returns the object"
   ]
  },
  {
   "cell_type": "code",
   "execution_count": 36,
   "metadata": {},
   "outputs": [
    {
     "name": "stdout",
     "output_type": "stream",
     "text": [
      "140155380279040\n",
      "140155380225216\n"
     ]
    }
   ],
   "source": [
    "#list.sort changes inplace,whereas sorted creates a copy\n",
    "\n",
    "fruits = ['apple', 'banana', 'raspberry', 'grape']\n",
    "print(id(fruits))\n",
    "fruits.sort()    #changes in place\n",
    "\n",
    "print(id(sorted(fruits, key=len, reverse=True)))   #id changed; creates a new copy\n"
   ]
  },
  {
   "cell_type": "code",
   "execution_count": 37,
   "metadata": {},
   "outputs": [
    {
     "data": {
      "text/plain": [
       "['apple', 'banana', 'grape', 'raspberry']"
      ]
     },
     "execution_count": 37,
     "metadata": {},
     "output_type": "execute_result"
    }
   ],
   "source": [
    "fruits"
   ]
  },
  {
   "cell_type": "markdown",
   "metadata": {},
   "source": [
    "#### When a List Is Not the Answer"
   ]
  },
  {
   "cell_type": "code",
   "execution_count": 38,
   "metadata": {},
   "outputs": [],
   "source": [
    "#list is not very efficient when it comes to memory consumption\n",
    "#However lists are suitable for ops that requires high I/O ops as lists have more efficient fifo data structure\n",
    "\n"
   ]
  },
  {
   "cell_type": "markdown",
   "metadata": {},
   "source": [
    "##### Arrays"
   ]
  },
  {
   "cell_type": "markdown",
   "metadata": {},
   "source": [
    "###### Example 2-19. Creating, saving, and loading a large array of floats"
   ]
  },
  {
   "cell_type": "code",
   "execution_count": 39,
   "metadata": {},
   "outputs": [
    {
     "data": {
      "text/plain": [
       "True"
      ]
     },
     "execution_count": 39,
     "metadata": {},
     "output_type": "execute_result"
    }
   ],
   "source": [
    "from array import array\n",
    "from random import random\n",
    "\n",
    "floats = array('d',(random() for i in range(10**7)))\n",
    "floats[-1]\n",
    "fp = open('floats.bin', 'wb')\n",
    "floats.tofile(fp)\n",
    "fp.close()\n",
    "floats2 = array('d')\n",
    "fp = open('floats.bin', 'rb')\n",
    "floats2.fromfile(fp, 10**7)\n",
    "fp.close()\n",
    "floats2[-1]\n",
    "floats == floats2"
   ]
  },
  {
   "cell_type": "markdown",
   "metadata": {},
   "source": [
    "### Memoryview"
   ]
  },
  {
   "cell_type": "code",
   "execution_count": 40,
   "metadata": {},
   "outputs": [
    {
     "data": {
      "text/plain": [
       "[0, 1, 2, 3, 4, 5, 23, 7, 8, 9]"
      ]
     },
     "execution_count": 40,
     "metadata": {},
     "output_type": "execute_result"
    }
   ],
   "source": [
    "L = array('B',range(10))\n",
    "L.tolist()\n",
    "m1 = memoryview(L)\n",
    "L1 = m1.tolist()   #shares memory dosent copy\n",
    "id(m1),id(L1)\n",
    "m2 = m1.cast('B',[2,5])\n",
    "m2.tolist()\n",
    "m2[1,1] = 23 #change in m2\n",
    "m2.tolist()   \n",
    "m1.tolist()  #also changes m1 because they share the same memory"
   ]
  },
  {
   "cell_type": "markdown",
   "metadata": {},
   "source": [
    "#### Numpy"
   ]
  },
  {
   "cell_type": "code",
   "execution_count": 41,
   "metadata": {},
   "outputs": [
    {
     "data": {
      "text/plain": [
       "numpy.ndarray"
      ]
     },
     "execution_count": 41,
     "metadata": {},
     "output_type": "execute_result"
    }
   ],
   "source": [
    "import numpy as np\n",
    "\n",
    "a = np.arange(12)\n",
    "type(a)"
   ]
  },
  {
   "cell_type": "code",
   "execution_count": 42,
   "metadata": {},
   "outputs": [],
   "source": [
    "a.shape = 3, 4   #shape change"
   ]
  },
  {
   "cell_type": "code",
   "execution_count": 43,
   "metadata": {},
   "outputs": [
    {
     "data": {
      "text/plain": [
       "9"
      ]
     },
     "execution_count": 43,
     "metadata": {},
     "output_type": "execute_result"
    }
   ],
   "source": [
    "a[2,1]"
   ]
  },
  {
   "cell_type": "code",
   "execution_count": 44,
   "metadata": {},
   "outputs": [
    {
     "data": {
      "text/plain": [
       "array([[0, 1, 2, 3]])"
      ]
     },
     "execution_count": 44,
     "metadata": {},
     "output_type": "execute_result"
    }
   ],
   "source": [
    "a[:1]"
   ]
  },
  {
   "cell_type": "code",
   "execution_count": 45,
   "metadata": {},
   "outputs": [
    {
     "data": {
      "text/plain": [
       "array([[ 0,  4,  8],\n",
       "       [ 1,  5,  9],\n",
       "       [ 2,  6, 10],\n",
       "       [ 3,  7, 11]])"
      ]
     },
     "execution_count": 45,
     "metadata": {},
     "output_type": "execute_result"
    }
   ],
   "source": [
    "a.transpose()"
   ]
  },
  {
   "cell_type": "code",
   "execution_count": 46,
   "metadata": {},
   "outputs": [
    {
     "data": {
      "text/plain": [
       "array([[ 0,  1,  2,  3],\n",
       "       [ 4,  5,  6,  7],\n",
       "       [ 8,  9, 10, 11]])"
      ]
     },
     "execution_count": 46,
     "metadata": {},
     "output_type": "execute_result"
    }
   ],
   "source": [
    "a"
   ]
  },
  {
   "cell_type": "code",
   "execution_count": 47,
   "metadata": {},
   "outputs": [],
   "source": [
    "\n",
    "floats = array('d',[random()*100000 for i in range(10**7)])\n",
    "#floats = [str(i) for i in floats]"
   ]
  },
  {
   "cell_type": "code",
   "execution_count": 48,
   "metadata": {},
   "outputs": [],
   "source": [
    "#fp = open('floats.txt','w+')\n",
    "#floats[:100]\n",
    "#type(floats)"
   ]
  },
  {
   "cell_type": "code",
   "execution_count": 49,
   "metadata": {},
   "outputs": [],
   "source": [
    "#for i in floats:\n",
    "   # fp.write(str(i))\n",
    "   # fp.write('\\n')"
   ]
  },
  {
   "cell_type": "code",
   "execution_count": 50,
   "metadata": {},
   "outputs": [],
   "source": [
    "floats_np = np.loadtxt('floats.txt')"
   ]
  },
  {
   "cell_type": "code",
   "execution_count": 51,
   "metadata": {},
   "outputs": [
    {
     "data": {
      "text/plain": [
       "array([51466.07629095, 21974.00108776])"
      ]
     },
     "execution_count": 51,
     "metadata": {},
     "output_type": "execute_result"
    }
   ],
   "source": [
    "floats_np[-2:]"
   ]
  },
  {
   "cell_type": "code",
   "execution_count": 52,
   "metadata": {},
   "outputs": [],
   "source": [
    "walk = []\n",
    "position=0\n",
    "steps = 1000\n",
    "\n",
    "decider = np.random.randint(0,50)\n",
    "\n"
   ]
  },
  {
   "cell_type": "code",
   "execution_count": 53,
   "metadata": {},
   "outputs": [],
   "source": [
    "def walker(steps=1000):\n",
    "    position = 0\n",
    "    walk = []\n",
    "    for i in range(steps):\n",
    "        decider=np.random.randint(0,50)\n",
    "        if decider > 1 and decider < 25:\n",
    "            position -= 5\n",
    "        if decider > 25 and decider < 35:\n",
    "            position += 5\n",
    "        if decider > 35 and decider < 45:\n",
    "            position -=1\n",
    "        if decider > 45 and decider < 49:\n",
    "            position += 15\n",
    "        else:\n",
    "            position += 1\n",
    "        walk.append(position)\n",
    "    return walk"
   ]
  },
  {
   "cell_type": "code",
   "execution_count": 54,
   "metadata": {},
   "outputs": [
    {
     "data": {
      "text/plain": [
       "[<matplotlib.lines.Line2D at 0x7f787216b8b0>]"
      ]
     },
     "execution_count": 54,
     "metadata": {},
     "output_type": "execute_result"
    },
    {
     "data": {
      "image/png": "[encoded data removed]",
      "text/plain": [
       "<Figure size 640x480 with 1 Axes>"
      ]
     },
     "metadata": {},
     "output_type": "display_data"
    }
   ],
   "source": [
    "import matplotlib.pyplot as plt\n",
    "plt.plot(walker(),walker())"
   ]
  },
  {
   "cell_type": "markdown",
   "metadata": {},
   "source": [
    "#### 3D Random walk"
   ]
  },
  {
   "cell_type": "code",
   "execution_count": 60,
   "metadata": {},
   "outputs": [
    {
     "data": {
      "application/vnd.plotly.v1+json": {
       "config": {
        "plotlyServerURL": "https://plot.ly"
       },
       "data": [
        {
         "hovertemplate": "x=%{x}<br>y=%{y}<br>z=%{z}<extra></extra>",
         "legendgroup": "",
         "line": {
          "color": "#636efa",
          "dash": "solid"
         },
         "marker": {
          "symbol": "circle"
         },
         "mode": "lines",
         "name": "",
         "scene": "scene",
         "showlegend": false,
         "type": "scatter3d",
         "x": [
          -4,
          -8,
          -12,
          -12,
          -16,
          -16,
          -20,
          -24,
          -18,
          -22,
          -26,
          -30,
          -24,
          -28,
          -32,
          -26,
          -30,
          -34,
          -38,
          -42,
          -46,
          -46,
          -50,
          -54,
          -54,
          -58,
          -52,
          -46,
          -46,
          -50,
          -35,
          -34,
          -38,
          -32,
          -36,
          -40,
          -44,
          -48,
          -47,
          -41,
          -40,
          -44,
          -48,
          -48,
          -42,
          -42,
          -42,
          -42,
          -27,
          -31,
          -25,
          -25,
          -29,
          -33,
          -37,
          -31,
          -16,
          -20,
          -24,
          -28,
          -22,
          -26,
          -30,
          -24,
          -24,
          -23,
          -22,
          -22,
          -16,
          -20,
          -19,
          -23,
          -17,
          -11,
          -5,
          -9,
          -3,
          3,
          9,
          9,
          5,
          6,
          21,
          17,
          13,
          9,
          9,
          5,
          6,
          2,
          3,
          -1,
          -5,
          -5,
          -5,
          -9,
          6,
          12,
          18,
          18,
          18,
          14,
          29,
          29,
          25,
          40,
          46,
          46,
          52,
          53,
          54,
          50,
          51,
          47,
          47,
          43,
          39,
          40,
          36,
          36,
          32,
          32,
          28,
          28,
          28,
          34,
          30,
          30,
          30,
          26,
          26,
          22,
          18,
          14,
          20,
          16,
          22,
          28,
          28,
          34,
          30,
          31,
          27,
          23,
          23,
          29,
          25,
          25,
          25,
          21,
          21,
          21,
          17,
          17,
          13,
          9,
          5,
          1,
          -3,
          -7,
          -7,
          -11,
          -10,
          -14,
          -14,
          -8,
          -8,
          -12,
          -16,
          -20,
          -24,
          -23,
          -17,
          -21,
          -15,
          -15,
          -19,
          -19,
          -23,
          -27,
          -31,
          -31,
          -35,
          -35,
          -39,
          -38,
          -38,
          -42,
          -46,
          -40,
          -44,
          -48,
          -42,
          -46,
          -50,
          -50,
          -35,
          -39,
          -33,
          -18,
          -12,
          -11,
          -5,
          -4,
          -8,
          -2,
          -6,
          -5,
          -9,
          -13,
          -13,
          -17,
          -17,
          -21,
          -20,
          -19,
          -23,
          -27,
          -31,
          -35,
          -39,
          -43,
          -47,
          -46,
          -40,
          -39,
          -43,
          -28,
          -32,
          -36,
          -36,
          -40,
          -34,
          -28,
          -27,
          -31,
          -31,
          -25,
          -24,
          -28,
          -32,
          -32,
          -36,
          -30,
          -34,
          -28,
          -22,
          -22,
          -26,
          -20,
          -24,
          -24,
          -24,
          -28,
          -32,
          -36,
          -40,
          -44,
          -38,
          -42,
          -46,
          -50,
          -54,
          -58,
          -58,
          -62,
          -61,
          -46,
          -50,
          -44,
          -48,
          -52,
          -56,
          -60,
          -64,
          -58,
          -62,
          -66,
          -66,
          -70,
          -74,
          -78,
          -82,
          -86,
          -80,
          -80,
          -84,
          -84,
          -69,
          -63,
          -57,
          -51,
          -55,
          -59,
          -63,
          -57,
          -42,
          -36,
          -30,
          -15,
          0,
          -4,
          -3,
          -7,
          8,
          4,
          0,
          -4,
          -8,
          -8,
          -12,
          -16,
          -16,
          -16,
          -20,
          -14,
          -13,
          -17,
          -16,
          -20,
          -24,
          -24,
          -9,
          -13,
          -13,
          -17,
          -16,
          -20,
          -14,
          -14,
          -18,
          -18,
          -22,
          -26,
          -30,
          -34,
          -38,
          -42,
          -46,
          -50,
          -49,
          -53,
          -57,
          -51,
          -45,
          -44,
          -48,
          -52,
          -56,
          -60,
          -64,
          -68,
          -72,
          -76,
          -80,
          -84,
          -84,
          -78,
          -82,
          -82,
          -82,
          -86,
          -90,
          -84,
          -83,
          -87,
          -91,
          -91,
          -95,
          -99,
          -99,
          -103,
          -107,
          -106,
          -106,
          -110,
          -95,
          -89,
          -93,
          -97,
          -101,
          -95,
          -99,
          -103,
          -107,
          -101,
          -100,
          -104,
          -104,
          -98,
          -98,
          -102,
          -96,
          -95,
          -99,
          -103,
          -97,
          -91,
          -95,
          -99,
          -103,
          -103,
          -97,
          -96,
          -96,
          -96,
          -100,
          -104,
          -108,
          -108,
          -102,
          -106,
          -105,
          -90,
          -94,
          -98,
          -92,
          -86,
          -86,
          -86,
          -90,
          -75,
          -79,
          -79,
          -73,
          -73,
          -77,
          -81,
          -85,
          -79,
          -78,
          -82,
          -86,
          -90,
          -94,
          -94,
          -88,
          -82,
          -81,
          -75,
          -79,
          -83,
          -87,
          -91,
          -85,
          -79,
          -83,
          -77,
          -81,
          -85,
          -89,
          -93,
          -97,
          -91,
          -95,
          -94,
          -93,
          -93,
          -97,
          -96,
          -95,
          -99,
          -103,
          -97,
          -101,
          -101,
          -105,
          -109,
          -113,
          -117,
          -117,
          -117,
          -117,
          -111,
          -110,
          -110,
          -110,
          -114,
          -118,
          -122,
          -122,
          -116,
          -115,
          -115,
          -119,
          -113,
          -117,
          -102,
          -106,
          -110,
          -95,
          -99,
          -103,
          -103,
          -103,
          -107,
          -111,
          -96,
          -100,
          -100,
          -104,
          -108,
          -107,
          -111,
          -115,
          -114,
          -114,
          -108,
          -107,
          -106,
          -105,
          -109,
          -103,
          -97,
          -96,
          -100,
          -99,
          -103,
          -97,
          -82,
          -67,
          -52,
          -52,
          -46,
          -50,
          -54,
          -48,
          -42,
          -41,
          -45,
          -45,
          -49,
          -53,
          -38,
          -38,
          -32,
          -32,
          -26,
          -25,
          -10,
          -14,
          -18,
          -12,
          -6,
          -6,
          -5,
          -9,
          -8,
          -2,
          4,
          10,
          10,
          10,
          10,
          10,
          10,
          16,
          12,
          12,
          8,
          8,
          4,
          0,
          6,
          12,
          8,
          4,
          4,
          5,
          1,
          7,
          3,
          -1,
          0,
          15,
          15,
          11,
          7,
          13,
          9,
          15,
          11,
          17,
          13,
          28,
          24,
          24,
          30,
          30,
          31,
          27,
          28,
          43,
          43,
          43,
          39,
          35,
          36,
          32,
          32,
          28,
          28,
          24,
          20,
          16,
          17,
          13,
          13,
          13,
          9,
          9,
          5,
          1,
          -3,
          -2,
          -1,
          0,
          1,
          7,
          7,
          7,
          3,
          -1,
          -5,
          -4,
          -4,
          2,
          2,
          -2,
          -2,
          -1,
          5,
          5,
          1,
          -3,
          -7,
          -6,
          -5,
          1,
          1,
          7,
          7,
          3,
          4,
          10,
          6,
          7,
          7,
          13,
          9,
          15,
          11,
          7,
          3,
          3,
          -1,
          -1,
          -5,
          -9,
          -9,
          -13,
          -13,
          -13,
          -17,
          -21,
          -25,
          -29,
          -33,
          -37,
          -22,
          -26,
          -30,
          -24,
          -9,
          -13,
          -12,
          -11,
          -15,
          -15,
          -15,
          -15,
          -19,
          -18,
          -22,
          -26,
          -20,
          -20,
          -20,
          -24,
          -28,
          -27,
          -26,
          -11,
          -15,
          -15,
          -19,
          -19,
          -13,
          -17,
          -11,
          -15,
          -15,
          -19,
          -23,
          -27,
          -31,
          -35,
          -29,
          -29,
          -14,
          -13,
          -17,
          -11,
          -11,
          4,
          10,
          10,
          11,
          11,
          7,
          8,
          4,
          0,
          6,
          2,
          8,
          14,
          10,
          6,
          2,
          3,
          4,
          0,
          -4,
          -8,
          -2,
          13,
          19,
          25,
          21,
          21,
          17,
          23,
          24,
          20,
          16,
          22,
          18,
          18,
          24,
          20,
          26,
          22,
          28,
          24,
          24,
          24,
          20,
          26,
          26,
          26,
          32,
          33,
          29,
          30,
          31,
          27,
          23,
          19,
          15,
          21,
          21,
          17,
          17,
          13,
          9,
          9,
          9,
          5,
          1,
          -3,
          -3,
          -7,
          -7,
          -6,
          -6,
          9,
          9,
          10,
          16,
          17,
          17,
          13,
          9,
          9,
          5,
          6,
          2,
          -2,
          -6,
          0,
          -4,
          -8,
          -2,
          -2,
          -6,
          0,
          -4,
          -8,
          -12,
          -16,
          -20,
          -24,
          -28,
          -32,
          -36,
          -30,
          -34,
          -38,
          -42,
          -46,
          -50,
          -54,
          -48,
          -52,
          -46,
          -40,
          -40,
          -44,
          -48,
          -52,
          -46,
          -50,
          -50,
          -50,
          -54,
          -58,
          -57,
          -56,
          -56,
          -50,
          -54,
          -58,
          -62,
          -66,
          -66,
          -70,
          -70,
          -70,
          -74,
          -74,
          -74,
          -78,
          -82,
          -86,
          -71,
          -71,
          -56,
          -41,
          -45,
          -39,
          -39,
          -43,
          -47,
          -51,
          -50,
          -44,
          -48,
          -33,
          -37,
          -37,
          -41,
          -45,
          -45,
          -49,
          -53,
          -53,
          -57,
          -61,
          -65,
          -50,
          -49,
          -48,
          -52,
          -56,
          -56,
          -50,
          -54,
          -58,
          -62,
          -62,
          -56,
          -55,
          -49,
          -53,
          -47,
          -47,
          -51,
          -55,
          -49,
          -53,
          -47,
          -51,
          -51,
          -51,
          -50,
          -54,
          -58,
          -58,
          -57,
          -61,
          -55,
          -59,
          -59,
          -63,
          -63,
          -62,
          -62,
          -62,
          -61,
          -60,
          -64,
          -68,
          -62,
          -61,
          -60,
          -64,
          -64,
          -49,
          -53,
          -47,
          -47,
          -51,
          -51,
          -55,
          -59,
          -59,
          -58,
          -52,
          -52,
          -52,
          -56,
          -41,
          -40,
          -40,
          -40,
          -39,
          -38,
          -32,
          -26,
          -20,
          -24,
          -28,
          -32,
          -36,
          -40,
          -40,
          -40,
          -39,
          -38,
          -37,
          -36,
          -30,
          -34,
          -38,
          -42,
          -46,
          -45,
          -39,
          -43,
          -47,
          -51,
          -50,
          -49,
          -43,
          -37,
          -22,
          -26,
          -30,
          -30,
          -34,
          -33,
          -37,
          -41,
          -35,
          -35,
          -34,
          -34,
          -38,
          -38,
          -32,
          -26,
          -25,
          -19,
          -18,
          -22,
          -22,
          -26,
          -26,
          -11
         ],
         "y": [
          6,
          12,
          8,
          8,
          4,
          0,
          -4,
          -8,
          -8,
          -12,
          -16,
          -20,
          -5,
          -9,
          -3,
          12,
          13,
          19,
          15,
          21,
          27,
          23,
          19,
          25,
          31,
          31,
          46,
          42,
          42,
          42,
          43,
          39,
          35,
          36,
          37,
          37,
          33,
          34,
          30,
          36,
          32,
          28,
          24,
          20,
          16,
          12,
          8,
          9,
          5,
          1,
          2,
          -2,
          -6,
          -10,
          -4,
          2,
          2,
          2,
          3,
          -1,
          -5,
          -5,
          1,
          -3,
          -7,
          -6,
          -10,
          -4,
          -8,
          -2,
          -6,
          9,
          9,
          5,
          1,
          1,
          -3,
          -7,
          -11,
          -10,
          -14,
          -14,
          -8,
          -12,
          -16,
          -20,
          -24,
          -9,
          -13,
          -17,
          -21,
          -25,
          -29,
          -33,
          -33,
          -32,
          -17,
          -17,
          -17,
          -21,
          -25,
          -25,
          -19,
          -18,
          -18,
          -12,
          -6,
          -5,
          10,
          25,
          25,
          31,
          37,
          43,
          39,
          35,
          36,
          36,
          32,
          28,
          24,
          25,
          21,
          21,
          21,
          17,
          13,
          9,
          9,
          10,
          10,
          11,
          7,
          3,
          -1,
          5,
          5,
          1,
          1,
          -3,
          3,
          3,
          -1,
          -5,
          -5,
          1,
          -3,
          -7,
          -1,
          5,
          1,
          -3,
          3,
          9,
          5,
          11,
          7,
          22,
          23,
          29,
          25,
          31,
          37,
          33,
          33,
          48,
          44,
          40,
          40,
          40,
          36,
          32,
          28,
          29,
          25,
          31,
          31,
          32,
          32,
          32,
          38,
          34,
          34,
          34,
          49,
          49,
          45,
          41,
          37,
          33,
          33,
          29,
          25,
          21,
          17,
          32,
          33,
          48,
          48,
          54,
          50,
          46,
          42,
          38,
          38,
          34,
          35,
          31,
          27,
          33,
          29,
          30,
          26,
          27,
          23,
          19,
          15,
          16,
          22,
          18,
          14,
          10,
          16,
          12,
          12,
          8,
          4,
          0,
          1,
          2,
          8,
          8,
          9,
          5,
          1,
          16,
          17,
          23,
          29,
          25,
          21,
          17,
          13,
          28,
          34,
          30,
          36,
          36,
          42,
          57,
          72,
          68,
          83,
          79,
          79,
          94,
          95,
          110,
          106,
          112,
          108,
          104,
          100,
          101,
          97,
          97,
          97,
          103,
          104,
          100,
          96,
          97,
          103,
          118,
          114,
          114,
          114,
          129,
          130,
          130,
          126,
          127,
          123,
          124,
          120,
          126,
          141,
          137,
          133,
          139,
          139,
          135,
          131,
          127,
          127,
          133,
          129,
          129,
          125,
          121,
          121,
          117,
          117,
          118,
          114,
          110,
          110,
          106,
          102,
          108,
          114,
          114,
          110,
          116,
          112,
          112,
          112,
          112,
          108,
          109,
          105,
          106,
          107,
          107,
          108,
          104,
          105,
          111,
          117,
          132,
          128,
          124,
          120,
          120,
          116,
          122,
          137,
          143,
          139,
          135,
          131,
          132,
          132,
          138,
          134,
          149,
          145,
          141,
          137,
          137,
          133,
          129,
          135,
          131,
          131,
          127,
          127,
          133,
          129,
          129,
          135,
          141,
          137,
          138,
          139,
          154,
          150,
          146,
          152,
          153,
          149,
          164,
          164,
          170,
          166,
          162,
          158,
          158,
          154,
          169,
          170,
          171,
          177,
          173,
          179,
          185,
          185,
          181,
          181,
          177,
          178,
          174,
          175,
          176,
          182,
          182,
          178,
          174,
          174,
          189,
          185,
          181,
          182,
          178,
          178,
          193,
          199,
          195,
          201,
          197,
          193,
          189,
          185,
          191,
          206,
          212,
          208,
          204,
          200,
          206,
          202,
          198,
          213,
          214,
          229,
          229,
          230,
          230,
          236,
          232,
          233,
          234,
          240,
          240,
          236,
          237,
          233,
          239,
          235,
          241,
          247,
          247,
          248,
          244,
          240,
          246,
          242,
          238,
          238,
          234,
          230,
          236,
          232,
          238,
          244,
          240,
          246,
          246,
          242,
          238,
          234,
          234,
          230,
          231,
          227,
          223,
          219,
          215,
          216,
          222,
          218,
          224,
          225,
          221,
          217,
          217,
          232,
          228,
          234,
          240,
          236,
          232,
          228,
          224,
          239,
          235,
          231,
          227,
          223,
          229,
          229,
          225,
          225,
          231,
          237,
          243,
          239,
          235,
          231,
          227,
          242,
          248,
          244,
          240,
          246,
          246,
          246,
          242,
          238,
          234,
          234,
          234,
          249,
          250,
          246,
          242,
          242,
          238,
          234,
          234,
          230,
          226,
          232,
          228,
          224,
          230,
          236,
          236,
          232,
          238,
          239,
          239,
          235,
          236,
          242,
          238,
          239,
          254,
          250,
          250,
          246,
          242,
          248,
          248,
          248,
          244,
          244,
          240,
          236,
          237,
          233,
          229,
          244,
          240,
          236,
          232,
          232,
          228,
          234,
          240,
          246,
          242,
          238,
          234,
          230,
          226,
          226,
          232,
          228,
          224,
          220,
          221,
          217,
          218,
          214,
          214,
          220,
          226,
          226,
          226,
          227,
          223,
          219,
          234,
          240,
          241,
          256,
          252,
          248,
          244,
          245,
          241,
          237,
          252,
          258,
          264,
          260,
          266,
          266,
          262,
          262,
          268,
          274,
          289,
          285,
          285,
          291,
          287,
          293,
          293,
          294,
          290,
          290,
          291,
          297,
          293,
          294,
          290,
          291,
          291,
          287,
          283,
          289,
          290,
          296,
          292,
          288,
          289,
          295,
          291,
          306,
          302,
          298,
          294,
          300,
          300,
          306,
          302,
          308,
          309,
          305,
          306,
          302,
          308,
          304,
          310,
          306,
          302,
          298,
          294,
          294,
          294,
          300,
          306,
          312,
          318,
          318,
          314,
          314,
          314,
          329,
          329,
          335,
          335,
          331,
          327,
          323,
          319,
          320,
          316,
          322,
          318,
          314,
          310,
          325,
          325,
          321,
          321,
          321,
          327,
          327,
          323,
          319,
          315,
          311,
          307,
          322,
          322,
          323,
          324,
          320,
          326,
          327,
          323,
          338,
          339,
          345,
          346,
          352,
          348,
          344,
          350,
          346,
          342,
          338,
          334,
          335,
          341,
          356,
          362,
          368,
          364,
          360,
          375,
          371,
          367,
          363,
          359,
          360,
          356,
          356,
          356,
          357,
          372,
          372,
          368,
          368,
          374,
          375,
          371,
          367,
          368,
          364,
          360,
          361,
          361,
          357,
          353,
          349,
          345,
          341,
          337,
          333,
          333,
          339,
          345,
          341,
          337,
          333,
          334,
          330,
          326,
          322,
          328,
          324,
          320,
          335,
          331,
          337,
          337,
          333,
          329,
          335,
          331,
          331,
          331,
          331,
          332,
          332,
          328,
          328,
          324,
          320,
          316,
          316,
          312,
          327,
          323,
          319,
          315,
          311,
          311,
          312,
          318,
          319,
          315,
          321,
          317,
          318,
          314,
          310,
          306,
          307,
          307,
          303,
          304,
          300,
          300,
          296,
          302,
          317,
          317,
          318,
          319,
          320,
          321,
          322,
          322,
          328,
          324,
          320,
          321,
          317,
          323,
          319,
          315,
          311,
          307,
          303,
          299,
          299,
          305,
          301,
          297,
          293,
          294,
          300,
          301,
          297,
          298,
          294,
          290,
          291,
          287,
          283,
          279,
          279,
          279,
          275,
          271,
          267,
          268,
          274,
          270,
          276,
          272,
          268,
          268,
          264,
          270,
          285,
          285,
          281,
          277,
          273,
          273,
          274,
          280,
          276,
          276,
          272,
          268,
          274,
          274,
          270,
          266,
          262,
          262,
          262,
          258,
          254,
          254,
          250,
          246,
          247,
          243,
          249,
          264,
          270,
          266,
          266,
          267,
          267,
          263,
          269,
          265,
          261,
          257,
          258,
          259,
          265,
          271,
          267,
          263,
          259,
          255,
          251,
          252,
          267,
          263,
          278,
          274,
          280,
          276,
          282,
          297,
          298,
          294,
          290,
          286,
          282,
          278,
          284,
          280,
          286,
          287,
          283,
          279,
          285,
          281,
          287,
          288,
          294,
          309,
          305,
          306,
          307,
          303,
          309,
          309,
          324,
          325,
          325,
          325,
          326,
          322,
          322,
          318,
          314,
          310,
          316,
          317,
          313,
          319,
          319,
          319,
          315,
          316,
          316,
          316,
          331,
          331,
          337,
          333,
          329,
          335,
          335,
          331,
          327,
          323,
          319,
          319,
          315,
          321,
          321,
          317,
          313,
          313,
          309,
          309,
          310,
          310,
          306,
          312,
          313,
          319,
          315,
          321,
          327,
          333,
          339,
          340,
          355,
          351,
          357,
          372,
          372,
          368,
          369,
          375,
          381,
          377,
          377,
          377,
          373,
          379,
          379,
          379,
          375,
          375
         ],
         "z": [
          -4,
          2,
          3,
          9,
          5,
          5,
          1,
          1,
          1,
          -3,
          -7,
          -7,
          -6,
          -10,
          5,
          1,
          1,
          1,
          -3,
          -7,
          -1,
          -5,
          -9,
          -13,
          -13,
          -12,
          -12,
          -16,
          -10,
          -4,
          2,
          -2,
          4,
          4,
          0,
          -4,
          -8,
          -12,
          -16,
          -20,
          -20,
          -19,
          -19,
          -23,
          -8,
          -2,
          4,
          0,
          0,
          6,
          21,
          36,
          32,
          47,
          43,
          39,
          35,
          31,
          27,
          27,
          23,
          24,
          20,
          26,
          32,
          47,
          43,
          39,
          45,
          45,
          41,
          37,
          38,
          44,
          45,
          45,
          41,
          47,
          43,
          39,
          39,
          39,
          40,
          46,
          46,
          52,
          48,
          54,
          50,
          46,
          42,
          38,
          34,
          30,
          26,
          22,
          23,
          23,
          19,
          15,
          15,
          16,
          12,
          12,
          12,
          8,
          9,
          5,
          11,
          7,
          3,
          4,
          19,
          15,
          11,
          11,
          7,
          7,
          7,
          7,
          13,
          9,
          5,
          1,
          2,
          3,
          3,
          9,
          5,
          11,
          17,
          32,
          28,
          24,
          25,
          31,
          31,
          31,
          32,
          32,
          38,
          44,
          50,
          46,
          42,
          42,
          48,
          44,
          50,
          50,
          46,
          42,
          42,
          48,
          48,
          48,
          44,
          59,
          55,
          55,
          55,
          70,
          85,
          81,
          96,
          111,
          112,
          127,
          128,
          124,
          120,
          126,
          132,
          128,
          134,
          130,
          131,
          127,
          123,
          129,
          125,
          121,
          117,
          117,
          132,
          128,
          128,
          124,
          125,
          121,
          121,
          117,
          123,
          124,
          120,
          121,
          117,
          132,
          128,
          129,
          125,
          126,
          126,
          122,
          123,
          124,
          130,
          126,
          122,
          122,
          123,
          129,
          125,
          121,
          127,
          123,
          129,
          130,
          136,
          142,
          157,
          158,
          154,
          160,
          161,
          157,
          158,
          154,
          150,
          165,
          161,
          157,
          157,
          158,
          159,
          155,
          161,
          161,
          167,
          167,
          167,
          167,
          163,
          159,
          165,
          161,
          167,
          173,
          173,
          179,
          175,
          171,
          172,
          187,
          183,
          183,
          183,
          189,
          189,
          185,
          186,
          182,
          178,
          184,
          185,
          181,
          177,
          183,
          179,
          179,
          175,
          176,
          182,
          178,
          193,
          199,
          214,
          214,
          210,
          206,
          221,
          236,
          232,
          228,
          229,
          225,
          221,
          221,
          221,
          217,
          213,
          209,
          209,
          209,
          224,
          230,
          236,
          236,
          236,
          237,
          233,
          239,
          240,
          240,
          236,
          232,
          238,
          238,
          234,
          234,
          249,
          249,
          264,
          260,
          256,
          252,
          252,
          258,
          259,
          265,
          265,
          261,
          276,
          291,
          287,
          287,
          283,
          279,
          275,
          276,
          291,
          287,
          293,
          289,
          289,
          290,
          286,
          282,
          278,
          278,
          279,
          279,
          285,
          300,
          296,
          292,
          288,
          303,
          299,
          295,
          301,
          301,
          307,
          322,
          318,
          314,
          320,
          320,
          316,
          331,
          337,
          343,
          339,
          339,
          340,
          336,
          332,
          338,
          339,
          335,
          341,
          347,
          362,
          358,
          364,
          360,
          366,
          362,
          358,
          358,
          364,
          360,
          356,
          352,
          352,
          358,
          364,
          360,
          360,
          356,
          352,
          348,
          363,
          364,
          365,
          365,
          365,
          365,
          366,
          372,
          368,
          374,
          389,
          389,
          385,
          386,
          387,
          387,
          387,
          383,
          379,
          379,
          375,
          371,
          372,
          368,
          364,
          360,
          356,
          352,
          358,
          354,
          350,
          346,
          346,
          352,
          348,
          348,
          354,
          350,
          350,
          351,
          347,
          353,
          353,
          349,
          345,
          341,
          342,
          338,
          353,
          354,
          360,
          366,
          362,
          377,
          373,
          373,
          373,
          369,
          370,
          366,
          362,
          358,
          354,
          350,
          351,
          347,
          343,
          349,
          345,
          341,
          337,
          337,
          333,
          333,
          329,
          330,
          326,
          327,
          323,
          319,
          334,
          330,
          331,
          331,
          331,
          327,
          323,
          323,
          329,
          325,
          321,
          321,
          317,
          313,
          319,
          325,
          321,
          336,
          351,
          357,
          353,
          349,
          350,
          346,
          347,
          343,
          339,
          354,
          350,
          350,
          350,
          346,
          346,
          342,
          338,
          334,
          349,
          364,
          364,
          370,
          370,
          366,
          372,
          378,
          374,
          375,
          375,
          371,
          386,
          392,
          388,
          384,
          380,
          380,
          386,
          392,
          392,
          398,
          394,
          390,
          396,
          392,
          393,
          389,
          395,
          401,
          397,
          393,
          394,
          395,
          391,
          406,
          402,
          417,
          423,
          419,
          420,
          416,
          412,
          413,
          409,
          409,
          409,
          409,
          424,
          424,
          420,
          416,
          412,
          408,
          409,
          405,
          411,
          407,
          408,
          404,
          400,
          396,
          397,
          393,
          389,
          385,
          381,
          381,
          387,
          383,
          379,
          375,
          371,
          377,
          377,
          377,
          377,
          383,
          383,
          384,
          399,
          395,
          391,
          387,
          383,
          389,
          389,
          395,
          391,
          391,
          387,
          383,
          384,
          380,
          380,
          381,
          377,
          377,
          378,
          378,
          378,
          374,
          374,
          375,
          371,
          377,
          373,
          373,
          369,
          365,
          366,
          366,
          362,
          377,
          373,
          374,
          370,
          366,
          362,
          362,
          363,
          363,
          363,
          359,
          355,
          356,
          357,
          357,
          353,
          359,
          359,
          355,
          356,
          357,
          353,
          354,
          360,
          356,
          352,
          353,
          349,
          345,
          346,
          346,
          346,
          342,
          343,
          344,
          345,
          341,
          337,
          343,
          339,
          339,
          335,
          331,
          332,
          338,
          334,
          340,
          346,
          352,
          353,
          349,
          345,
          351,
          351,
          352,
          352,
          348,
          344,
          359,
          359,
          355,
          356,
          352,
          352,
          348,
          348,
          344,
          350,
          356,
          352,
          367,
          367,
          363,
          359,
          359,
          360,
          366,
          362,
          358,
          364,
          370,
          366,
          372,
          368,
          383,
          398,
          394,
          390,
          390,
          390,
          386,
          382,
          383,
          379,
          375,
          371,
          367,
          368,
          369,
          375,
          371,
          371,
          372,
          373,
          369,
          365,
          371,
          367,
          382,
          378,
          374,
          370,
          366,
          372,
          373,
          369,
          365,
          371,
          367,
          363,
          364,
          370,
          371,
          386,
          386,
          392,
          388,
          384,
          390,
          390,
          386,
          401,
          397,
          412,
          412,
          413,
          419,
          415,
          411,
          411,
          412,
          412,
          418,
          414,
          420,
          416,
          416,
          422,
          423,
          419,
          415,
          421,
          422,
          418,
          414,
          414,
          410,
          410,
          410,
          410,
          410,
          406,
          407,
          403,
          399,
          400,
          400,
          401,
          402,
          408,
          414,
          410,
          406,
          402,
          408,
          408,
          404,
          405,
          401,
          397,
          393,
          389,
          385,
          386,
          401,
          397,
          393,
          399,
          399,
          395,
          395,
          391,
          387,
          383,
          383,
          389,
          389,
          395,
          391,
          392,
          388,
          394,
          394,
          395,
          391,
          387,
          387,
          393,
          399,
          399,
          405,
          401,
          416,
          416,
          422,
          418,
          424,
          424,
          424,
          420,
          435,
          431,
          427,
          427,
          433,
          434,
          430,
          431,
          427,
          423,
          424,
          420,
          420,
          421,
          421,
          422,
          423,
          424,
          420,
          416,
          422,
          422,
          418,
          414,
          420,
          416,
          417,
          417,
          413,
          413,
          413,
          409,
          405,
          401,
          397,
          393,
          389,
          395,
          395,
          401,
          397,
          393,
          389,
          390,
          391,
          391,
          387,
          387,
          388,
          388,
          384,
          380,
          376,
          372,
          372,
          368,
          374,
          380,
          386,
          392,
          393,
          399,
          405,
          405,
          401,
          397,
          393,
          389,
          385,
          385,
          385,
          381,
          396,
          402,
          398,
          394,
          394,
          400,
          396,
          392,
          407,
          403,
          418,
          414,
          420,
          420,
          416,
          412,
          412,
          408,
          423,
          424,
          420,
          420,
          416,
          412,
          413,
          414,
          410,
          416,
          412,
          427,
          423,
          419,
          415,
          416,
          417,
          413,
          409,
          424,
          424,
          430,
          426,
          422,
          423,
          429,
          444,
          440,
          436,
          432,
          428,
          429,
          425,
          421,
          417,
          417,
          417,
          413,
          409,
          405,
          411,
          407,
          407,
          403,
          404,
          410,
          406,
          412,
          427,
          433,
          439,
          439,
          435,
          431,
          427,
          423,
          423,
          438,
          434,
          440,
          441,
          437,
          437,
          452,
          448,
          448,
          444,
          440,
          446
         ]
        }
       ],
       "layout": {
        "legend": {
         "tracegroupgap": 0
        },
        "margin": {
         "t": 60
        },
        "scene": {
         "domain": {
          "x": [
           0,
           1
          ],
          "y": [
           0,
           1
          ]
         },
         "xaxis": {
          "title": {
           "text": "x"
          }
         },
         "yaxis": {
          "title": {
           "text": "y"
          }
         },
         "zaxis": {
          "title": {
           "text": "z"
          }
         }
        },
        "template": {
         "data": {
          "bar": [
           {
            "error_x": {
             "color": "#2a3f5f"
            },
            "error_y": {
             "color": "#2a3f5f"
            },
            "marker": {
             "line": {
              "color": "#E5ECF6",
              "width": 0.5
             },
             "pattern": {
              "fillmode": "overlay",
              "size": 10,
              "solidity": 0.2
             }
            },
            "type": "bar"
           }
          ],
          "barpolar": [
           {
            "marker": {
             "line": {
              "color": "#E5ECF6",
              "width": 0.5
             },
             "pattern": {
              "fillmode": "overlay",
              "size": 10,
              "solidity": 0.2
             }
            },
            "type": "barpolar"
           }
          ],
          "carpet": [
           {
            "aaxis": {
             "endlinecolor": "#2a3f5f",
             "gridcolor": "white",
             "linecolor": "white",
             "minorgridcolor": "white",
             "startlinecolor": "#2a3f5f"
            },
            "baxis": {
             "endlinecolor": "#2a3f5f",
             "gridcolor": "white",
             "linecolor": "white",
             "minorgridcolor": "white",
             "startlinecolor": "#2a3f5f"
            },
            "type": "carpet"
           }
          ],
          "choropleth": [
           {
            "colorbar": {
             "outlinewidth": 0,
             "ticks": ""
            },
            "type": "choropleth"
           }
          ],
          "contour": [
           {
            "colorbar": {
             "outlinewidth": 0,
             "ticks": ""
            },
            "colorscale": [
             [
              0,
              "#0d0887"
             ],
             [
              0.1111111111111111,
              "#46039f"
             ],
             [
              0.2222222222222222,
              "#7201a8"
             ],
             [
              0.3333333333333333,
              "#9c179e"
             ],
             [
              0.4444444444444444,
              "#bd3786"
             ],
             [
              0.5555555555555556,
              "#d8576b"
             ],
             [
              0.6666666666666666,
              "#ed7953"
             ],
             [
              0.7777777777777778,
              "#fb9f3a"
             ],
             [
              0.8888888888888888,
              "#fdca26"
             ],
             [
              1,
              "#f0f921"
             ]
            ],
            "type": "contour"
           }
          ],
          "contourcarpet": [
           {
            "colorbar": {
             "outlinewidth": 0,
             "ticks": ""
            },
            "type": "contourcarpet"
           }
          ],
          "heatmap": [
           {
            "colorbar": {
             "outlinewidth": 0,
             "ticks": ""
            },
            "colorscale": [
             [
              0,
              "#0d0887"
             ],
             [
              0.1111111111111111,
              "#46039f"
             ],
             [
              0.2222222222222222,
              "#7201a8"
             ],
             [
              0.3333333333333333,
              "#9c179e"
             ],
             [
              0.4444444444444444,
              "#bd3786"
             ],
             [
              0.5555555555555556,
              "#d8576b"
             ],
             [
              0.6666666666666666,
              "#ed7953"
             ],
             [
              0.7777777777777778,
              "#fb9f3a"
             ],
             [
              0.8888888888888888,
              "#fdca26"
             ],
             [
              1,
              "#f0f921"
             ]
            ],
            "type": "heatmap"
           }
          ],
          "heatmapgl": [
           {
            "colorbar": {
             "outlinewidth": 0,
             "ticks": ""
            },
            "colorscale": [
             [
              0,
              "#0d0887"
             ],
             [
              0.1111111111111111,
              "#46039f"
             ],
             [
              0.2222222222222222,
              "#7201a8"
             ],
             [
              0.3333333333333333,
              "#9c179e"
             ],
             [
              0.4444444444444444,
              "#bd3786"
             ],
             [
              0.5555555555555556,
              "#d8576b"
             ],
             [
              0.6666666666666666,
              "#ed7953"
             ],
             [
              0.7777777777777778,
              "#fb9f3a"
             ],
             [
              0.8888888888888888,
              "#fdca26"
             ],
             [
              1,
              "#f0f921"
             ]
            ],
            "type": "heatmapgl"
           }
          ],
          "histogram": [
           {
            "marker": {
             "pattern": {
              "fillmode": "overlay",
              "size": 10,
              "solidity": 0.2
             }
            },
            "type": "histogram"
           }
          ],
          "histogram2d": [
           {
            "colorbar": {
             "outlinewidth": 0,
             "ticks": ""
            },
            "colorscale": [
             [
              0,
              "#0d0887"
             ],
             [
              0.1111111111111111,
              "#46039f"
             ],
             [
              0.2222222222222222,
              "#7201a8"
             ],
             [
              0.3333333333333333,
              "#9c179e"
             ],
             [
              0.4444444444444444,
              "#bd3786"
             ],
             [
              0.5555555555555556,
              "#d8576b"
             ],
             [
              0.6666666666666666,
              "#ed7953"
             ],
             [
              0.7777777777777778,
              "#fb9f3a"
             ],
             [
              0.8888888888888888,
              "#fdca26"
             ],
             [
              1,
              "#f0f921"
             ]
            ],
            "type": "histogram2d"
           }
          ],
          "histogram2dcontour": [
           {
            "colorbar": {
             "outlinewidth": 0,
             "ticks": ""
            },
            "colorscale": [
             [
              0,
              "#0d0887"
             ],
             [
              0.1111111111111111,
              "#46039f"
             ],
             [
              0.2222222222222222,
              "#7201a8"
             ],
             [
              0.3333333333333333,
              "#9c179e"
             ],
             [
              0.4444444444444444,
              "#bd3786"
             ],
             [
              0.5555555555555556,
              "#d8576b"
             ],
             [
              0.6666666666666666,
              "#ed7953"
             ],
             [
              0.7777777777777778,
              "#fb9f3a"
             ],
             [
              0.8888888888888888,
              "#fdca26"
             ],
             [
              1,
              "#f0f921"
             ]
            ],
            "type": "histogram2dcontour"
           }
          ],
          "mesh3d": [
           {
            "colorbar": {
             "outlinewidth": 0,
             "ticks": ""
            },
            "type": "mesh3d"
           }
          ],
          "parcoords": [
           {
            "line": {
             "colorbar": {
              "outlinewidth": 0,
              "ticks": ""
             }
            },
            "type": "parcoords"
           }
          ],
          "pie": [
           {
            "automargin": true,
            "type": "pie"
           }
          ],
          "scatter": [
           {
            "fillpattern": {
             "fillmode": "overlay",
             "size": 10,
             "solidity": 0.2
            },
            "type": "scatter"
           }
          ],
          "scatter3d": [
           {
            "line": {
             "colorbar": {
              "outlinewidth": 0,
              "ticks": ""
             }
            },
            "marker": {
             "colorbar": {
              "outlinewidth": 0,
              "ticks": ""
             }
            },
            "type": "scatter3d"
           }
          ],
          "scattercarpet": [
           {
            "marker": {
             "colorbar": {
              "outlinewidth": 0,
              "ticks": ""
             }
            },
            "type": "scattercarpet"
           }
          ],
          "scattergeo": [
           {
            "marker": {
             "colorbar": {
              "outlinewidth": 0,
              "ticks": ""
             }
            },
            "type": "scattergeo"
           }
          ],
          "scattergl": [
           {
            "marker": {
             "colorbar": {
              "outlinewidth": 0,
              "ticks": ""
             }
            },
            "type": "scattergl"
           }
          ],
          "scattermapbox": [
           {
            "marker": {
             "colorbar": {
              "outlinewidth": 0,
              "ticks": ""
             }
            },
            "type": "scattermapbox"
           }
          ],
          "scatterpolar": [
           {
            "marker": {
             "colorbar": {
              "outlinewidth": 0,
              "ticks": ""
             }
            },
            "type": "scatterpolar"
           }
          ],
          "scatterpolargl": [
           {
            "marker": {
             "colorbar": {
              "outlinewidth": 0,
              "ticks": ""
             }
            },
            "type": "scatterpolargl"
           }
          ],
          "scatterternary": [
           {
            "marker": {
             "colorbar": {
              "outlinewidth": 0,
              "ticks": ""
             }
            },
            "type": "scatterternary"
           }
          ],
          "surface": [
           {
            "colorbar": {
             "outlinewidth": 0,
             "ticks": ""
            },
            "colorscale": [
             [
              0,
              "#0d0887"
             ],
             [
              0.1111111111111111,
              "#46039f"
             ],
             [
              0.2222222222222222,
              "#7201a8"
             ],
             [
              0.3333333333333333,
              "#9c179e"
             ],
             [
              0.4444444444444444,
              "#bd3786"
             ],
             [
              0.5555555555555556,
              "#d8576b"
             ],
             [
              0.6666666666666666,
              "#ed7953"
             ],
             [
              0.7777777777777778,
              "#fb9f3a"
             ],
             [
              0.8888888888888888,
              "#fdca26"
             ],
             [
              1,
              "#f0f921"
             ]
            ],
            "type": "surface"
           }
          ],
          "table": [
           {
            "cells": {
             "fill": {
              "color": "#EBF0F8"
             },
             "line": {
              "color": "white"
             }
            },
            "header": {
             "fill": {
              "color": "#C8D4E3"
             },
             "line": {
              "color": "white"
             }
            },
            "type": "table"
           }
          ]
         },
         "layout": {
          "annotationdefaults": {
           "arrowcolor": "#2a3f5f",
           "arrowhead": 0,
           "arrowwidth": 1
          },
          "autotypenumbers": "strict",
          "coloraxis": {
           "colorbar": {
            "outlinewidth": 0,
            "ticks": ""
           }
          },
          "colorscale": {
           "diverging": [
            [
             0,
             "#8e0152"
            ],
            [
             0.1,
             "#c51b7d"
            ],
            [
             0.2,
             "#de77ae"
            ],
            [
             0.3,
             "#f1b6da"
            ],
            [
             0.4,
             "#fde0ef"
            ],
            [
             0.5,
             "#f7f7f7"
            ],
            [
             0.6,
             "#e6f5d0"
            ],
            [
             0.7,
             "#b8e186"
            ],
            [
             0.8,
             "#7fbc41"
            ],
            [
             0.9,
             "#4d9221"
            ],
            [
             1,
             "#276419"
            ]
           ],
           "sequential": [
            [
             0,
             "#0d0887"
            ],
            [
             0.1111111111111111,
             "#46039f"
            ],
            [
             0.2222222222222222,
             "#7201a8"
            ],
            [
             0.3333333333333333,
             "#9c179e"
            ],
            [
             0.4444444444444444,
             "#bd3786"
            ],
            [
             0.5555555555555556,
             "#d8576b"
            ],
            [
             0.6666666666666666,
             "#ed7953"
            ],
            [
             0.7777777777777778,
             "#fb9f3a"
            ],
            [
             0.8888888888888888,
             "#fdca26"
            ],
            [
             1,
             "#f0f921"
            ]
           ],
           "sequentialminus": [
            [
             0,
             "#0d0887"
            ],
            [
             0.1111111111111111,
             "#46039f"
            ],
            [
             0.2222222222222222,
             "#7201a8"
            ],
            [
             0.3333333333333333,
             "#9c179e"
            ],
            [
             0.4444444444444444,
             "#bd3786"
            ],
            [
             0.5555555555555556,
             "#d8576b"
            ],
            [
             0.6666666666666666,
             "#ed7953"
            ],
            [
             0.7777777777777778,
             "#fb9f3a"
            ],
            [
             0.8888888888888888,
             "#fdca26"
            ],
            [
             1,
             "#f0f921"
            ]
           ]
          },
          "colorway": [
           "#636efa",
           "#EF553B",
           "#00cc96",
           "#ab63fa",
           "#FFA15A",
           "#19d3f3",
           "#FF6692",
           "#B6E880",
           "#FF97FF",
           "#FECB52"
          ],
          "font": {
           "color": "#2a3f5f"
          },
          "geo": {
           "bgcolor": "white",
           "lakecolor": "white",
           "landcolor": "#E5ECF6",
           "showlakes": true,
           "showland": true,
           "subunitcolor": "white"
          },
          "hoverlabel": {
           "align": "left"
          },
          "hovermode": "closest",
          "mapbox": {
           "style": "light"
          },
          "paper_bgcolor": "white",
          "plot_bgcolor": "#E5ECF6",
          "polar": {
           "angularaxis": {
            "gridcolor": "white",
            "linecolor": "white",
            "ticks": ""
           },
           "bgcolor": "#E5ECF6",
           "radialaxis": {
            "gridcolor": "white",
            "linecolor": "white",
            "ticks": ""
           }
          },
          "scene": {
           "xaxis": {
            "backgroundcolor": "#E5ECF6",
            "gridcolor": "white",
            "gridwidth": 2,
            "linecolor": "white",
            "showbackground": true,
            "ticks": "",
            "zerolinecolor": "white"
           },
           "yaxis": {
            "backgroundcolor": "#E5ECF6",
            "gridcolor": "white",
            "gridwidth": 2,
            "linecolor": "white",
            "showbackground": true,
            "ticks": "",
            "zerolinecolor": "white"
           },
           "zaxis": {
            "backgroundcolor": "#E5ECF6",
            "gridcolor": "white",
            "gridwidth": 2,
            "linecolor": "white",
            "showbackground": true,
            "ticks": "",
            "zerolinecolor": "white"
           }
          },
          "shapedefaults": {
           "line": {
            "color": "#2a3f5f"
           }
          },
          "ternary": {
           "aaxis": {
            "gridcolor": "white",
            "linecolor": "white",
            "ticks": ""
           },
           "baxis": {
            "gridcolor": "white",
            "linecolor": "white",
            "ticks": ""
           },
           "bgcolor": "#E5ECF6",
           "caxis": {
            "gridcolor": "white",
            "linecolor": "white",
            "ticks": ""
           }
          },
          "title": {
           "x": 0.05
          },
          "xaxis": {
           "automargin": true,
           "gridcolor": "white",
           "linecolor": "white",
           "ticks": "",
           "title": {
            "standoff": 15
           },
           "zerolinecolor": "white",
           "zerolinewidth": 2
          },
          "yaxis": {
           "automargin": true,
           "gridcolor": "white",
           "linecolor": "white",
           "ticks": "",
           "title": {
            "standoff": 15
           },
           "zerolinecolor": "white",
           "zerolinewidth": 2
          }
         }
        }
       }
      }
     },
     "metadata": {},
     "output_type": "display_data"
    }
   ],
   "source": [
    "import plotly.express as px\n",
    "\n",
    "px.line_3d(x=walker(),y=walker(),z=walker())"
   ]
  },
  {
   "cell_type": "code",
   "execution_count": 56,
   "metadata": {},
   "outputs": [
    {
     "data": {
      "image/png": "[encoded data removed]",
      "text/plain": [
       "<Figure size 640x480 with 1 Axes>"
      ]
     },
     "metadata": {},
     "output_type": "display_data"
    }
   ],
   "source": [
    "for i in range(10):\n",
    "    plt.plot(walker())"
   ]
  },
  {
   "cell_type": "code",
   "execution_count": 1,
   "metadata": {},
   "outputs": [],
   "source": [
    "import torch"
   ]
  },
  {
   "cell_type": "code",
   "execution_count": 4,
   "metadata": {},
   "outputs": [
    {
     "data": {
      "text/plain": [
       "torch.Size([70])"
      ]
     },
     "execution_count": 4,
     "metadata": {},
     "output_type": "execute_result"
    }
   ],
   "source": [
    "torch.rand(70)"
   ]
  },
  {
   "cell_type": "code",
   "execution_count": null,
   "metadata": {},
   "outputs": [],
   "source": []
  }
 ],
 "metadata": {
  "kernelspec": {
   "display_name": "Python 3.10.6 ('arka')",
   "language": "python",
   "name": "python3"
  },
  "language_info": {
   "codemirror_mode": {
    "name": "ipython",
    "version": 3
   },
   "file_extension": ".py",
   "mimetype": "text/x-python",
   "name": "python",
   "nbconvert_exporter": "python",
   "pygments_lexer": "ipython3",
   "version": "3.10.6"
  },
  "orig_nbformat": 4,
  "vscode": {
   "interpreter": {
    "hash": "fa46da6b9307ef350aad613908c1591a068b15a96db2be16e9d9e053b74e28ee"
   }
  }
 },
 "nbformat": 4,
 "nbformat_minor": 2
}
