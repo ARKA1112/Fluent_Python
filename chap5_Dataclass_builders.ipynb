{
 "cells": [
  {
   "cell_type": "markdown",
   "metadata": {},
   "source": [
    "#### Dataclasses"
   ]
  },
  {
   "cell_type": "code",
   "execution_count": 1,
   "metadata": {},
   "outputs": [
    {
     "data": {
      "text/plain": [
       "(55.76, 37.62)"
      ]
     },
     "execution_count": 1,
     "metadata": {},
     "output_type": "execute_result"
    }
   ],
   "source": [
    "from importlib import reload\n",
    "import coordinates\n",
    "reload(coordinates)\n",
    "from coordinates import Coordinate\n",
    "moscow = Coordinate(55.76, 37.62)\n",
    "moscow   #return object\n",
    "\n",
    "location = Coordinate(55.76, 37.62)\n",
    "location == moscow\n",
    "(location.lat, location.long) == (moscow.lat, moscow.long)\n",
    "\n",
    "moscow, location  #__repr__ is no very useful\n",
    "\n",
    "#to access those locations we have to type in\n",
    "\n",
    "moscow.lat, moscow.long"
   ]
  },
  {
   "cell_type": "markdown",
   "metadata": {},
   "source": [
    "#### How to make it useful"
   ]
  },
  {
   "cell_type": "code",
   "execution_count": 20,
   "metadata": {},
   "outputs": [
    {
     "data": {
      "text/plain": [
       "Coordinates(lat=55.756, lon=37.617)"
      ]
     },
     "execution_count": 20,
     "metadata": {},
     "output_type": "execute_result"
    }
   ],
   "source": [
    "#one can be using the namedtuple \n",
    "\n",
    "from collections import namedtuple\n",
    "\n",
    "Coordinate = namedtuple('Coordinates', 'lat lon')\n",
    "#                       ^^^^^^^^^^^^^------>Name of the named tuple not the previously defined class\n",
    "issubclass(Coordinate, tuple)\n",
    "Coordinate\n",
    "moscow = Coordinate(lat=55.756, lon=37.617)\n",
    "moscow\n",
    "\n",
    "#More meaning ful __repr__ object"
   ]
  },
  {
   "cell_type": "code",
   "execution_count": 2,
   "metadata": {},
   "outputs": [
    {
     "data": {
      "text/plain": [
       "{'lat': float, 'long': float}"
      ]
     },
     "execution_count": 2,
     "metadata": {},
     "output_type": "execute_result"
    }
   ],
   "source": [
    "#new named tuple that allows to add a datatype annotation to each field\n",
    "\n",
    "import typing\n",
    "Coordinate = typing.NamedTuple('Coordinate', [('lat', float),('long',float)])\n",
    "issubclass(Coordinate, tuple)\n",
    "typing.get_type_hints(Coordinate)   #get the type hints"
   ]
  },
  {
   "cell_type": "code",
   "execution_count": 3,
   "metadata": {},
   "outputs": [],
   "source": [
    "#the typing.NamedTuple can also be constructed this way\n",
    "\n",
    "Coordinate = typing.NamedTuple('Coordinate', lat=float, long=float)"
   ]
  },
  {
   "cell_type": "code",
   "execution_count": 4,
   "metadata": {},
   "outputs": [
    {
     "data": {
      "text/plain": [
       "{'lat': float, 'long': float}"
      ]
     },
     "execution_count": 4,
     "metadata": {},
     "output_type": "execute_result"
    }
   ],
   "source": [
    "typing.get_type_hints(Coordinate)"
   ]
  },
  {
   "cell_type": "code",
   "execution_count": 5,
   "metadata": {},
   "outputs": [],
   "source": [
    "#from the python cookbook\n",
    "import time\n",
    "from functools import wraps\n",
    "\n",
    "def timethis(func):\n",
    "    '''Decorator that reports the execution time.'''\n",
    "    @wraps(func)\n",
    "    def wrapper(*args, **kwargs):\n",
    "        start = time.time()\n",
    "        result = func(*args, **kwargs)\n",
    "        end = time.time()\n",
    "        print(func.__name__, end-start)\n",
    "        return result\n",
    "    return wrapper"
   ]
  },
  {
   "cell_type": "code",
   "execution_count": 6,
   "metadata": {},
   "outputs": [
    {
     "name": "stdout",
     "output_type": "stream",
     "text": [
      "countdown 1.3828277587890625e-05\n"
     ]
    }
   ],
   "source": [
    "A = lambda x: x*7\n",
    "\n",
    "def countdown(n):\n",
    "    while n>0:\n",
    "            n-=1\n",
    "\n",
    "timethis(countdown)(99)\n"
   ]
  },
  {
   "cell_type": "code",
   "execution_count": 7,
   "metadata": {},
   "outputs": [
    {
     "name": "stdout",
     "output_type": "stream",
     "text": [
      "foo\\\\bar\\nbaz\n"
     ]
    }
   ],
   "source": [
    "##Decorator is a function that accepts a function as input and returns a new function as ooutput\n",
    "\n",
    "print(r'foo\\\\bar\\nbaz')"
   ]
  },
  {
   "cell_type": "code",
   "execution_count": 8,
   "metadata": {},
   "outputs": [],
   "source": [
    "#using dataclasses\n",
    "\n",
    "from dataclasses import dataclass\n",
    "\n",
    "@dataclass(frozen=True)\n",
    "class Coordinate:\n",
    "    lat: float\n",
    "    lon: float\n",
    "\n",
    "    def __str__(self):\n",
    "        ns = 'N' if self.lat >= 0 else 'S'\n",
    "        we = 'E' if self.lon >= 0 else 'W'\n",
    "        return f'{abs(self.lat):.1f},{abs(self.lon):.1f} {we}'"
   ]
  },
  {
   "cell_type": "code",
   "execution_count": 9,
   "metadata": {},
   "outputs": [
    {
     "data": {
      "text/plain": [
       "{'lat': float, 'lon': float}"
      ]
     },
     "execution_count": 9,
     "metadata": {},
     "output_type": "execute_result"
    }
   ],
   "source": [
    "import inspect\n",
    "\n",
    "\n",
    "I = Coordinate(12,12)\n",
    "I.__annotations__ #not recommended\n",
    "\n",
    "#instead\n",
    "inspect.get_annotations(Coordinate)\n"
   ]
  },
  {
   "cell_type": "markdown",
   "metadata": {},
   "source": [
    "#### Mutable instances"
   ]
  },
  {
   "cell_type": "code",
   "execution_count": 10,
   "metadata": {},
   "outputs": [],
   "source": [
    "##Defining a named tuple and using it\n",
    "\n",
    "from collections import namedtuple\n",
    "\n",
    "City = namedtuple('City', 'name country population coordinates')\n",
    "tokyo = City('Tokyo', 'JP', 36.933, (35.689722, 139.691667))"
   ]
  },
  {
   "cell_type": "code",
   "execution_count": 11,
   "metadata": {},
   "outputs": [
    {
     "data": {
      "text/plain": [
       "City(name='Tokyo', country='JP', population=36.933, coordinates=(35.689722, 139.691667))"
      ]
     },
     "execution_count": 11,
     "metadata": {},
     "output_type": "execute_result"
    }
   ],
   "source": [
    "tokyo"
   ]
  },
  {
   "cell_type": "code",
   "execution_count": 12,
   "metadata": {},
   "outputs": [
    {
     "data": {
      "text/plain": [
       "(36.933, (35.689722, 139.691667))"
      ]
     },
     "execution_count": 12,
     "metadata": {},
     "output_type": "execute_result"
    }
   ],
   "source": [
    "#defined attributes can also be accessed\n",
    "tokyo.population, tokyo.coordinates"
   ]
  },
  {
   "cell_type": "code",
   "execution_count": 13,
   "metadata": {},
   "outputs": [
    {
     "data": {
      "text/plain": [
       "('name', 'country', 'population', 'coordinates')"
      ]
     },
     "execution_count": 13,
     "metadata": {},
     "output_type": "execute_result"
    }
   ],
   "source": [
    "City._fields"
   ]
  },
  {
   "cell_type": "code",
   "execution_count": 14,
   "metadata": {},
   "outputs": [
    {
     "name": "stdout",
     "output_type": "stream",
     "text": [
      "{\"name\": \"Delhi NCR\", \"country\": \"IN\", \"population\": 21.935, \"coordinates\": [28.613889, 77.208889]}\n"
     ]
    }
   ],
   "source": [
    "#named tuple manipulation\n",
    "\n",
    "City._fields\n",
    "Coordinate = namedtuple('Coordinate', 'lat lon')\n",
    "delhi_data = ('Delhi NCR', 'IN', 21.935, Coordinate(28.613889, 77.208889))\n",
    "delhi = City._make(delhi_data)   #also a way to make a named tuple\n",
    "\n",
    "#Convert to dictionary\n",
    "delhi._asdict()\n",
    "\n",
    "\n",
    "import json\n",
    "del_json = json.dumps(delhi._asdict())\n",
    "print(del_json)"
   ]
  },
  {
   "cell_type": "code",
   "execution_count": 15,
   "metadata": {},
   "outputs": [
    {
     "data": {
      "text/plain": [
       "Coordinate(lat=None, lon=None)"
      ]
     },
     "execution_count": 15,
     "metadata": {},
     "output_type": "execute_result"
    }
   ],
   "source": [
    "#Type checkers are meaningless in runtime \n",
    "#they are used by the ide for typecheck and inform the user about the same\n",
    "\n",
    "import typing\n",
    "class Coordinate(typing.NamedTuple):\n",
    "    lat: float\n",
    "    lon: float\n",
    "\n",
    "Coordinate(None, None)\n",
    "#shows no warnings or erros\n",
    "#but checking the linter will reflect the type eroor"
   ]
  },
  {
   "cell_type": "code",
   "execution_count": 16,
   "metadata": {},
   "outputs": [],
   "source": [
    "#Class annotations and their uses\n",
    "class DemoPlainClass:\n",
    "    a: int\n",
    "    b: float = 1.1\n",
    "    c = 'spam'"
   ]
  },
  {
   "cell_type": "code",
   "execution_count": 17,
   "metadata": {},
   "outputs": [
    {
     "data": {
      "text/plain": [
       "1.1"
      ]
     },
     "execution_count": 17,
     "metadata": {},
     "output_type": "execute_result"
    }
   ],
   "source": [
    "DemoPlainClass().__annotations__\n",
    "#DemoPlainClass().a  #But a is not accessible as it is not an attribute\n",
    "#while b is accessible\n",
    "\n",
    "DemoPlainClass().b"
   ]
  },
  {
   "cell_type": "code",
   "execution_count": 18,
   "metadata": {},
   "outputs": [
    {
     "data": {
      "text/plain": [
       "(_tuplegetter(0, 'Alias for field number 0'),\n",
       " _tuplegetter(1, 'Alias for field number 1'),\n",
       " 'spam')"
      ]
     },
     "execution_count": 18,
     "metadata": {},
     "output_type": "execute_result"
    }
   ],
   "source": [
    "#That was just a plain demo class\n",
    "#now lets build the same using typing.NamedTuple\n",
    "\n",
    "class DemoPlainClass(typing.NamedTuple):\n",
    "    a: int    #becomes an annotation as well as instance attribute\n",
    "    b: float =  1.1\n",
    "    c = 'spam'\n",
    "\n",
    "\n",
    "DemoPlainClass(a='ham')   #asks for a as no default value is set\n",
    "#but calling the class only return a nd b not c\n",
    "\n",
    "DemoPlainClass.__annotations__ #c is not an annotation\n",
    "DemoPlainClass.a, DemoPlainClass.b, DemoPlainClass.c\n",
    "\n",
    "#here a nd b are called descriptors\n",
    "\n"
   ]
  },
  {
   "cell_type": "code",
   "execution_count": 19,
   "metadata": {},
   "outputs": [],
   "source": [
    "DemoPlainClass.c = 'ham'\n",
    "\n",
    "#the annotated attributes of the demoplainclass is immutable\n",
    "\n",
    "#where as c in immutable"
   ]
  },
  {
   "cell_type": "code",
   "execution_count": 48,
   "metadata": {},
   "outputs": [],
   "source": [
    "DemoPlainClass.a = 'ham'\n",
    "#But nothing happens\n",
    "\n",
    "I  =  DemoPlainClass('ham')\n",
    "#I.a = 'spam'   #attribute error / is readonly"
   ]
  },
  {
   "cell_type": "code",
   "execution_count": 45,
   "metadata": {},
   "outputs": [
    {
     "data": {
      "text/plain": [
       "{'a': int, 'b': float}"
      ]
     },
     "execution_count": 45,
     "metadata": {},
     "output_type": "execute_result"
    }
   ],
   "source": [
    "DemoPlainClass.__annotations__"
   ]
  },
  {
   "cell_type": "code",
   "execution_count": 49,
   "metadata": {},
   "outputs": [],
   "source": [
    "## Same as before but decorated with dataclass\n",
    "\n",
    "from dataclasses import dataclass\n",
    "\n",
    "@dataclass\n",
    "class DemoDataClass:\n",
    "    a: int\n",
    "    b: float = 1.1\n",
    "    c = 'spam'"
   ]
  },
  {
   "cell_type": "code",
   "execution_count": 62,
   "metadata": {},
   "outputs": [
    {
     "data": {
      "text/plain": [
       "DemoDataClass(a=43, b=1.1)"
      ]
     },
     "execution_count": 62,
     "metadata": {},
     "output_type": "execute_result"
    }
   ],
   "source": [
    "I = DemoDataClass(33)\n",
    "I.a, I.b\n",
    "\n",
    "\n",
    "I.a = 43   #mutable attributes\n",
    "\n",
    "I  #Like before it doesnt get shown because it is a class attribute and not an instance attribiute\n",
    "\n",
    "\n",
    "I.d = 'damn'\n",
    "I"
   ]
  },
  {
   "cell_type": "code",
   "execution_count": 2,
   "metadata": {},
   "outputs": [],
   "source": [
    "from dataclasses import dataclass, field\n",
    "\n",
    "@dataclass\n",
    "class ClubMember:\n",
    "    name: str\n",
    "    guests: list = field(default_factory=list)  #to set the default value\n",
    "\n",
    "    #guests: list = [] wont work\n",
    "\n",
    "\n",
    "#also insed teh list the type can be specified\n",
    "\n",
    "@dataclass\n",
    "class ClubMember:\n",
    "    name: str\n",
    "    guests: list[str] = field(default_factory=list)   #str is typechecker and wont throw errors if numbers passed instead"
   ]
  },
  {
   "cell_type": "code",
   "execution_count": 3,
   "metadata": {},
   "outputs": [
    {
     "data": {
      "text/plain": [
       "ClubMember(name='python', guests=[1, 2, 3])"
      ]
     },
     "execution_count": 3,
     "metadata": {},
     "output_type": "execute_result"
    }
   ],
   "source": [
    "ClubMember('python', guests=[1,2,3])"
   ]
  },
  {
   "cell_type": "code",
   "execution_count": 4,
   "metadata": {},
   "outputs": [
    {
     "data": {
      "text/plain": [
       "ClubMember(name='python', guests=[])"
      ]
     },
     "execution_count": 4,
     "metadata": {},
     "output_type": "execute_result"
    }
   ],
   "source": [
    "##The attributes passed in creation is automatically shown when __repr__\n",
    "#one can alos choose what to show in repr and what not\n",
    "\n",
    "\n",
    "@dataclass\n",
    "class ClubMember:\n",
    "    name: str\n",
    "    guests: list = field(default_factory=list)\n",
    "    athlete: bool = field(default=False, repr=False)\n",
    "\n",
    "\n",
    "ClubMember('python')   #athlete doesnt get shown in repr"
   ]
  },
  {
   "cell_type": "markdown",
   "metadata": {},
   "source": [
    "### Post-init Processing"
   ]
  },
  {
   "cell_type": "code",
   "execution_count": 5,
   "metadata": {},
   "outputs": [],
   "source": [
    "#creating a HackerClubMember\n",
    "\n",
    "\n",
    "from dataclasses import dataclass\n",
    "\n",
    "@dataclass\n",
    "class HackerClubMember(ClubMember):\n",
    "    all_handles = set()       #empty set\n",
    "    handle: str = ''          #empty str\n",
    "    \n",
    "    def __post_init__(self):\n",
    "        cls = self.__class__\n",
    "        if self.handle == '':\n",
    "            self.handle = self.name.split()[0]\n",
    "        if self.handle in cls.all_handles:\n",
    "            msg = f'handle {self.handle!r} already exists'\n",
    "            raise ValueError(msg)\n",
    "        cls.all_handles.add(self.handle)"
   ]
  },
  {
   "cell_type": "code",
   "execution_count": null,
   "metadata": {},
   "outputs": [],
   "source": [
    "#Initialization of variables that are not fields\n",
    "\n",
    "from dataclasses import InitVar\n",
    "\n",
    "\n",
    "@dataclass\n",
    "class C:\n",
    "    i: int\n",
    "    j: int = None\n",
    "    database: InitVar[DatabaseType] = None\n",
    "\n",
    "    def __post_init__(self, database):\n",
    "        if self.j is None and database is not None:\n",
    "            self.j = database.lookup('j')"
   ]
  },
  {
   "cell_type": "code",
   "execution_count": 20,
   "metadata": {},
   "outputs": [],
   "source": [
    "#@dataclass Example: Dubln Core Resource Record\n",
    "\n",
    "from dataclasses import dataclass, field\n",
    "from typing import Optional\n",
    "from enum import Enum, auto\n",
    "from datetime import date\n",
    "\n",
    "class ResourceType(Enum):\n",
    "    BOOK = auto()\n",
    "    EBOOK = auto()\n",
    "    VIDEO = auto()\n",
    "\n",
    "@dataclass\n",
    "class Resource:\n",
    "    \"\"\"Media resource description\"\"\"\n",
    "    identifier: str\n",
    "    title: str = ''  #empty string object\n",
    "    creators: list[str] = field(default_factory=list)\n",
    "    date: Optional[date] = None\n",
    "    type: ResourceType = ResourceType.BOOK\n",
    "    description: str = ''\n",
    "    language: str = ''\n",
    "    subjects: list[str] = field(default_factory=list)\n"
   ]
  },
  {
   "cell_type": "code",
   "execution_count": 21,
   "metadata": {},
   "outputs": [],
   "source": [
    "description = 'Improving the design of existing code'\n",
    "book = Resource('978-fasjdhfjk', 'Refactoring, 2nd ed', ['Martin','Kent'],date(2018,11,19), ResourceType.BOOK, description, 'EN')"
   ]
  },
  {
   "cell_type": "code",
   "execution_count": 24,
   "metadata": {},
   "outputs": [
    {
     "ename": "NameError",
     "evalue": "name 'cities' is not defined",
     "output_type": "error",
     "traceback": [
      "\u001b[0;31m---------------------------------------------------------------------------\u001b[0m",
      "\u001b[0;31mNameError\u001b[0m                                 Traceback (most recent call last)",
      "Cell \u001b[0;32mIn [24], line 10\u001b[0m\n\u001b[1;32m      6\u001b[0m                 results\u001b[39m.\u001b[39mappend(country)\n\u001b[1;32m      7\u001b[0m     \u001b[39mreturn\u001b[39;00m results\n\u001b[0;32m---> 10\u001b[0m match_asian_countries()\n",
      "Cell \u001b[0;32mIn [24], line 3\u001b[0m, in \u001b[0;36mmatch_asian_countries\u001b[0;34m()\u001b[0m\n\u001b[1;32m      1\u001b[0m \u001b[39mdef\u001b[39;00m \u001b[39mmatch_asian_countries\u001b[39m():\n\u001b[1;32m      2\u001b[0m     results \u001b[39m=\u001b[39m []\n\u001b[0;32m----> 3\u001b[0m     \u001b[39mfor\u001b[39;00m city \u001b[39min\u001b[39;00m cities:\n\u001b[1;32m      4\u001b[0m         \u001b[39mmatch\u001b[39;00m city:\n\u001b[1;32m      5\u001b[0m             \u001b[39mcase\u001b[39;00m City(continent\u001b[39m=\u001b[39m\u001b[39m'\u001b[39m\u001b[39mAsia\u001b[39m\u001b[39m'\u001b[39m, country\u001b[39m=\u001b[39mcountry):\n",
      "\u001b[0;31mNameError\u001b[0m: name 'cities' is not defined"
     ]
    }
   ],
   "source": [
    "def match_asian_countries():\n",
    "    results = []\n",
    "    for city in cities:\n",
    "        match city:\n",
    "            case City(continent='Asia', country=country):\n",
    "                results.append(country)\n",
    "    return results\n",
    "\n",
    "\n",
    "match_asian_countries()"
   ]
  },
  {
   "cell_type": "code",
   "execution_count": 16,
   "metadata": {},
   "outputs": [],
   "source": [
    "#The repr generated by the dataclass is alright but we can make it more meaningful\n",
    "\n",
    "from dataclasses import dataclass, field\n",
    "from typing import Optional\n",
    "from enum import Enum, auto\n",
    "from datetime import date\n",
    "\n",
    "class ResourceType(Enum):\n",
    "    BOOK = auto()\n",
    "    EBOOK = auto()\n",
    "    VIDEO = auto()\n",
    "\n",
    "@dataclass\n",
    "class Resource:\n",
    "    \"\"\"Media resource description\"\"\"\n",
    "    identifier: str\n",
    "    title: str = ''  #empty string object\n",
    "    creators: list[str] = field(default_factory=list)\n",
    "    date: Optional[date] = None\n",
    "    type: ResourceType = ResourceType.BOOK\n",
    "    description: str = ''\n",
    "    language: str = ''\n",
    "\n",
    "    def __repr__(self) -> str:\n",
    "        cls = self.__class__\n",
    "        cls_name = cls.__name__\n",
    "        indent = ' ' * 4\n",
    "        res = [f'{cls_name}(']\n",
    "        for f in field(cls):\n",
    "            value = getattr(self, f.name)\n",
    "            res.append(f'{indent}{f.name} = {value!r},')\n",
    "        \n",
    "        res.append(')')\n",
    "        return '\\n'.join(res)"
   ]
  },
  {
   "cell_type": "markdown",
   "metadata": {},
   "source": [
    "#### Pattern matching with class instances"
   ]
  },
  {
   "cell_type": "code",
   "execution_count": 19,
   "metadata": {},
   "outputs": [],
   "source": [
    "#Three types of class patterns are there namely simple keyword and positional\n"
   ]
  },
  {
   "cell_type": "markdown",
   "metadata": {},
   "source": [
    "#### Simple Class Patterns"
   ]
  },
  {
   "cell_type": "code",
   "execution_count": 20,
   "metadata": {},
   "outputs": [],
   "source": [
    "#match x:\n",
    " #   case float():            #DANGER !!!\n",
    "  #      do_something_with(x)"
   ]
  },
  {
   "cell_type": "markdown",
   "metadata": {},
   "source": [
    "### Keyword Class Patterns"
   ]
  },
  {
   "cell_type": "code",
   "execution_count": 21,
   "metadata": {},
   "outputs": [],
   "source": [
    "import typing\n",
    "\n",
    "class City(typing.NamedTuple):\n",
    "    continent: str\n",
    "    name: str\n",
    "    country: str\n",
    "\n",
    "cities = [\n",
    "    City('Asia', 'Tokyo', 'JP'),\n",
    "    City('Asia', 'Delhi', 'IN'),\n",
    "    City('North America', 'Mexico City', 'MX'),\n",
    "    City('North America', 'New York', 'US'),\n",
    "    City('South America', 'São Paulo', 'BR'),\n",
    "]"
   ]
  },
  {
   "cell_type": "code",
   "execution_count": 22,
   "metadata": {},
   "outputs": [],
   "source": [
    "def city_match_asia():\n",
    "    results = []\n",
    "    for city in cities:\n",
    "        match city:\n",
    "            case City(continent='Asia'):\n",
    "                results.append(city)\n",
    "    return results"
   ]
  },
  {
   "cell_type": "code",
   "execution_count": 23,
   "metadata": {},
   "outputs": [
    {
     "data": {
      "text/plain": [
       "[City(continent='Asia', name='Tokyo', country='JP'),\n",
       " City(continent='Asia', name='Delhi', country='IN')]"
      ]
     },
     "execution_count": 23,
     "metadata": {},
     "output_type": "execute_result"
    }
   ],
   "source": [
    "city_match_asia()"
   ]
  },
  {
   "cell_type": "code",
   "execution_count": 34,
   "metadata": {},
   "outputs": [],
   "source": [
    "#To return the cities only"
   ]
  },
  {
   "cell_type": "code",
   "execution_count": 32,
   "metadata": {},
   "outputs": [],
   "source": [
    "def city_match():\n",
    "    results = []\n",
    "    for city in cities:\n",
    "        match city:\n",
    "            case City(name=aa):\n",
    "                results.append(aa)\n",
    "    return results"
   ]
  },
  {
   "cell_type": "code",
   "execution_count": 33,
   "metadata": {},
   "outputs": [
    {
     "data": {
      "text/plain": [
       "['Tokyo', 'Delhi', 'Mexico City', 'New York', 'São Paulo']"
      ]
     },
     "execution_count": 33,
     "metadata": {},
     "output_type": "execute_result"
    }
   ],
   "source": [
    "city_match()"
   ]
  },
  {
   "cell_type": "code",
   "execution_count": 39,
   "metadata": {},
   "outputs": [],
   "source": [
    "#To match the countries\n",
    "def country_match():\n",
    "    res = []\n",
    "    for cntry in cities:\n",
    "        match cntry:\n",
    "            case City(country=cc):\n",
    "                res.append(cc)\n",
    "    return res"
   ]
  },
  {
   "cell_type": "code",
   "execution_count": 40,
   "metadata": {},
   "outputs": [
    {
     "data": {
      "text/plain": [
       "['JP', 'IN', 'MX', 'US', 'BR']"
      ]
     },
     "execution_count": 40,
     "metadata": {},
     "output_type": "execute_result"
    }
   ],
   "source": [
    "country_match()"
   ]
  },
  {
   "cell_type": "code",
   "execution_count": null,
   "metadata": {},
   "outputs": [],
   "source": []
  }
 ],
 "metadata": {
  "kernelspec": {
   "display_name": "arka",
   "language": "python",
   "name": "python3"
  },
  "language_info": {
   "codemirror_mode": {
    "name": "ipython",
    "version": 3
   },
   "file_extension": ".py",
   "mimetype": "text/x-python",
   "name": "python",
   "nbconvert_exporter": "python",
   "pygments_lexer": "ipython3",
   "version": "3.10.6"
  },
  "orig_nbformat": 4,
  "vscode": {
   "interpreter": {
    "hash": "fa46da6b9307ef350aad613908c1591a068b15a96db2be16e9d9e053b74e28ee"
   }
  }
 },
 "nbformat": 4,
 "nbformat_minor": 2
}
