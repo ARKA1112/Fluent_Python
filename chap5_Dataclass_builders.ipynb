{
 "cells": [
  {
   "cell_type": "markdown",
   "metadata": {},
   "source": [
    "#### Dataclasses"
   ]
  },
  {
   "cell_type": "code",
   "execution_count": 21,
   "metadata": {},
   "outputs": [
    {
     "data": {
      "text/plain": [
       "(55.76, 37.62)"
      ]
     },
     "execution_count": 21,
     "metadata": {},
     "output_type": "execute_result"
    }
   ],
   "source": [
    "from importlib import reload\n",
    "import coordinates\n",
    "reload(coordinates)\n",
    "from coordinates import Coordinate\n",
    "moscow = Coordinate(55.76, 37.62)\n",
    "moscow   #return object\n",
    "\n",
    "location = Coordinate(55.76, 37.62)\n",
    "location == moscow\n",
    "(location.lat, location.long) == (moscow.lat, moscow.long)\n",
    "\n",
    "moscow, location  #__repr__ is no very useful\n",
    "\n",
    "#to access those locations we have to type in\n",
    "\n",
    "moscow.lat, moscow.long"
   ]
  },
  {
   "cell_type": "markdown",
   "metadata": {},
   "source": [
    "#### How to make it useful"
   ]
  },
  {
   "cell_type": "code",
   "execution_count": 20,
   "metadata": {},
   "outputs": [
    {
     "data": {
      "text/plain": [
       "Coordinates(lat=55.756, lon=37.617)"
      ]
     },
     "execution_count": 20,
     "metadata": {},
     "output_type": "execute_result"
    }
   ],
   "source": [
    "#one can be using the namedtuple \n",
    "\n",
    "from collections import namedtuple\n",
    "\n",
    "Coordinate = namedtuple('Coordinates', 'lat lon')\n",
    "#                       ^^^^^^^^^^^^^------>Name of the named tuple not the previously defined class\n",
    "issubclass(Coordinate, tuple)\n",
    "Coordinate\n",
    "moscow = Coordinate(lat=55.756, lon=37.617)\n",
    "moscow\n",
    "\n",
    "#More meaning ful __repr__ object"
   ]
  },
  {
   "cell_type": "code",
   "execution_count": 27,
   "metadata": {},
   "outputs": [
    {
     "data": {
      "text/plain": [
       "{'lat': float, 'long': float}"
      ]
     },
     "execution_count": 27,
     "metadata": {},
     "output_type": "execute_result"
    }
   ],
   "source": [
    "#new named tuple that allows to add a datatype annotation to each field\n",
    "\n",
    "import typing\n",
    "Coordinate = typing.NamedTuple('Coordinate', [('lat', float),('long',float)])\n",
    "issubclass(Coordinate, tuple)\n",
    "typing.get_type_hints(Coordinate)   #get the type hints"
   ]
  },
  {
   "cell_type": "code",
   "execution_count": 28,
   "metadata": {},
   "outputs": [],
   "source": [
    "#the typing.NamedTuple can also be constructed this way\n",
    "\n",
    "Coordinate = typing.NamedTuple('Coordinate', lat=float, long=float)"
   ]
  },
  {
   "cell_type": "code",
   "execution_count": 29,
   "metadata": {},
   "outputs": [
    {
     "data": {
      "text/plain": [
       "{'lat': float, 'long': float}"
      ]
     },
     "execution_count": 29,
     "metadata": {},
     "output_type": "execute_result"
    }
   ],
   "source": [
    "typing.get_type_hints(Coordinate)"
   ]
  },
  {
   "cell_type": "code",
   "execution_count": 62,
   "metadata": {},
   "outputs": [],
   "source": [
    "#from the python cookbook\n",
    "import time\n",
    "from functools import wraps\n",
    "\n",
    "def timethis(func):\n",
    "    '''Decorator that reports the execution time.'''\n",
    "    @wraps(func)\n",
    "    def wrapper(*args, **kwargs):\n",
    "        start = time.time()\n",
    "        result = func(*args, **kwargs)\n",
    "        end = time.time()\n",
    "        print(func.__name__, end-start)\n",
    "        return result\n",
    "    return wrapper"
   ]
  },
  {
   "cell_type": "code",
   "execution_count": 69,
   "metadata": {},
   "outputs": [
    {
     "name": "stdout",
     "output_type": "stream",
     "text": [
      "countdown 4.76837158203125e-06\n"
     ]
    }
   ],
   "source": [
    "A = lambda x: x*7\n",
    "\n",
    "def countdown(n):\n",
    "    while n>0:\n",
    "            n-=1\n",
    "\n",
    "timethis(countdown)(99)\n"
   ]
  },
  {
   "cell_type": "code",
   "execution_count": 70,
   "metadata": {},
   "outputs": [
    {
     "name": "stdout",
     "output_type": "stream",
     "text": [
      "foo\\\\bar\\nbaz\n"
     ]
    }
   ],
   "source": [
    "##Decorator is a function that accepts a function as input and returns a new function as ooutput\n",
    "\n",
    "print(r'foo\\\\bar\\nbaz')"
   ]
  },
  {
   "cell_type": "code",
   "execution_count": 1,
   "metadata": {},
   "outputs": [],
   "source": [
    "#using dataclasses\n",
    "\n",
    "from dataclasses import dataclass\n",
    "\n",
    "@dataclass(frozen=True)\n",
    "class Coordinate:\n",
    "    lat: float\n",
    "    lon: float\n",
    "\n",
    "    def __str__(self):\n",
    "        ns = 'N' if self.lat >= 0 else 'S'\n",
    "        we = 'E' if self.lon >= 0 else 'W'\n",
    "        return f'{abs(self.lat):.1f},{abs(self.lon):.1f} {we}'"
   ]
  },
  {
   "cell_type": "code",
   "execution_count": 6,
   "metadata": {},
   "outputs": [
    {
     "data": {
      "text/plain": [
       "{'lat': float, 'lon': float}"
      ]
     },
     "execution_count": 6,
     "metadata": {},
     "output_type": "execute_result"
    }
   ],
   "source": [
    "import inspect\n",
    "\n",
    "\n",
    "I = Coordinate(12,12)\n",
    "I.__annotations__ #not recommended\n",
    "\n",
    "#instead\n",
    "inspect.get_annotations(Coordinate)\n"
   ]
  },
  {
   "cell_type": "markdown",
   "metadata": {},
   "source": [
    "#### Mutable instances"
   ]
  },
  {
   "cell_type": "code",
   "execution_count": 7,
   "metadata": {},
   "outputs": [],
   "source": [
    "##Defining a named tuple and using it\n",
    "\n",
    "from collections import namedtuple\n",
    "\n",
    "City = namedtuple('City', 'name country population coordinates')\n",
    "tokyo = City('Tokyo', 'JP', 36.933, (35.689722, 139.691667))"
   ]
  },
  {
   "cell_type": "code",
   "execution_count": 8,
   "metadata": {},
   "outputs": [
    {
     "data": {
      "text/plain": [
       "City(name='Tokyo', country='JP', population=36.933, coordinates=(35.689722, 139.691667))"
      ]
     },
     "execution_count": 8,
     "metadata": {},
     "output_type": "execute_result"
    }
   ],
   "source": [
    "tokyo"
   ]
  },
  {
   "cell_type": "code",
   "execution_count": 10,
   "metadata": {},
   "outputs": [
    {
     "data": {
      "text/plain": [
       "(36.933, (35.689722, 139.691667))"
      ]
     },
     "execution_count": 10,
     "metadata": {},
     "output_type": "execute_result"
    }
   ],
   "source": [
    "#defined attributes can also be accessed\n",
    "tokyo.population, tokyo.coordinates"
   ]
  },
  {
   "cell_type": "code",
   "execution_count": 11,
   "metadata": {},
   "outputs": [
    {
     "data": {
      "text/plain": [
       "('name', 'country', 'population', 'coordinates')"
      ]
     },
     "execution_count": 11,
     "metadata": {},
     "output_type": "execute_result"
    }
   ],
   "source": [
    "City._fields"
   ]
  },
  {
   "cell_type": "code",
   "execution_count": 21,
   "metadata": {},
   "outputs": [
    {
     "name": "stdout",
     "output_type": "stream",
     "text": [
      "{\"name\": \"Delhi NCR\", \"country\": \"IN\", \"population\": 21.935, \"coordinates\": [28.613889, 77.208889]}\n"
     ]
    }
   ],
   "source": [
    "#named tuple manipulation\n",
    "\n",
    "City._fields\n",
    "Coordinate = namedtuple('Coordinate', 'lat lon')\n",
    "delhi_data = ('Delhi NCR', 'IN', 21.935, Coordinate(28.613889, 77.208889))\n",
    "delhi = City._make(delhi_data)   #also a way to make a named tuple\n",
    "\n",
    "#Convert to dictionary\n",
    "delhi._asdict()\n",
    "\n",
    "\n",
    "import json\n",
    "del_json = json.dumps(delhi._asdict())\n",
    "print(del_json)"
   ]
  },
  {
   "cell_type": "code",
   "execution_count": 23,
   "metadata": {},
   "outputs": [
    {
     "data": {
      "text/plain": [
       "Coordinate(lat=None, lon=None)"
      ]
     },
     "execution_count": 23,
     "metadata": {},
     "output_type": "execute_result"
    }
   ],
   "source": [
    "#Type checkers are meaningless in runtime \n",
    "#they are used by the ide for typecheck and inform the user about the same\n",
    "\n",
    "import typing\n",
    "class Coordinate(typing.NamedTuple):\n",
    "    lat: float\n",
    "    lon: float\n",
    "\n",
    "Coordinate(None, None)\n",
    "#shows no warnings or erros\n",
    "#but checking the linter will reflect the type eroor"
   ]
  },
  {
   "cell_type": "code",
   "execution_count": 24,
   "metadata": {},
   "outputs": [],
   "source": [
    "#Class annotations and their uses\n",
    "class DemoPlainClass:\n",
    "    a: int\n",
    "    b: float = 1.1\n",
    "    c = 'spam'"
   ]
  },
  {
   "cell_type": "code",
   "execution_count": 29,
   "metadata": {},
   "outputs": [
    {
     "data": {
      "text/plain": [
       "1.1"
      ]
     },
     "execution_count": 29,
     "metadata": {},
     "output_type": "execute_result"
    }
   ],
   "source": [
    "DemoPlainClass().__annotations__\n",
    "#DemoPlainClass().a  #But a is not accessible as it is not an attribute\n",
    "#while b is accessible\n",
    "\n",
    "DemoPlainClass().b"
   ]
  },
  {
   "cell_type": "code",
   "execution_count": 36,
   "metadata": {},
   "outputs": [
    {
     "data": {
      "text/plain": [
       "(_tuplegetter(0, 'Alias for field number 0'),\n",
       " _tuplegetter(1, 'Alias for field number 1'),\n",
       " 'spam')"
      ]
     },
     "execution_count": 36,
     "metadata": {},
     "output_type": "execute_result"
    }
   ],
   "source": [
    "#That was just a plain demo class\n",
    "#now lets build the same using typing.NamedTuple\n",
    "\n",
    "class DemoPlainClass(typing.NamedTuple):\n",
    "    a: int    #becomes an annotation as well as instance attribute\n",
    "    b: float =  1.1\n",
    "    c = 'spam'\n",
    "\n",
    "\n",
    "DemoPlainClass(a='ham')   #asks for a as no default value is set\n",
    "#but calling the class only return a nd b not c\n",
    "\n",
    "DemoPlainClass.__annotations__ #c is not an annotation\n",
    "DemoPlainClass.a, DemoPlainClass.b, DemoPlainClass.c\n",
    "\n",
    "#here a nd b are called descriptors\n",
    "\n"
   ]
  },
  {
   "cell_type": "code",
   "execution_count": 37,
   "metadata": {},
   "outputs": [],
   "source": [
    "DemoPlainClass.c = 'ham'\n",
    "\n",
    "#the annotated attributes of the demoplainclass is immutable\n",
    "\n",
    "#where as c in immutable"
   ]
  },
  {
   "cell_type": "code",
   "execution_count": 48,
   "metadata": {},
   "outputs": [],
   "source": [
    "DemoPlainClass.a = 'ham'\n",
    "#But nothing happens\n",
    "\n",
    "I  =  DemoPlainClass('ham')\n",
    "#I.a = 'spam'   #attribute error / is readonly"
   ]
  },
  {
   "cell_type": "code",
   "execution_count": 45,
   "metadata": {},
   "outputs": [
    {
     "data": {
      "text/plain": [
       "{'a': int, 'b': float}"
      ]
     },
     "execution_count": 45,
     "metadata": {},
     "output_type": "execute_result"
    }
   ],
   "source": [
    "DemoPlainClass.__annotations__"
   ]
  },
  {
   "cell_type": "code",
   "execution_count": 49,
   "metadata": {},
   "outputs": [],
   "source": [
    "## Same as before but decorated with dataclass\n",
    "\n",
    "from dataclasses import dataclass\n",
    "\n",
    "@dataclass\n",
    "class DemoDataClass:\n",
    "    a: int\n",
    "    b: float = 1.1\n",
    "    c = 'spam'"
   ]
  },
  {
   "cell_type": "code",
   "execution_count": 62,
   "metadata": {},
   "outputs": [
    {
     "data": {
      "text/plain": [
       "DemoDataClass(a=43, b=1.1)"
      ]
     },
     "execution_count": 62,
     "metadata": {},
     "output_type": "execute_result"
    }
   ],
   "source": [
    "I = DemoDataClass(33)\n",
    "I.a, I.b\n",
    "\n",
    "\n",
    "I.a = 43   #mutable attributes\n",
    "\n",
    "I  #Like before it doesnt get shown because it is a class attribute and not an instance attribiute\n",
    "\n",
    "\n",
    "I.d = 'damn'\n",
    "I"
   ]
  },
  {
   "cell_type": "code",
   "execution_count": null,
   "metadata": {},
   "outputs": [],
   "source": []
  }
 ],
 "metadata": {
  "kernelspec": {
   "display_name": "arka",
   "language": "python",
   "name": "python3"
  },
  "language_info": {
   "codemirror_mode": {
    "name": "ipython",
    "version": 3
   },
   "file_extension": ".py",
   "mimetype": "text/x-python",
   "name": "python",
   "nbconvert_exporter": "python",
   "pygments_lexer": "ipython3",
   "version": "3.10.6"
  },
  "orig_nbformat": 4,
  "vscode": {
   "interpreter": {
    "hash": "fa46da6b9307ef350aad613908c1591a068b15a96db2be16e9d9e053b74e28ee"
   }
  }
 },
 "nbformat": 4,
 "nbformat_minor": 2
}
