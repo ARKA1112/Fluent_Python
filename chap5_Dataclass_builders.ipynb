{
 "cells": [
  {
   "cell_type": "markdown",
   "metadata": {},
   "source": [
    "#### Dataclasses"
   ]
  },
  {
   "cell_type": "code",
   "execution_count": 21,
   "metadata": {},
   "outputs": [
    {
     "data": {
      "text/plain": [
       "(55.76, 37.62)"
      ]
     },
     "execution_count": 21,
     "metadata": {},
     "output_type": "execute_result"
    }
   ],
   "source": [
    "from importlib import reload\n",
    "import coordinates\n",
    "reload(coordinates)\n",
    "from coordinates import Coordinate\n",
    "moscow = Coordinate(55.76, 37.62)\n",
    "moscow   #return object\n",
    "\n",
    "location = Coordinate(55.76, 37.62)\n",
    "location == moscow\n",
    "(location.lat, location.long) == (moscow.lat, moscow.long)\n",
    "\n",
    "moscow, location  #__repr__ is no very useful\n",
    "\n",
    "#to access those locations we have to type in\n",
    "\n",
    "moscow.lat, moscow.long"
   ]
  },
  {
   "cell_type": "markdown",
   "metadata": {},
   "source": [
    "#### How to make it useful"
   ]
  },
  {
   "cell_type": "code",
   "execution_count": 20,
   "metadata": {},
   "outputs": [
    {
     "data": {
      "text/plain": [
       "Coordinates(lat=55.756, lon=37.617)"
      ]
     },
     "execution_count": 20,
     "metadata": {},
     "output_type": "execute_result"
    }
   ],
   "source": [
    "#one can be using the namedtuple \n",
    "\n",
    "from collections import namedtuple\n",
    "\n",
    "Coordinate = namedtuple('Coordinates', 'lat lon')\n",
    "#                       ^^^^^^^^^^^^^------>Name of the named tuple not the previously defined class\n",
    "issubclass(Coordinate, tuple)\n",
    "Coordinate\n",
    "moscow = Coordinate(lat=55.756, lon=37.617)\n",
    "moscow\n",
    "\n",
    "#More meaning ful __repr__ object"
   ]
  },
  {
   "cell_type": "code",
   "execution_count": 27,
   "metadata": {},
   "outputs": [
    {
     "data": {
      "text/plain": [
       "{'lat': float, 'long': float}"
      ]
     },
     "execution_count": 27,
     "metadata": {},
     "output_type": "execute_result"
    }
   ],
   "source": [
    "#new named tuple that allows to add a datatype annotation to each field\n",
    "\n",
    "import typing\n",
    "Coordinate = typing.NamedTuple('Coordinate', [('lat', float),('long',float)])\n",
    "issubclass(Coordinate, tuple)\n",
    "typing.get_type_hints(Coordinate)   #get the type hints"
   ]
  },
  {
   "cell_type": "code",
   "execution_count": 28,
   "metadata": {},
   "outputs": [],
   "source": [
    "#the typing.NamedTuple can also be constructed this way\n",
    "\n",
    "Coordinate = typing.NamedTuple('Coordinate', lat=float, long=float)"
   ]
  },
  {
   "cell_type": "code",
   "execution_count": 29,
   "metadata": {},
   "outputs": [
    {
     "data": {
      "text/plain": [
       "{'lat': float, 'long': float}"
      ]
     },
     "execution_count": 29,
     "metadata": {},
     "output_type": "execute_result"
    }
   ],
   "source": [
    "typing.get_type_hints(Coordinate)"
   ]
  },
  {
   "cell_type": "code",
   "execution_count": 62,
   "metadata": {},
   "outputs": [],
   "source": [
    "#from the python cookbook\n",
    "import time\n",
    "from functools import wraps\n",
    "\n",
    "def timethis(func):\n",
    "    '''Decorator that reports the execution time.'''\n",
    "    @wraps(func)\n",
    "    def wrapper(*args, **kwargs):\n",
    "        start = time.time()\n",
    "        result = func(*args, **kwargs)\n",
    "        end = time.time()\n",
    "        print(func.__name__, end-start)\n",
    "        return result\n",
    "    return wrapper"
   ]
  },
  {
   "cell_type": "code",
   "execution_count": 69,
   "metadata": {},
   "outputs": [
    {
     "name": "stdout",
     "output_type": "stream",
     "text": [
      "countdown 4.76837158203125e-06\n"
     ]
    }
   ],
   "source": [
    "A = lambda x: x*7\n",
    "\n",
    "def countdown(n):\n",
    "    while n>0:\n",
    "            n-=1\n",
    "\n",
    "timethis(countdown)(99)\n"
   ]
  },
  {
   "cell_type": "code",
   "execution_count": 70,
   "metadata": {},
   "outputs": [
    {
     "name": "stdout",
     "output_type": "stream",
     "text": [
      "foo\\\\bar\\nbaz\n"
     ]
    }
   ],
   "source": [
    "##Decorator is a function that accepts a function as input and returns a new function as ooutput\n",
    "\n",
    "print(r'foo\\\\bar\\nbaz')"
   ]
  },
  {
   "cell_type": "code",
   "execution_count": null,
   "metadata": {},
   "outputs": [],
   "source": []
  }
 ],
 "metadata": {
  "kernelspec": {
   "display_name": "arka",
   "language": "python",
   "name": "python3"
  },
  "language_info": {
   "codemirror_mode": {
    "name": "ipython",
    "version": 3
   },
   "file_extension": ".py",
   "mimetype": "text/x-python",
   "name": "python",
   "nbconvert_exporter": "python",
   "pygments_lexer": "ipython3",
   "version": "3.10.6"
  },
  "orig_nbformat": 4,
  "vscode": {
   "interpreter": {
    "hash": "fa46da6b9307ef350aad613908c1591a068b15a96db2be16e9d9e053b74e28ee"
   }
  }
 },
 "nbformat": 4,
 "nbformat_minor": 2
}
