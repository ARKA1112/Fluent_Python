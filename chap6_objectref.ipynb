{
 "cells": [
  {
   "cell_type": "code",
   "execution_count": 34,
   "metadata": {},
   "outputs": [],
   "source": [
    "#object is created before it i assigned\n",
    "\n",
    "class Gizmo:\n",
    "    def __init__(self) -> None:\n",
    "        print(f'Gizmo id:{id(self)}')"
   ]
  },
  {
   "cell_type": "code",
   "execution_count": 35,
   "metadata": {},
   "outputs": [
    {
     "data": {
      "text/plain": [
       "True"
      ]
     },
     "execution_count": 35,
     "metadata": {},
     "output_type": "execute_result"
    }
   ],
   "source": [
    "#Choosing between == and is\n",
    "\n",
    "#The == operator compares the values of objects while is compares their identities\n",
    "x = []\n",
    "x is not None"
   ]
  },
  {
   "cell_type": "code",
   "execution_count": 36,
   "metadata": {},
   "outputs": [
    {
     "data": {
      "text/plain": [
       "False"
      ]
     },
     "execution_count": 36,
     "metadata": {},
     "output_type": "execute_result"
    }
   ],
   "source": [
    "#Tuple are immutable but mutable objects within it can be changed\n",
    "\n",
    "t1 = (1,2,[30, 40])\n",
    "t2 = (1,2,[30, 40])\n",
    "\n",
    "t1 == t2  #value comparison\n",
    "\n",
    "t1 is t2 #id comparison"
   ]
  },
  {
   "cell_type": "code",
   "execution_count": 37,
   "metadata": {},
   "outputs": [
    {
     "data": {
      "text/plain": [
       "(139924604555968, 139924604538048)"
      ]
     },
     "execution_count": 37,
     "metadata": {},
     "output_type": "execute_result"
    }
   ],
   "source": [
    "id(t1),id(t2)  #thatswhy t1 is t2 false"
   ]
  },
  {
   "cell_type": "code",
   "execution_count": 38,
   "metadata": {},
   "outputs": [],
   "source": [
    "#say\n",
    "id(t1[-1])\n",
    "#t1[-1] is a mutable object ie list\n",
    "\n",
    "t1[-1].append(90)"
   ]
  },
  {
   "cell_type": "code",
   "execution_count": 39,
   "metadata": {},
   "outputs": [],
   "source": [
    "#id(t1[-1]) remains the same"
   ]
  },
  {
   "cell_type": "markdown",
   "metadata": {},
   "source": [
    "#### Deep and Shallow COpies of Arbitrary Objects"
   ]
  },
  {
   "cell_type": "code",
   "execution_count": 40,
   "metadata": {},
   "outputs": [],
   "source": [
    "class Bus:\n",
    "    def __init__(self, passengers=None):\n",
    "        if passengers == None:\n",
    "            self.passengers = []\n",
    "        else:\n",
    "            self.passengers = list(passengers)\n",
    "\n",
    "    def pick(self, name):\n",
    "        self.passengers.append(name)\n",
    "\n",
    "    def remove(self, name):\n",
    "        self.passengers.remove(name)"
   ]
  },
  {
   "cell_type": "code",
   "execution_count": 41,
   "metadata": {},
   "outputs": [
    {
     "ename": "TypeError",
     "evalue": "'list' object is not callable",
     "output_type": "error",
     "traceback": [
      "\u001b[0;31m---------------------------------------------------------------------------\u001b[0m",
      "\u001b[0;31mTypeError\u001b[0m                                 Traceback (most recent call last)",
      "Cell \u001b[0;32mIn [41], line 1\u001b[0m\n\u001b[0;32m----> 1\u001b[0m B \u001b[39m=\u001b[39m Bus(passengers\u001b[39m=\u001b[39;49m[\u001b[39m'\u001b[39;49m\u001b[39ma\u001b[39;49m\u001b[39m'\u001b[39;49m,\u001b[39m'\u001b[39;49m\u001b[39mb\u001b[39;49m\u001b[39m'\u001b[39;49m,\u001b[39m'\u001b[39;49m\u001b[39mc\u001b[39;49m\u001b[39m'\u001b[39;49m])\n",
      "Cell \u001b[0;32mIn [40], line 6\u001b[0m, in \u001b[0;36mBus.__init__\u001b[0;34m(self, passengers)\u001b[0m\n\u001b[1;32m      4\u001b[0m     \u001b[39mself\u001b[39m\u001b[39m.\u001b[39mpassengers \u001b[39m=\u001b[39m []\n\u001b[1;32m      5\u001b[0m \u001b[39melse\u001b[39;00m:\n\u001b[0;32m----> 6\u001b[0m     \u001b[39mself\u001b[39m\u001b[39m.\u001b[39mpassengers \u001b[39m=\u001b[39m \u001b[39mlist\u001b[39;49m(passengers)\n",
      "\u001b[0;31mTypeError\u001b[0m: 'list' object is not callable"
     ]
    }
   ],
   "source": [
    "B = Bus(passengers=['a','b','c'])"
   ]
  },
  {
   "cell_type": "code",
   "execution_count": null,
   "metadata": {},
   "outputs": [
    {
     "name": "stdout",
     "output_type": "stream",
     "text": [
      "139924604709136\n",
      "139924604599312\n",
      "139924689066896\n"
     ]
    }
   ],
   "source": [
    "import copy\n",
    "bus1 = Bus(['Alice','Bill','Claire','David'])\n",
    "bus2 = copy.copy(bus1)\n",
    "bus3 = copy.deepcopy(bus1)\n",
    "\n",
    "for i in [bus1, bus2, bus3]:\n",
    "    print(id(i))"
   ]
  },
  {
   "cell_type": "code",
   "execution_count": null,
   "metadata": {},
   "outputs": [],
   "source": [
    "bus1.remove('Bill')"
   ]
  },
  {
   "cell_type": "code",
   "execution_count": null,
   "metadata": {},
   "outputs": [
    {
     "data": {
      "text/plain": [
       "(['Alice', 'Claire', 'David'], ['Alice', 'Bill', 'Claire', 'David'])"
      ]
     },
     "execution_count": 30,
     "metadata": {},
     "output_type": "execute_result"
    }
   ],
   "source": [
    "bus2.passengers, bus3.passengers\n",
    "\n",
    "#Bill not in bus2 but in bus3"
   ]
  },
  {
   "cell_type": "code",
   "execution_count": 31,
   "metadata": {},
   "outputs": [
    {
     "data": {
      "text/plain": [
       "[10, 20, [[...], 30]]"
      ]
     },
     "execution_count": 31,
     "metadata": {},
     "output_type": "execute_result"
    }
   ],
   "source": [
    "##Deepcopy in cyclic references\n",
    "\n",
    "a = [10, 20]\n",
    "b = [a, 30]\n",
    "\n",
    "a.append(b)\n",
    "a  #cyclic references\n",
    "\n",
    "from copy import deepcopy\n",
    "c = deepcopy(a)\n",
    "c"
   ]
  },
  {
   "cell_type": "code",
   "execution_count": 32,
   "metadata": {},
   "outputs": [
    {
     "name": "stdout",
     "output_type": "stream",
     "text": [
      "13\n",
      "12\n",
      "13\n"
     ]
    }
   ],
   "source": [
    "#Just practice\n",
    "class newcont:\n",
    "    def __init__(self,*values):\n",
    "        self.values = values\n",
    "    \n",
    "    def __repr__(self):\n",
    "        return f'newcont{self.values}'\n",
    "\n",
    "    def __iter__(self):\n",
    "        return iter(self.values)\n",
    "    \n",
    "    def __getitem__(self,index):\n",
    "        return self.values[index]\n",
    "    \n",
    "if __name__ == '__main__':\n",
    "    I = newcont(12,13)\n",
    "    list = [1]\n",
    "    type(I)\n",
    "    print(I[1])\n",
    "    for i in I:\n",
    "        print(i)"
   ]
  },
  {
   "cell_type": "markdown",
   "metadata": {},
   "source": [
    "#### Function Parameters as References"
   ]
  },
  {
   "cell_type": "code",
   "execution_count": 82,
   "metadata": {},
   "outputs": [],
   "source": [
    "class Hauntedbus:\n",
    "    \"\"\"A bus model haunted by ghost passengers\"\"\"\n",
    "\n",
    "    def __init__(self, passengers = []):\n",
    "        self.passengers = passengers\n",
    "\n",
    "    def pick(self, name):\n",
    "        self.passengers.append(name)\n",
    "    \n",
    "    def drop(self, name):\n",
    "        self.passengers.remove(name)\n",
    "\n",
    "    def __repr__(self) -> str:\n",
    "        return f'{self.passengers}'"
   ]
  },
  {
   "cell_type": "code",
   "execution_count": 83,
   "metadata": {},
   "outputs": [],
   "source": [
    "bus1 = Hauntedbus(['Alice', 'Bill'])"
   ]
  },
  {
   "cell_type": "code",
   "execution_count": 84,
   "metadata": {},
   "outputs": [
    {
     "data": {
      "text/plain": [
       "['Carrie', 'Dave']"
      ]
     },
     "execution_count": 84,
     "metadata": {},
     "output_type": "execute_result"
    }
   ],
   "source": [
    "bus1 = Hauntedbus(['Alice', 'Bill'])\n",
    "bus1.passengers\n",
    "bus1.pick('Charlie')\n",
    "bus1.drop('Alice')\n",
    "bus2 = Hauntedbus()\n",
    "bus2.pick('Carrie')\n",
    "bus2\n",
    "bus3 = Hauntedbus()\n",
    "bus3.pick('Dave')\n",
    "bus3"
   ]
  },
  {
   "cell_type": "code",
   "execution_count": 85,
   "metadata": {},
   "outputs": [
    {
     "data": {
      "text/plain": [
       "['Carrie', 'Dave']"
      ]
     },
     "execution_count": 85,
     "metadata": {},
     "output_type": "execute_result"
    }
   ],
   "source": [
    "bus3"
   ]
  },
  {
   "cell_type": "code",
   "execution_count": null,
   "metadata": {},
   "outputs": [],
   "source": [
    "dir(Hauntedbus.__init__)\n",
    "Hauntedbus.__init__.__defaults__"
   ]
  },
  {
   "cell_type": "code",
   "execution_count": 86,
   "metadata": {},
   "outputs": [],
   "source": [
    "#when initialized with a value like in bus1\n",
    "#The defaults are assigned and references to a memory point\n",
    "#while in bus2 we start with an empty lis\n",
    "#then we assign to than list\n",
    "#also when we initialize the bus3 we start with an empty list\n",
    "#This empty list references to the same empty list as in bus2 further which was modified with adding values\n",
    "#So even after assigning values to the bus3 when we search for bus3 value it returns the value added by the bus2\n",
    "#ALIASING in EFFECt"
   ]
  },
  {
   "cell_type": "code",
   "execution_count": 101,
   "metadata": {},
   "outputs": [],
   "source": [
    "#Perils of mutating received arguments\n",
    "class TwilightBus:\n",
    "    \"\"\"A bus model that makes passengers vanish\"\"\"\n",
    "\n",
    "    def __init__(self, passengers=None):\n",
    "        if passengers is None:\n",
    "            self.passengers = []\n",
    "        else:\n",
    "            self.passengers = passengers\n",
    "\n",
    "    def pick(self, name):\n",
    "        self.passengers.append(name)\n",
    "\n",
    "    def drop(self, name):\n",
    "        self.passengers.remove(name)\n",
    "            \n",
    "    def __repr__(self) -> str:\n",
    "        return f'{self.passengers}'"
   ]
  },
  {
   "cell_type": "code",
   "execution_count": 102,
   "metadata": {},
   "outputs": [],
   "source": [
    "basketball_team = ['Sue','Tina', 'Diana', 'Maya', 'Pat']\n",
    "\n",
    "bus = TwilightBus(basketball_team)\n",
    "bus.drop('Tina')"
   ]
  },
  {
   "cell_type": "code",
   "execution_count": 104,
   "metadata": {},
   "outputs": [
    {
     "data": {
      "text/plain": [
       "(['Sue', 'Diana', 'Maya', 'Pat'], ['Sue', 'Diana', 'Maya', 'Pat'])"
      ]
     },
     "execution_count": 104,
     "metadata": {},
     "output_type": "execute_result"
    }
   ],
   "source": [
    "bus #Tina is removed\n",
    "#but Tina is also removed from the basketball_team\n",
    "bus, basketball_team"
   ]
  },
  {
   "cell_type": "code",
   "execution_count": 105,
   "metadata": {},
   "outputs": [],
   "source": [
    "#The solution to this problem lies in creating a copy of the argument and then modifying according to our needs"
   ]
  },
  {
   "cell_type": "code",
   "execution_count": 106,
   "metadata": {},
   "outputs": [],
   "source": [
    "#simply by adding the follwing\n",
    "\n",
    "def __init__(self, passengers):\n",
    "    if passengers is None:\n",
    "        self.passengers = []\n",
    "    else:\n",
    "        self.passengers = list(passengers)"
   ]
  },
  {
   "cell_type": "markdown",
   "metadata": {},
   "source": [
    "### del and Garbage Collection"
   ]
  },
  {
   "cell_type": "code",
   "execution_count": 108,
   "metadata": {},
   "outputs": [
    {
     "data": {
      "text/plain": [
       "[1, 2]"
      ]
     },
     "execution_count": 108,
     "metadata": {},
     "output_type": "execute_result"
    }
   ],
   "source": [
    "#Objects are never explicitly destroyed; however when they become unreachabele they may be garbage-collected\n",
    "\n",
    "a = [1,2]\n",
    "b = a  #reference to a\n",
    "del a\n",
    "b   #only reference was deleted and not the object"
   ]
  },
  {
   "cell_type": "code",
   "execution_count": 2,
   "metadata": {},
   "outputs": [
    {
     "data": {
      "text/plain": [
       "True"
      ]
     },
     "execution_count": 2,
     "metadata": {},
     "output_type": "execute_result"
    }
   ],
   "source": [
    "#watching the end of an object when no more references point to it\n",
    "\n",
    "import weakref\n",
    "s1 = {1,2, 3}\n",
    "s2 = s1\n",
    "def bye():\n",
    "    print('...like tears in teh rain.')\n",
    "\n",
    "ender = weakref.finalize(s1, bye)\n",
    "ender.alive"
   ]
  },
  {
   "cell_type": "code",
   "execution_count": 3,
   "metadata": {},
   "outputs": [
    {
     "data": {
      "text/plain": [
       "True"
      ]
     },
     "execution_count": 3,
     "metadata": {},
     "output_type": "execute_result"
    }
   ],
   "source": [
    "del s1\n",
    "ender.alive"
   ]
  },
  {
   "cell_type": "code",
   "execution_count": 4,
   "metadata": {},
   "outputs": [
    {
     "name": "stdout",
     "output_type": "stream",
     "text": [
      "...like tears in teh rain.\n"
     ]
    },
    {
     "data": {
      "text/plain": [
       "False"
      ]
     },
     "execution_count": 4,
     "metadata": {},
     "output_type": "execute_result"
    }
   ],
   "source": [
    "s2 = 'spam'\n",
    "ender.alive"
   ]
  },
  {
   "cell_type": "code",
   "execution_count": null,
   "metadata": {},
   "outputs": [],
   "source": []
  }
 ],
 "metadata": {
  "kernelspec": {
   "display_name": "pylatest",
   "language": "python",
   "name": "python3"
  },
  "language_info": {
   "codemirror_mode": {
    "name": "ipython",
    "version": 3
   },
   "file_extension": ".py",
   "mimetype": "text/x-python",
   "name": "python",
   "nbconvert_exporter": "python",
   "pygments_lexer": "ipython3",
   "version": "3.11.0"
  },
  "orig_nbformat": 4,
  "vscode": {
   "interpreter": {
    "hash": "5ee8ddc627afdb3e464b957ff205c0c7ba35df3a73d146152ad7c4b158eb19da"
   }
  }
 },
 "nbformat": 4,
 "nbformat_minor": 2
}
