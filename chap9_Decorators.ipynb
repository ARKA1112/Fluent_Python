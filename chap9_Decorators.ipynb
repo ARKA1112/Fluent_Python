{
 "cells": [
  {
   "cell_type": "markdown",
   "metadata": {},
   "source": [
    "Decorators 101"
   ]
  },
  {
   "cell_type": "code",
   "execution_count": 9,
   "metadata": {},
   "outputs": [],
   "source": [
    "#Example\n",
    "\n",
    "def deco(func):\n",
    "    def inner():\n",
    "        print('running inner')\n",
    "        func()\n",
    "    return inner\n",
    "\n",
    "@deco\n",
    "def target():\n",
    "    print(f'running target')"
   ]
  },
  {
   "cell_type": "code",
   "execution_count": 10,
   "metadata": {},
   "outputs": [
    {
     "name": "stdout",
     "output_type": "stream",
     "text": [
      "running inner\n",
      "running target\n"
     ]
    }
   ],
   "source": [
    "target()"
   ]
  },
  {
   "cell_type": "code",
   "execution_count": 11,
   "metadata": {},
   "outputs": [
    {
     "data": {
      "text/plain": [
       "<function __main__.deco.<locals>.inner()>"
      ]
     },
     "execution_count": 11,
     "metadata": {},
     "output_type": "execute_result"
    }
   ],
   "source": [
    "target"
   ]
  },
  {
   "cell_type": "code",
   "execution_count": 12,
   "metadata": {},
   "outputs": [
    {
     "name": "stdout",
     "output_type": "stream",
     "text": [
      "running register<function f1 at 0x7f506e511a80>\n",
      "running register<function f2 at 0x7f506e511c60>\n",
      "running register<function f3 at 0x7f506e512ac0>\n"
     ]
    }
   ],
   "source": [
    "import registration  #decorators usually run at runtime\n",
    "#refer to registration.py"
   ]
  },
  {
   "cell_type": "code",
   "execution_count": 6,
   "metadata": {},
   "outputs": [],
   "source": [
    "b = 6\n",
    "def f2(a):\n",
    "    print(a);\n",
    "    print(b);\n",
    "    b=9;"
   ]
  },
  {
   "cell_type": "code",
   "execution_count": 8,
   "metadata": {},
   "outputs": [],
   "source": [
    "#f2(3) runs to error because the b here refers to nothing while it is quite tempting to confuse the inner b with the b =6, it can only access and modify that variable if we refer to that variable explicitly"
   ]
  },
  {
   "cell_type": "code",
   "execution_count": 24,
   "metadata": {},
   "outputs": [],
   "source": [
    "#The correct response will be\n",
    "b = 9;\n",
    "def f3(a):\n",
    "    global b;\n",
    "    c=0;\n",
    "    c+=b\n",
    "    print(a)\n",
    "    c=7\n",
    "    print(c)\n",
    "    return b\n"
   ]
  },
  {
   "cell_type": "code",
   "execution_count": null,
   "metadata": {},
   "outputs": [],
   "source": [
    "f3(5)\n",
    "\n",
    "#The module global scope\n",
    "# It is made of names assigned to values outside of any class or function block.\n",
    "\n",
    "#The f3 function local scope\n",
    "#Made of names assigned to values as parameters, or directly in the body of the function.\n",
    "\n",
    "#using the dis module we will dissasemble the bytecode of python functions\n",
    "from dis import dis\n",
    "dis(f2)"
   ]
  },
  {
   "cell_type": "code",
   "execution_count": null,
   "metadata": {},
   "outputs": [],
   "source": [
    "dis(f3)"
   ]
  },
  {
   "cell_type": "code",
   "execution_count": 37,
   "metadata": {},
   "outputs": [],
   "source": [
    "class Averager():\n",
    "    def __init__(self):\n",
    "        self.series = []\n",
    "\n",
    "    def __call__(self, *args: any, **kwds: any) -> any:\n",
    "        self.series.append(*args)\n",
    "        total = sum(self.series)\n",
    "        return total/len(self.series)"
   ]
  },
  {
   "cell_type": "code",
   "execution_count": 40,
   "metadata": {},
   "outputs": [
    {
     "data": {
      "text/plain": [
       "40.0"
      ]
     },
     "execution_count": 40,
     "metadata": {},
     "output_type": "execute_result"
    }
   ],
   "source": [
    "avg = Averager()\n",
    "avg(10)\n",
    "avg(11)\n",
    "avg(99)"
   ]
  },
  {
   "cell_type": "code",
   "execution_count": 1,
   "metadata": {},
   "outputs": [],
   "source": [
    "#This is a functional implementation using the higher order function\n",
    "\n",
    "def make_averager():\n",
    "    series = []\n",
    "\n",
    "    def averager(new_value:any) -> any:\n",
    "        series.append(int(new_value))\n",
    "        total = sum(series)\n",
    "        return total/len(series)\n",
    "    return averager"
   ]
  },
  {
   "cell_type": "code",
   "execution_count": 2,
   "metadata": {},
   "outputs": [
    {
     "data": {
      "text/plain": [
       "5.0"
      ]
     },
     "execution_count": 2,
     "metadata": {},
     "output_type": "execute_result"
    }
   ],
   "source": [
    "I = make_averager()\n",
    "I('1')\n",
    "I(9)"
   ]
  },
  {
   "cell_type": "code",
   "execution_count": 7,
   "metadata": {},
   "outputs": [
    {
     "data": {
      "text/plain": [
       "('new_value', 'total')"
      ]
     },
     "execution_count": 7,
     "metadata": {},
     "output_type": "execute_result"
    }
   ],
   "source": [
    "I.__code__.co_varnames\n",
    "#way to check the covariables names"
   ]
  },
  {
   "cell_type": "code",
   "execution_count": 9,
   "metadata": {},
   "outputs": [
    {
     "data": {
      "text/plain": [
       "('series',)"
      ]
     },
     "execution_count": 9,
     "metadata": {},
     "output_type": "execute_result"
    }
   ],
   "source": [
    "I.__code__.co_freevars"
   ]
  },
  {
   "cell_type": "code",
   "execution_count": 15,
   "metadata": {},
   "outputs": [
    {
     "data": {
      "text/plain": [
       "[1, 9]"
      ]
     },
     "execution_count": 15,
     "metadata": {},
     "output_type": "execute_result"
    }
   ],
   "source": [
    "I.__closure__[0].cell_contents\n",
    "#shows the cell contents"
   ]
  },
  {
   "cell_type": "markdown",
   "metadata": {},
   "source": [
    "The nonlocal Declaration"
   ]
  },
  {
   "cell_type": "code",
   "execution_count": 28,
   "metadata": {},
   "outputs": [],
   "source": [
    "def make_averager():\n",
    "    count = 0\n",
    "    total = 0\n",
    "\n",
    "    def averager(new_value):\n",
    "        nonlocal count,total\n",
    "        count += 1\n",
    "        total += new_value\n",
    "        return total / count\n",
    "\n",
    "    return averager\n",
    "\n",
    "\n",
    "#if the nonlocal term was never added we couldnt modify the count as well as the total cos they are immutable types, hence in order to make theme behave as  local we can add the nonlocal term to it"
   ]
  },
  {
   "cell_type": "code",
   "execution_count": 31,
   "metadata": {},
   "outputs": [
    {
     "name": "stdout",
     "output_type": "stream",
     "text": [
      "              0 COPY_FREE_VARS           2\n",
      "\n",
      "  6           2 RESUME                   0\n",
      "\n",
      "  8           4 LOAD_DEREF               2 (count)\n",
      "              6 LOAD_CONST               1 (1)\n",
      "              8 BINARY_OP               13 (+=)\n",
      "             12 STORE_DEREF              2 (count)\n",
      "\n",
      "  9          14 LOAD_DEREF               3 (total)\n",
      "             16 LOAD_FAST                0 (new_value)\n",
      "             18 BINARY_OP               13 (+=)\n",
      "             22 STORE_DEREF              3 (total)\n",
      "\n",
      " 10          24 LOAD_FAST                1 (pund)\n",
      "             26 LOAD_CONST               1 (1)\n",
      "             28 BINARY_OP               13 (+=)\n",
      "             32 STORE_FAST               1 (pund)\n",
      "\n",
      " 11          34 LOAD_DEREF               3 (total)\n",
      "             36 LOAD_DEREF               2 (count)\n",
      "             38 BINARY_OP               11 (/)\n",
      "             42 RETURN_VALUE\n"
     ]
    }
   ],
   "source": [
    "from dis import dis\n",
    "dis(make_averager())"
   ]
  },
  {
   "cell_type": "markdown",
   "metadata": {},
   "source": [
    "Implementing a Simple Decorator"
   ]
  },
  {
   "cell_type": "code",
   "execution_count": 33,
   "metadata": {},
   "outputs": [],
   "source": [
    "from clockdeco0 import clock\n",
    "import time\n",
    "\n",
    "@clock\n",
    "def snooze(seconds):\n",
    "    time.sleep(seconds)\n",
    "\n",
    "\n",
    "@clock\n",
    "def factorial(arg:int) -> int:\n",
    "    return 1 if arg<2 else arg*factorial(arg-1)"
   ]
  },
  {
   "cell_type": "code",
   "execution_count": 35,
   "metadata": {},
   "outputs": [
    {
     "name": "stdout",
     "output_type": "stream",
     "text": [
      "[5.00011845s] snooze (5) -> None\n"
     ]
    }
   ],
   "source": [
    "snooze(5)"
   ]
  },
  {
   "cell_type": "code",
   "execution_count": 36,
   "metadata": {},
   "outputs": [
    {
     "name": "stdout",
     "output_type": "stream",
     "text": [
      "**************************************** calling snooze\n",
      "[5.00012432s] snooze (5) -> None\n",
      "**************************************** calling factorial(6)\n",
      "[0.00000220s] factorial (1) -> 1\n",
      "[0.00007474s] factorial (2) -> 2\n",
      "[0.00014452s] factorial (3) -> 6\n",
      "[0.00019044s] factorial (4) -> 24\n",
      "[0.00024251s] factorial (5) -> 120\n",
      "[0.00029989s] factorial (6) -> 720\n"
     ]
    },
    {
     "data": {
      "text/plain": [
       "720"
      ]
     },
     "execution_count": 36,
     "metadata": {},
     "output_type": "execute_result"
    }
   ],
   "source": [
    "print('*'*40, 'calling snooze')\n",
    "snooze(5)\n",
    "print('*'*40,'calling factorial(6)')\n",
    "factorial(6)"
   ]
  },
  {
   "cell_type": "markdown",
   "metadata": {},
   "source": [
    "Decorators in the Standard Library"
   ]
  },
  {
   "cell_type": "markdown",
   "metadata": {},
   "source": []
  }
 ],
 "metadata": {
  "kernelspec": {
   "display_name": "pylatest",
   "language": "python",
   "name": "python3"
  },
  "language_info": {
   "codemirror_mode": {
    "name": "ipython",
    "version": 3
   },
   "file_extension": ".py",
   "mimetype": "text/x-python",
   "name": "python",
   "nbconvert_exporter": "python",
   "pygments_lexer": "ipython3",
   "version": "3.11.0 | packaged by conda-forge | (main, Oct 25 2022, 06:24:40) [GCC 10.4.0]"
  },
  "orig_nbformat": 4,
  "vscode": {
   "interpreter": {
    "hash": "5ee8ddc627afdb3e464b957ff205c0c7ba35df3a73d146152ad7c4b158eb19da"
   }
  }
 },
 "nbformat": 4,
 "nbformat_minor": 2
}
